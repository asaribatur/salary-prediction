{
 "cells": [
  {
   "attachments": {},
   "cell_type": "markdown",
   "id": "956c8f06",
   "metadata": {},
   "source": [
    "# KÜTÜPHANE VE AYARLAMALAR"
   ]
  },
  {
   "cell_type": "code",
   "execution_count": 1,
   "id": "e285a51b-b1d5-4bba-a551-e82483a680ee",
   "metadata": {},
   "outputs": [],
   "source": [
    "# ################# I M P O R T S ################# #\n",
    "import numpy as np\n",
    "import pandas as pd\n",
    "from matplotlib import pyplot as plt\n",
    "%matplotlib inline\n",
    "\n",
    "from sklearn.ensemble import GradientBoostingRegressor, VotingClassifier\n",
    "from sklearn.exceptions import ConvergenceWarning\n",
    "from sklearn.metrics import mean_squared_error, mean_absolute_error, r2_score\n",
    "from sklearn.model_selection import train_test_split, GridSearchCV, cross_val_score\n",
    "\n",
    "import joblib\n",
    "import warnings\n",
    "\n",
    "# ################# S E T T I N G S ################# #\n",
    "pd.set_option('display.max_columns', None)\n",
    "pd.set_option('display.width', 1000)\n",
    "pd.set_option('display.float_format', lambda x: '%.3f' % x)"
   ]
  },
  {
   "cell_type": "code",
   "execution_count": 2,
   "id": "62178d12-cb7e-4d6b-8687-65a3637124a9",
   "metadata": {},
   "outputs": [],
   "source": [
    "df=pd.read_csv(r\"data/step6_encoded_remastered.csv\")"
   ]
  },
  {
   "cell_type": "code",
   "execution_count": 3,
   "id": "075b3564-fe94-471a-a3b1-b27a255d8114",
   "metadata": {},
   "outputs": [
    {
     "data": {
      "text/html": [
       "<div>\n",
       "<style scoped>\n",
       "    .dataframe tbody tr th:only-of-type {\n",
       "        vertical-align: middle;\n",
       "    }\n",
       "\n",
       "    .dataframe tbody tr th {\n",
       "        vertical-align: top;\n",
       "    }\n",
       "\n",
       "    .dataframe thead th {\n",
       "        text-align: right;\n",
       "    }\n",
       "</style>\n",
       "<table border=\"1\" class=\"dataframe\">\n",
       "  <thead>\n",
       "    <tr style=\"text-align: right;\">\n",
       "      <th></th>\n",
       "      <th>LEVEL</th>\n",
       "      <th>EXPERIENCE</th>\n",
       "      <th>POSITION_CTO</th>\n",
       "      <th>POSITION_DATA SCIENTIST</th>\n",
       "      <th>POSITION_DATABASE ADMIN</th>\n",
       "      <th>POSITION_DEVOPS ENGINEER</th>\n",
       "      <th>POSITION_EMBEDDED SOFTWARE DEVELOPER</th>\n",
       "      <th>POSITION_FRONT-END DEVELOPER</th>\n",
       "      <th>POSITION_FULL STACK DEVELOPER</th>\n",
       "      <th>POSITION_GAME DEVELOPER</th>\n",
       "      <th>POSITION_MOBILE APPLICATION DEVELOPER</th>\n",
       "      <th>POSITION_OTHER</th>\n",
       "      <th>POSITION_QA / TEST AUTOMATION DEVELOPER</th>\n",
       "      <th>POSITION_SOFTWARE ARCHITECT</th>\n",
       "      <th>POSITION_SOFTWARE DEVELOPMENT MANAGER</th>\n",
       "      <th>POSITION_TEAM / TECH LEAD</th>\n",
       "      <th>GENDER_Kadın</th>\n",
       "      <th>COMPANY_Dijital / Reklam Ajansı</th>\n",
       "      <th>COMPANY_E-Ticaret</th>\n",
       "      <th>COMPANY_Fintech / Finans</th>\n",
       "      <th>COMPANY_Kurumsal</th>\n",
       "      <th>COMPANY_Outsource</th>\n",
       "      <th>COMPANY_Oyun</th>\n",
       "      <th>COMPANY_Startup</th>\n",
       "      <th>COMPANY_Yazılım &amp; Teknoloji</th>\n",
       "      <th>WORK_TYPE_Geçici Remote</th>\n",
       "      <th>WORK_TYPE_Hibrit</th>\n",
       "      <th>WORK_TYPE_Ofis</th>\n",
       "      <th>WORK_TYPE_Remote</th>\n",
       "      <th>CITY_yurt_ici</th>\n",
       "      <th>CURRENCY_GBP</th>\n",
       "      <th>CURRENCY_TRY</th>\n",
       "      <th>CURRENCY_USD</th>\n",
       "      <th>SALARY_AVG_TL</th>\n",
       "    </tr>\n",
       "  </thead>\n",
       "  <tbody>\n",
       "    <tr>\n",
       "      <th>265</th>\n",
       "      <td>2</td>\n",
       "      <td>5</td>\n",
       "      <td>0</td>\n",
       "      <td>0</td>\n",
       "      <td>0</td>\n",
       "      <td>0</td>\n",
       "      <td>0</td>\n",
       "      <td>0</td>\n",
       "      <td>1</td>\n",
       "      <td>0</td>\n",
       "      <td>0</td>\n",
       "      <td>0</td>\n",
       "      <td>0</td>\n",
       "      <td>0</td>\n",
       "      <td>0</td>\n",
       "      <td>0</td>\n",
       "      <td>0</td>\n",
       "      <td>0</td>\n",
       "      <td>0</td>\n",
       "      <td>0</td>\n",
       "      <td>1</td>\n",
       "      <td>0</td>\n",
       "      <td>0</td>\n",
       "      <td>0</td>\n",
       "      <td>0</td>\n",
       "      <td>0</td>\n",
       "      <td>0</td>\n",
       "      <td>0</td>\n",
       "      <td>1</td>\n",
       "      <td>1</td>\n",
       "      <td>0</td>\n",
       "      <td>1</td>\n",
       "      <td>0</td>\n",
       "      <td>25499</td>\n",
       "    </tr>\n",
       "    <tr>\n",
       "      <th>870</th>\n",
       "      <td>2</td>\n",
       "      <td>4</td>\n",
       "      <td>0</td>\n",
       "      <td>0</td>\n",
       "      <td>0</td>\n",
       "      <td>0</td>\n",
       "      <td>0</td>\n",
       "      <td>0</td>\n",
       "      <td>1</td>\n",
       "      <td>0</td>\n",
       "      <td>0</td>\n",
       "      <td>0</td>\n",
       "      <td>0</td>\n",
       "      <td>0</td>\n",
       "      <td>0</td>\n",
       "      <td>0</td>\n",
       "      <td>0</td>\n",
       "      <td>0</td>\n",
       "      <td>0</td>\n",
       "      <td>0</td>\n",
       "      <td>1</td>\n",
       "      <td>0</td>\n",
       "      <td>0</td>\n",
       "      <td>0</td>\n",
       "      <td>0</td>\n",
       "      <td>0</td>\n",
       "      <td>0</td>\n",
       "      <td>0</td>\n",
       "      <td>0</td>\n",
       "      <td>1</td>\n",
       "      <td>0</td>\n",
       "      <td>1</td>\n",
       "      <td>0</td>\n",
       "      <td>22499</td>\n",
       "    </tr>\n",
       "    <tr>\n",
       "      <th>1941</th>\n",
       "      <td>0</td>\n",
       "      <td>0</td>\n",
       "      <td>0</td>\n",
       "      <td>0</td>\n",
       "      <td>0</td>\n",
       "      <td>0</td>\n",
       "      <td>0</td>\n",
       "      <td>0</td>\n",
       "      <td>1</td>\n",
       "      <td>0</td>\n",
       "      <td>0</td>\n",
       "      <td>0</td>\n",
       "      <td>0</td>\n",
       "      <td>0</td>\n",
       "      <td>0</td>\n",
       "      <td>0</td>\n",
       "      <td>0</td>\n",
       "      <td>0</td>\n",
       "      <td>0</td>\n",
       "      <td>0</td>\n",
       "      <td>1</td>\n",
       "      <td>0</td>\n",
       "      <td>0</td>\n",
       "      <td>0</td>\n",
       "      <td>0</td>\n",
       "      <td>0</td>\n",
       "      <td>0</td>\n",
       "      <td>0</td>\n",
       "      <td>0</td>\n",
       "      <td>1</td>\n",
       "      <td>0</td>\n",
       "      <td>1</td>\n",
       "      <td>0</td>\n",
       "      <td>7499</td>\n",
       "    </tr>\n",
       "    <tr>\n",
       "      <th>2356</th>\n",
       "      <td>2</td>\n",
       "      <td>4</td>\n",
       "      <td>0</td>\n",
       "      <td>0</td>\n",
       "      <td>0</td>\n",
       "      <td>0</td>\n",
       "      <td>0</td>\n",
       "      <td>0</td>\n",
       "      <td>0</td>\n",
       "      <td>0</td>\n",
       "      <td>0</td>\n",
       "      <td>0</td>\n",
       "      <td>0</td>\n",
       "      <td>0</td>\n",
       "      <td>0</td>\n",
       "      <td>0</td>\n",
       "      <td>0</td>\n",
       "      <td>0</td>\n",
       "      <td>0</td>\n",
       "      <td>0</td>\n",
       "      <td>1</td>\n",
       "      <td>0</td>\n",
       "      <td>0</td>\n",
       "      <td>0</td>\n",
       "      <td>0</td>\n",
       "      <td>0</td>\n",
       "      <td>0</td>\n",
       "      <td>0</td>\n",
       "      <td>0</td>\n",
       "      <td>0</td>\n",
       "      <td>0</td>\n",
       "      <td>0</td>\n",
       "      <td>0</td>\n",
       "      <td>68135</td>\n",
       "    </tr>\n",
       "    <tr>\n",
       "      <th>3447</th>\n",
       "      <td>2</td>\n",
       "      <td>2</td>\n",
       "      <td>0</td>\n",
       "      <td>0</td>\n",
       "      <td>0</td>\n",
       "      <td>0</td>\n",
       "      <td>0</td>\n",
       "      <td>0</td>\n",
       "      <td>0</td>\n",
       "      <td>0</td>\n",
       "      <td>0</td>\n",
       "      <td>0</td>\n",
       "      <td>0</td>\n",
       "      <td>0</td>\n",
       "      <td>0</td>\n",
       "      <td>0</td>\n",
       "      <td>0</td>\n",
       "      <td>0</td>\n",
       "      <td>0</td>\n",
       "      <td>0</td>\n",
       "      <td>0</td>\n",
       "      <td>0</td>\n",
       "      <td>0</td>\n",
       "      <td>1</td>\n",
       "      <td>0</td>\n",
       "      <td>0</td>\n",
       "      <td>0</td>\n",
       "      <td>0</td>\n",
       "      <td>1</td>\n",
       "      <td>1</td>\n",
       "      <td>0</td>\n",
       "      <td>0</td>\n",
       "      <td>1</td>\n",
       "      <td>65195</td>\n",
       "    </tr>\n",
       "    <tr>\n",
       "      <th>3596</th>\n",
       "      <td>2</td>\n",
       "      <td>4</td>\n",
       "      <td>0</td>\n",
       "      <td>1</td>\n",
       "      <td>0</td>\n",
       "      <td>0</td>\n",
       "      <td>0</td>\n",
       "      <td>0</td>\n",
       "      <td>0</td>\n",
       "      <td>0</td>\n",
       "      <td>0</td>\n",
       "      <td>0</td>\n",
       "      <td>0</td>\n",
       "      <td>0</td>\n",
       "      <td>0</td>\n",
       "      <td>0</td>\n",
       "      <td>0</td>\n",
       "      <td>0</td>\n",
       "      <td>0</td>\n",
       "      <td>0</td>\n",
       "      <td>0</td>\n",
       "      <td>0</td>\n",
       "      <td>0</td>\n",
       "      <td>1</td>\n",
       "      <td>0</td>\n",
       "      <td>0</td>\n",
       "      <td>0</td>\n",
       "      <td>0</td>\n",
       "      <td>1</td>\n",
       "      <td>1</td>\n",
       "      <td>0</td>\n",
       "      <td>0</td>\n",
       "      <td>1</td>\n",
       "      <td>195605</td>\n",
       "    </tr>\n",
       "    <tr>\n",
       "      <th>4107</th>\n",
       "      <td>2</td>\n",
       "      <td>3</td>\n",
       "      <td>0</td>\n",
       "      <td>0</td>\n",
       "      <td>0</td>\n",
       "      <td>0</td>\n",
       "      <td>0</td>\n",
       "      <td>0</td>\n",
       "      <td>0</td>\n",
       "      <td>0</td>\n",
       "      <td>0</td>\n",
       "      <td>0</td>\n",
       "      <td>0</td>\n",
       "      <td>0</td>\n",
       "      <td>0</td>\n",
       "      <td>0</td>\n",
       "      <td>0</td>\n",
       "      <td>0</td>\n",
       "      <td>0</td>\n",
       "      <td>0</td>\n",
       "      <td>1</td>\n",
       "      <td>0</td>\n",
       "      <td>0</td>\n",
       "      <td>0</td>\n",
       "      <td>0</td>\n",
       "      <td>0</td>\n",
       "      <td>1</td>\n",
       "      <td>0</td>\n",
       "      <td>0</td>\n",
       "      <td>1</td>\n",
       "      <td>0</td>\n",
       "      <td>1</td>\n",
       "      <td>0</td>\n",
       "      <td>24499</td>\n",
       "    </tr>\n",
       "    <tr>\n",
       "      <th>4171</th>\n",
       "      <td>2</td>\n",
       "      <td>5</td>\n",
       "      <td>0</td>\n",
       "      <td>0</td>\n",
       "      <td>0</td>\n",
       "      <td>0</td>\n",
       "      <td>0</td>\n",
       "      <td>0</td>\n",
       "      <td>0</td>\n",
       "      <td>0</td>\n",
       "      <td>0</td>\n",
       "      <td>0</td>\n",
       "      <td>0</td>\n",
       "      <td>0</td>\n",
       "      <td>0</td>\n",
       "      <td>0</td>\n",
       "      <td>0</td>\n",
       "      <td>0</td>\n",
       "      <td>0</td>\n",
       "      <td>0</td>\n",
       "      <td>1</td>\n",
       "      <td>0</td>\n",
       "      <td>0</td>\n",
       "      <td>0</td>\n",
       "      <td>0</td>\n",
       "      <td>0</td>\n",
       "      <td>0</td>\n",
       "      <td>1</td>\n",
       "      <td>0</td>\n",
       "      <td>1</td>\n",
       "      <td>0</td>\n",
       "      <td>1</td>\n",
       "      <td>0</td>\n",
       "      <td>24499</td>\n",
       "    </tr>\n",
       "  </tbody>\n",
       "</table>\n",
       "</div>"
      ],
      "text/plain": [
       "      LEVEL  EXPERIENCE  POSITION_CTO  POSITION_DATA SCIENTIST  POSITION_DATABASE ADMIN  POSITION_DEVOPS ENGINEER  POSITION_EMBEDDED SOFTWARE DEVELOPER  POSITION_FRONT-END DEVELOPER  POSITION_FULL STACK DEVELOPER  POSITION_GAME DEVELOPER  POSITION_MOBILE APPLICATION DEVELOPER  POSITION_OTHER  POSITION_QA / TEST AUTOMATION DEVELOPER  POSITION_SOFTWARE ARCHITECT  POSITION_SOFTWARE DEVELOPMENT MANAGER  POSITION_TEAM / TECH LEAD  GENDER_Kadın  COMPANY_Dijital / Reklam Ajansı  COMPANY_E-Ticaret  COMPANY_Fintech / Finans  COMPANY_Kurumsal  COMPANY_Outsource  COMPANY_Oyun  COMPANY_Startup  COMPANY_Yazılım & Teknoloji  WORK_TYPE_Geçici Remote  WORK_TYPE_Hibrit  WORK_TYPE_Ofis  WORK_TYPE_Remote  CITY_yurt_ici  CURRENCY_GBP  CURRENCY_TRY  CURRENCY_USD  SALARY_AVG_TL\n",
       "265       2           5             0                        0                        0                         0                                     0                             0                              1                        0                                      0               0                                        0                            0                                      0                          0             0                                0                  0                         0                 1                  0             0                0                            0                        0                 0               0                 1              1             0             1             0          25499\n",
       "870       2           4             0                        0                        0                         0                                     0                             0                              1                        0                                      0               0                                        0                            0                                      0                          0             0                                0                  0                         0                 1                  0             0                0                            0                        0                 0               0                 0              1             0             1             0          22499\n",
       "1941      0           0             0                        0                        0                         0                                     0                             0                              1                        0                                      0               0                                        0                            0                                      0                          0             0                                0                  0                         0                 1                  0             0                0                            0                        0                 0               0                 0              1             0             1             0           7499\n",
       "2356      2           4             0                        0                        0                         0                                     0                             0                              0                        0                                      0               0                                        0                            0                                      0                          0             0                                0                  0                         0                 1                  0             0                0                            0                        0                 0               0                 0              0             0             0             0          68135\n",
       "3447      2           2             0                        0                        0                         0                                     0                             0                              0                        0                                      0               0                                        0                            0                                      0                          0             0                                0                  0                         0                 0                  0             0                1                            0                        0                 0               0                 1              1             0             0             1          65195\n",
       "3596      2           4             0                        1                        0                         0                                     0                             0                              0                        0                                      0               0                                        0                            0                                      0                          0             0                                0                  0                         0                 0                  0             0                1                            0                        0                 0               0                 1              1             0             0             1         195605\n",
       "4107      2           3             0                        0                        0                         0                                     0                             0                              0                        0                                      0               0                                        0                            0                                      0                          0             0                                0                  0                         0                 1                  0             0                0                            0                        0                 1               0                 0              1             0             1             0          24499\n",
       "4171      2           5             0                        0                        0                         0                                     0                             0                              0                        0                                      0               0                                        0                            0                                      0                          0             0                                0                  0                         0                 1                  0             0                0                            0                        0                 0               1                 0              1             0             1             0          24499"
      ]
     },
     "execution_count": 3,
     "metadata": {},
     "output_type": "execute_result"
    }
   ],
   "source": [
    "# Rasgele 8 gözlem seçip gözlemleyelim\n",
    "df.sample(8).sort_index()"
   ]
  },
  {
   "cell_type": "code",
   "execution_count": 4,
   "id": "de00b0e8-5651-4b47-8613-e9f38fb4377f",
   "metadata": {},
   "outputs": [
    {
     "data": {
      "text/plain": [
       "Index(['LEVEL', 'EXPERIENCE', 'POSITION_CTO', 'POSITION_DATA SCIENTIST', 'POSITION_DATABASE ADMIN', 'POSITION_DEVOPS ENGINEER', 'POSITION_EMBEDDED SOFTWARE DEVELOPER', 'POSITION_FRONT-END DEVELOPER', 'POSITION_FULL STACK DEVELOPER', 'POSITION_GAME DEVELOPER', 'POSITION_MOBILE APPLICATION DEVELOPER', 'POSITION_OTHER', 'POSITION_QA / TEST AUTOMATION DEVELOPER', 'POSITION_SOFTWARE ARCHITECT', 'POSITION_SOFTWARE DEVELOPMENT MANAGER', 'POSITION_TEAM / TECH LEAD', 'GENDER_Kadın', 'COMPANY_Dijital / Reklam Ajansı', 'COMPANY_E-Ticaret', 'COMPANY_Fintech / Finans', 'COMPANY_Kurumsal', 'COMPANY_Outsource', 'COMPANY_Oyun', 'COMPANY_Startup', 'COMPANY_Yazılım & Teknoloji', 'WORK_TYPE_Geçici Remote', 'WORK_TYPE_Hibrit', 'WORK_TYPE_Ofis', 'WORK_TYPE_Remote', 'CITY_yurt_ici', 'CURRENCY_GBP', 'CURRENCY_TRY', 'CURRENCY_USD', 'SALARY_AVG_TL'], dtype='object')"
      ]
     },
     "execution_count": 4,
     "metadata": {},
     "output_type": "execute_result"
    }
   ],
   "source": [
    "# Tüm değişkenleri görelim\n",
    "df.columns"
   ]
  },
  {
   "attachments": {},
   "cell_type": "markdown",
   "id": "b0983e99",
   "metadata": {},
   "source": [
    "# GRADIENT BOOSTING REGRESSOR"
   ]
  },
  {
   "attachments": {},
   "cell_type": "markdown",
   "id": "bc2d86b8",
   "metadata": {
    "collapsed": false
   },
   "source": [
    "### 1. Model Kurma"
   ]
  },
  {
   "cell_type": "code",
   "execution_count": 5,
   "id": "96930b13",
   "metadata": {},
   "outputs": [],
   "source": [
    "# Bağımlı değişkeni dışarıda bırakıp geride kalan tüm (bağımsız) değişkenleri bir df'e atayalım\n",
    "X = df.drop([\"SALARY_AVG_TL\"], axis=1)\n",
    "\n",
    "# Bağımlı değişkenimizi ayrı bir df'e atayalım\n",
    "y = df[[\"SALARY_AVG_TL\"]].values.ravel()"
   ]
  },
  {
   "cell_type": "code",
   "execution_count": 6,
   "id": "dc5d4f2a-f990-4c93-bdc4-c306af586a8f",
   "metadata": {},
   "outputs": [],
   "source": [
    "X_train, X_test, y_train, y_test = train_test_split(X, y, test_size=0.2, random_state=40)"
   ]
  },
  {
   "cell_type": "code",
   "execution_count": 7,
   "id": "7a42d51e",
   "metadata": {},
   "outputs": [
    {
     "data": {
      "text/plain": [
       "Index(['LEVEL', 'EXPERIENCE', 'POSITION_CTO', 'POSITION_DATA SCIENTIST', 'POSITION_DATABASE ADMIN', 'POSITION_DEVOPS ENGINEER', 'POSITION_EMBEDDED SOFTWARE DEVELOPER', 'POSITION_FRONT-END DEVELOPER', 'POSITION_FULL STACK DEVELOPER', 'POSITION_GAME DEVELOPER', 'POSITION_MOBILE APPLICATION DEVELOPER', 'POSITION_OTHER', 'POSITION_QA / TEST AUTOMATION DEVELOPER', 'POSITION_SOFTWARE ARCHITECT', 'POSITION_SOFTWARE DEVELOPMENT MANAGER', 'POSITION_TEAM / TECH LEAD', 'GENDER_Kadın', 'COMPANY_Dijital / Reklam Ajansı', 'COMPANY_E-Ticaret', 'COMPANY_Fintech / Finans', 'COMPANY_Kurumsal', 'COMPANY_Outsource', 'COMPANY_Oyun', 'COMPANY_Startup', 'COMPANY_Yazılım & Teknoloji', 'WORK_TYPE_Geçici Remote', 'WORK_TYPE_Hibrit', 'WORK_TYPE_Ofis', 'WORK_TYPE_Remote', 'CITY_yurt_ici', 'CURRENCY_GBP', 'CURRENCY_TRY', 'CURRENCY_USD'], dtype='object')"
      ]
     },
     "execution_count": 7,
     "metadata": {},
     "output_type": "execute_result"
    }
   ],
   "source": [
    "# Doğrulama\n",
    "X.columns"
   ]
  },
  {
   "cell_type": "code",
   "execution_count": 8,
   "id": "bafa6f2e",
   "metadata": {},
   "outputs": [
    {
     "data": {
      "text/plain": [
       "GradientBoostingRegressor()"
      ]
     },
     "execution_count": 8,
     "metadata": {},
     "output_type": "execute_result"
    }
   ],
   "source": [
    "# Modeli train seti üzerinde kuralım\n",
    "gbr_model = GradientBoostingRegressor()\n",
    "gbr_model.fit(X_train, y_train)"
   ]
  },
  {
   "attachments": {},
   "cell_type": "markdown",
   "id": "011851f4",
   "metadata": {},
   "source": [
    "**Feature Importance Plot**"
   ]
  },
  {
   "cell_type": "code",
   "execution_count": 9,
   "id": "fc1d87d8",
   "metadata": {},
   "outputs": [
    {
     "data": {
      "image/png": "[encoded data removed]",
      "text/plain": [
       "<Figure size 800x600 with 1 Axes>"
      ]
     },
     "metadata": {},
     "output_type": "display_data"
    }
   ],
   "source": [
    "features = X_train.columns\n",
    "importances = gbr_model.feature_importances_\n",
    "indices = np.argsort(importances)\n",
    "\n",
    "# customized number \n",
    "num_features = 10 \n",
    "\n",
    "plt.figure(figsize=(8,6))\n",
    "plt.title('Feature Importance Graph for Gradient Boosting Machine Algorithm')\n",
    "\n",
    "# color_list = ['green', 'gray', 'blue', 'orange', 'magenta', 'purple', 'cyan', 'olive', 'chartreuse', 'red']\n",
    "color_list = [\"#ffffe0\", \"#696969\", \"#dda0dd\", \"#ffa07a\",  \"#e0ffff\", \\\n",
    "\"#4682b4\", \"#008080\", \"#a0522d\", \"#e6e6fa\", \"#ff6347\"]\n",
    "\n",
    "# only plot the customized number of features\n",
    "plt.barh(range(num_features), importances[indices[-num_features:]], color=color_list, align='center')\n",
    "plt.yticks(range(num_features), [features[i] for i in indices[-num_features:]])\n",
    "plt.xlabel('Relative Importance')\n",
    "plt.show()"
   ]
  },
  {
   "attachments": {},
   "cell_type": "markdown",
   "id": "7ec86a13",
   "metadata": {},
   "source": [
    "### 2. İlk Model Başarısını Değerlendirme"
   ]
  },
  {
   "attachments": {},
   "cell_type": "markdown",
   "id": "de9be0ae",
   "metadata": {},
   "source": [
    "**Test RMSE**"
   ]
  },
  {
   "cell_type": "code",
   "execution_count": 10,
   "id": "c3f46073",
   "metadata": {},
   "outputs": [
    {
     "data": {
      "text/plain": [
       "18848.801271076176"
      ]
     },
     "execution_count": 10,
     "metadata": {},
     "output_type": "execute_result"
    }
   ],
   "source": [
    "# Train seti üzerinden kurduğumuz modeli test seti üzerinde kullanıp ort hata miktarına bakıyoruz\n",
    "np.mean((-1) * cross_val_score(gbr_model,\n",
    "                               X_test,\n",
    "                               y_test,\n",
    "                               cv=5,\n",
    "                               scoring='neg_root_mean_squared_error'))"
   ]
  },
  {
   "attachments": {},
   "cell_type": "markdown",
   "id": "4d731685",
   "metadata": {},
   "source": [
    "**Test R Kare**"
   ]
  },
  {
   "cell_type": "code",
   "execution_count": 11,
   "id": "34401b0f",
   "metadata": {},
   "outputs": [
    {
     "data": {
      "text/plain": [
       "0.549971141831868"
      ]
     },
     "execution_count": 11,
     "metadata": {},
     "output_type": "execute_result"
    }
   ],
   "source": [
    "np.mean(cross_val_score(gbr_model,\n",
    "                        X_test,              # Bağımsız değişkenler\n",
    "                        y_test,              # Bağımlı değişken\n",
    "                        cv=5,\n",
    "                        scoring='r2'))"
   ]
  },
  {
   "attachments": {},
   "cell_type": "markdown",
   "id": "37ca852f",
   "metadata": {},
   "source": [
    "### 3. Hiperparametre Optimizasyonu"
   ]
  },
  {
   "attachments": {},
   "cell_type": "markdown",
   "id": "fcddd60c",
   "metadata": {},
   "source": [
    "Modelimizin tahmin başarısını artırmak adına şu parametrelerin varsayılan değerlerini değiştirebiliriz:\n",
    "- n_estimators: 100\n",
    "- max_depth: 3\n",
    "- learning_rate: 0.1\n",
    "- min_samples_split: 2\n",
    "- subsample: 1.0"
   ]
  },
  {
   "attachments": {},
   "cell_type": "markdown",
   "id": "4eda3dd9",
   "metadata": {},
   "source": [
    "Her bir parametre için bu değerleri de içeren ve bu değerlere yakın parametre listeleri oluşturup en iyilerini bulmaya çalışacağız."
   ]
  },
  {
   "cell_type": "code",
   "execution_count": null,
   "id": "ed440f7a",
   "metadata": {},
   "outputs": [],
   "source": [
    "\"\"\"\n",
    "parameters = {'n_estimators'        : [50, 100, 150, 500, 750, 1000],\n",
    "              'max_depth'           : [1, 3, 5, 7, 10],\n",
    "              'learning_rate'       : [0.01, 0.05, 0.1],\n",
    "              'min_samples_split'   : [0.1, 0.3, 0.5, 0.7, 0.8, 1.0],\n",
    "              'subsample'           : [0.5, 0.7, 1.0]\n",
    "             }\n",
    "\"\"\""
   ]
  },
  {
   "cell_type": "code",
   "execution_count": null,
   "id": "890eda06",
   "metadata": {},
   "outputs": [],
   "source": [
    "# Bu işlem biraz uzun sürebilir.\n",
    "\"\"\" \n",
    "grid = GridSearchCV(estimator=gbr_model,    # Model object\n",
    "                    param_grid = parameters,\n",
    "                    cv = 2,     # Number of folds for Cross Validation \n",
    "                    n_jobs=-1)  # Use all processors to maximize performance\n",
    "\n",
    "grid.fit(X_train, y_train)\n",
    "\"\"\""
   ]
  },
  {
   "attachments": {},
   "cell_type": "markdown",
   "id": "341d3f5d",
   "metadata": {},
   "source": [
    "**Bulunan En İyi Parametre Değerleri**"
   ]
  },
  {
   "cell_type": "code",
   "execution_count": 12,
   "id": "99e2ccba",
   "metadata": {},
   "outputs": [],
   "source": [
    "# grid.best_params_"
   ]
  },
  {
   "attachments": {},
   "cell_type": "markdown",
   "id": "cfb72a38",
   "metadata": {},
   "source": [
    "Bulduğumuz en iyi değerleri bir sözlüğe kaydedelim ki her seferinde GridSearchCV çalıştırmak çalıştırmak zorunda kalmayalım."
   ]
  },
  {
   "cell_type": "code",
   "execution_count": 13,
   "id": "7d299016",
   "metadata": {},
   "outputs": [],
   "source": [
    "best_hipars = {'learning_rate': 0.05,\n",
    "               'max_depth': 3,\n",
    "               'min_samples_split': 0.5,\n",
    "               'n_estimators': 750,\n",
    "               'subsample': 0.7}"
   ]
  },
  {
   "cell_type": "code",
   "execution_count": 14,
   "id": "a9b4a376",
   "metadata": {},
   "outputs": [],
   "source": [
    "# Modeli en iyi parametre değerleri ile tekrar fit edelim\n",
    "gbr_final = gbr_model.set_params(**best_hipars).fit(X, y)"
   ]
  },
  {
   "cell_type": "code",
   "execution_count": 15,
   "id": "aa877831",
   "metadata": {},
   "outputs": [
    {
     "data": {
      "text/plain": [
       "{'alpha': 0.9,\n",
       " 'ccp_alpha': 0.0,\n",
       " 'criterion': 'friedman_mse',\n",
       " 'init': None,\n",
       " 'learning_rate': 0.05,\n",
       " 'loss': 'squared_error',\n",
       " 'max_depth': 3,\n",
       " 'max_features': None,\n",
       " 'max_leaf_nodes': None,\n",
       " 'min_impurity_decrease': 0.0,\n",
       " 'min_samples_leaf': 1,\n",
       " 'min_samples_split': 0.5,\n",
       " 'min_weight_fraction_leaf': 0.0,\n",
       " 'n_estimators': 750,\n",
       " 'n_iter_no_change': None,\n",
       " 'random_state': None,\n",
       " 'subsample': 0.7,\n",
       " 'tol': 0.0001,\n",
       " 'validation_fraction': 0.1,\n",
       " 'verbose': 0,\n",
       " 'warm_start': False}"
      ]
     },
     "execution_count": 15,
     "metadata": {},
     "output_type": "execute_result"
    }
   ],
   "source": [
    "# Bakalım yeni parametreler modelimize uygulanmış mı\n",
    "gbr_final.get_params()  # BİNGO !"
   ]
  },
  {
   "attachments": {},
   "cell_type": "markdown",
   "id": "2aa14ba5",
   "metadata": {},
   "source": [
    "### 4. Final Model Başarı Değerlendirme"
   ]
  },
  {
   "attachments": {},
   "cell_type": "markdown",
   "id": "599a61c9",
   "metadata": {},
   "source": [
    "Bakalım yaptığımız değişiklikler model başarısını nasıl etkilemiş"
   ]
  },
  {
   "attachments": {},
   "cell_type": "markdown",
   "id": "c7da2472",
   "metadata": {},
   "source": [
    "**RMSE**"
   ]
  },
  {
   "cell_type": "code",
   "execution_count": 16,
   "id": "7e5da6c0",
   "metadata": {},
   "outputs": [
    {
     "data": {
      "text/plain": [
       "17836.472982455693"
      ]
     },
     "execution_count": 16,
     "metadata": {},
     "output_type": "execute_result"
    }
   ],
   "source": [
    "np.mean((-1) * cross_val_score(gbr_final,\n",
    "                               X_test,\n",
    "                               y_test,\n",
    "                               cv=5,\n",
    "                               scoring='neg_root_mean_squared_error'))"
   ]
  },
  {
   "attachments": {},
   "cell_type": "markdown",
   "id": "e0ea9e83",
   "metadata": {},
   "source": [
    "**R Kare**"
   ]
  },
  {
   "cell_type": "code",
   "execution_count": 18,
   "id": "62d68d5d",
   "metadata": {},
   "outputs": [
    {
     "data": {
      "text/plain": [
       "0.6075813584818262"
      ]
     },
     "execution_count": 18,
     "metadata": {},
     "output_type": "execute_result"
    }
   ],
   "source": [
    "np.mean(cross_val_score(gbr_final,\n",
    "                        X_test,         # Bağımsız değişkenler\n",
    "                        y_test,         # Bağımlı değişken\n",
    "                        cv=5,\n",
    "                        scoring='r2'))\n",
    "# 0.61"
   ]
  },
  {
   "attachments": {},
   "cell_type": "markdown",
   "id": "a424c7b1",
   "metadata": {},
   "source": [
    "### 5. Tahmin"
   ]
  },
  {
   "cell_type": "code",
   "execution_count": 19,
   "id": "446fab33",
   "metadata": {},
   "outputs": [
    {
     "data": {
      "text/html": [
       "<div>\n",
       "<style scoped>\n",
       "    .dataframe tbody tr th:only-of-type {\n",
       "        vertical-align: middle;\n",
       "    }\n",
       "\n",
       "    .dataframe tbody tr th {\n",
       "        vertical-align: top;\n",
       "    }\n",
       "\n",
       "    .dataframe thead th {\n",
       "        text-align: right;\n",
       "    }\n",
       "</style>\n",
       "<table border=\"1\" class=\"dataframe\">\n",
       "  <thead>\n",
       "    <tr style=\"text-align: right;\">\n",
       "      <th></th>\n",
       "      <th>LEVEL</th>\n",
       "      <th>EXPERIENCE</th>\n",
       "      <th>POSITION_CTO</th>\n",
       "      <th>POSITION_DATA SCIENTIST</th>\n",
       "      <th>POSITION_DATABASE ADMIN</th>\n",
       "      <th>POSITION_DEVOPS ENGINEER</th>\n",
       "      <th>POSITION_EMBEDDED SOFTWARE DEVELOPER</th>\n",
       "      <th>POSITION_FRONT-END DEVELOPER</th>\n",
       "      <th>POSITION_FULL STACK DEVELOPER</th>\n",
       "      <th>POSITION_GAME DEVELOPER</th>\n",
       "      <th>POSITION_MOBILE APPLICATION DEVELOPER</th>\n",
       "      <th>POSITION_OTHER</th>\n",
       "      <th>POSITION_QA / TEST AUTOMATION DEVELOPER</th>\n",
       "      <th>POSITION_SOFTWARE ARCHITECT</th>\n",
       "      <th>POSITION_SOFTWARE DEVELOPMENT MANAGER</th>\n",
       "      <th>POSITION_TEAM / TECH LEAD</th>\n",
       "      <th>GENDER_Kadın</th>\n",
       "      <th>COMPANY_Dijital / Reklam Ajansı</th>\n",
       "      <th>COMPANY_E-Ticaret</th>\n",
       "      <th>COMPANY_Fintech / Finans</th>\n",
       "      <th>COMPANY_Kurumsal</th>\n",
       "      <th>COMPANY_Outsource</th>\n",
       "      <th>COMPANY_Oyun</th>\n",
       "      <th>COMPANY_Startup</th>\n",
       "      <th>COMPANY_Yazılım &amp; Teknoloji</th>\n",
       "      <th>WORK_TYPE_Geçici Remote</th>\n",
       "      <th>WORK_TYPE_Hibrit</th>\n",
       "      <th>WORK_TYPE_Ofis</th>\n",
       "      <th>WORK_TYPE_Remote</th>\n",
       "      <th>CITY_yurt_ici</th>\n",
       "      <th>CURRENCY_GBP</th>\n",
       "      <th>CURRENCY_TRY</th>\n",
       "      <th>CURRENCY_USD</th>\n",
       "      <th>SALARY_AVG_TL</th>\n",
       "    </tr>\n",
       "  </thead>\n",
       "  <tbody>\n",
       "    <tr>\n",
       "      <th>318</th>\n",
       "      <td>2</td>\n",
       "      <td>5</td>\n",
       "      <td>0</td>\n",
       "      <td>0</td>\n",
       "      <td>0</td>\n",
       "      <td>0</td>\n",
       "      <td>0</td>\n",
       "      <td>1</td>\n",
       "      <td>0</td>\n",
       "      <td>0</td>\n",
       "      <td>0</td>\n",
       "      <td>0</td>\n",
       "      <td>0</td>\n",
       "      <td>0</td>\n",
       "      <td>0</td>\n",
       "      <td>0</td>\n",
       "      <td>0</td>\n",
       "      <td>0</td>\n",
       "      <td>0</td>\n",
       "      <td>0</td>\n",
       "      <td>0</td>\n",
       "      <td>0</td>\n",
       "      <td>0</td>\n",
       "      <td>1</td>\n",
       "      <td>0</td>\n",
       "      <td>0</td>\n",
       "      <td>0</td>\n",
       "      <td>1</td>\n",
       "      <td>0</td>\n",
       "      <td>1</td>\n",
       "      <td>0</td>\n",
       "      <td>0</td>\n",
       "      <td>1</td>\n",
       "      <td>83825</td>\n",
       "    </tr>\n",
       "  </tbody>\n",
       "</table>\n",
       "</div>"
      ],
      "text/plain": [
       "     LEVEL  EXPERIENCE  POSITION_CTO  POSITION_DATA SCIENTIST  POSITION_DATABASE ADMIN  POSITION_DEVOPS ENGINEER  POSITION_EMBEDDED SOFTWARE DEVELOPER  POSITION_FRONT-END DEVELOPER  POSITION_FULL STACK DEVELOPER  POSITION_GAME DEVELOPER  POSITION_MOBILE APPLICATION DEVELOPER  POSITION_OTHER  POSITION_QA / TEST AUTOMATION DEVELOPER  POSITION_SOFTWARE ARCHITECT  POSITION_SOFTWARE DEVELOPMENT MANAGER  POSITION_TEAM / TECH LEAD  GENDER_Kadın  COMPANY_Dijital / Reklam Ajansı  COMPANY_E-Ticaret  COMPANY_Fintech / Finans  COMPANY_Kurumsal  COMPANY_Outsource  COMPANY_Oyun  COMPANY_Startup  COMPANY_Yazılım & Teknoloji  WORK_TYPE_Geçici Remote  WORK_TYPE_Hibrit  WORK_TYPE_Ofis  WORK_TYPE_Remote  CITY_yurt_ici  CURRENCY_GBP  CURRENCY_TRY  CURRENCY_USD  SALARY_AVG_TL\n",
       "318      2           5             0                        0                        0                         0                                     0                             1                              0                        0                                      0               0                                        0                            0                                      0                          0             0                                0                  0                         0                 0                  0             0                1                            0                        0                 0               1                 0              1             0             0             1          83825"
      ]
     },
     "execution_count": 19,
     "metadata": {},
     "output_type": "execute_result"
    }
   ],
   "source": [
    "# Veri setinden rasgele bir gözlem birimi seçelim\n",
    "ran_obs = df.sample(1)\n",
    "ran_obs"
   ]
  },
  {
   "cell_type": "code",
   "execution_count": 20,
   "id": "ee3bc0ac",
   "metadata": {},
   "outputs": [
    {
     "data": {
      "text/html": [
       "<div>\n",
       "<style scoped>\n",
       "    .dataframe tbody tr th:only-of-type {\n",
       "        vertical-align: middle;\n",
       "    }\n",
       "\n",
       "    .dataframe tbody tr th {\n",
       "        vertical-align: top;\n",
       "    }\n",
       "\n",
       "    .dataframe thead th {\n",
       "        text-align: right;\n",
       "    }\n",
       "</style>\n",
       "<table border=\"1\" class=\"dataframe\">\n",
       "  <thead>\n",
       "    <tr style=\"text-align: right;\">\n",
       "      <th></th>\n",
       "      <th>LEVEL</th>\n",
       "      <th>EXPERIENCE</th>\n",
       "      <th>POSITION_CTO</th>\n",
       "      <th>POSITION_DATA SCIENTIST</th>\n",
       "      <th>POSITION_DATABASE ADMIN</th>\n",
       "      <th>POSITION_DEVOPS ENGINEER</th>\n",
       "      <th>POSITION_EMBEDDED SOFTWARE DEVELOPER</th>\n",
       "      <th>POSITION_FRONT-END DEVELOPER</th>\n",
       "      <th>POSITION_FULL STACK DEVELOPER</th>\n",
       "      <th>POSITION_GAME DEVELOPER</th>\n",
       "      <th>POSITION_MOBILE APPLICATION DEVELOPER</th>\n",
       "      <th>POSITION_OTHER</th>\n",
       "      <th>POSITION_QA / TEST AUTOMATION DEVELOPER</th>\n",
       "      <th>POSITION_SOFTWARE ARCHITECT</th>\n",
       "      <th>POSITION_SOFTWARE DEVELOPMENT MANAGER</th>\n",
       "      <th>POSITION_TEAM / TECH LEAD</th>\n",
       "      <th>GENDER_Kadın</th>\n",
       "      <th>COMPANY_Dijital / Reklam Ajansı</th>\n",
       "      <th>COMPANY_E-Ticaret</th>\n",
       "      <th>COMPANY_Fintech / Finans</th>\n",
       "      <th>COMPANY_Kurumsal</th>\n",
       "      <th>COMPANY_Outsource</th>\n",
       "      <th>COMPANY_Oyun</th>\n",
       "      <th>COMPANY_Startup</th>\n",
       "      <th>COMPANY_Yazılım &amp; Teknoloji</th>\n",
       "      <th>WORK_TYPE_Geçici Remote</th>\n",
       "      <th>WORK_TYPE_Hibrit</th>\n",
       "      <th>WORK_TYPE_Ofis</th>\n",
       "      <th>WORK_TYPE_Remote</th>\n",
       "      <th>CITY_yurt_ici</th>\n",
       "      <th>CURRENCY_GBP</th>\n",
       "      <th>CURRENCY_TRY</th>\n",
       "      <th>CURRENCY_USD</th>\n",
       "    </tr>\n",
       "  </thead>\n",
       "  <tbody>\n",
       "    <tr>\n",
       "      <th>318</th>\n",
       "      <td>2</td>\n",
       "      <td>5</td>\n",
       "      <td>0</td>\n",
       "      <td>0</td>\n",
       "      <td>0</td>\n",
       "      <td>0</td>\n",
       "      <td>0</td>\n",
       "      <td>1</td>\n",
       "      <td>0</td>\n",
       "      <td>0</td>\n",
       "      <td>0</td>\n",
       "      <td>0</td>\n",
       "      <td>0</td>\n",
       "      <td>0</td>\n",
       "      <td>0</td>\n",
       "      <td>0</td>\n",
       "      <td>0</td>\n",
       "      <td>0</td>\n",
       "      <td>0</td>\n",
       "      <td>0</td>\n",
       "      <td>0</td>\n",
       "      <td>0</td>\n",
       "      <td>0</td>\n",
       "      <td>1</td>\n",
       "      <td>0</td>\n",
       "      <td>0</td>\n",
       "      <td>0</td>\n",
       "      <td>1</td>\n",
       "      <td>0</td>\n",
       "      <td>1</td>\n",
       "      <td>0</td>\n",
       "      <td>0</td>\n",
       "      <td>1</td>\n",
       "    </tr>\n",
       "  </tbody>\n",
       "</table>\n",
       "</div>"
      ],
      "text/plain": [
       "     LEVEL  EXPERIENCE  POSITION_CTO  POSITION_DATA SCIENTIST  POSITION_DATABASE ADMIN  POSITION_DEVOPS ENGINEER  POSITION_EMBEDDED SOFTWARE DEVELOPER  POSITION_FRONT-END DEVELOPER  POSITION_FULL STACK DEVELOPER  POSITION_GAME DEVELOPER  POSITION_MOBILE APPLICATION DEVELOPER  POSITION_OTHER  POSITION_QA / TEST AUTOMATION DEVELOPER  POSITION_SOFTWARE ARCHITECT  POSITION_SOFTWARE DEVELOPMENT MANAGER  POSITION_TEAM / TECH LEAD  GENDER_Kadın  COMPANY_Dijital / Reklam Ajansı  COMPANY_E-Ticaret  COMPANY_Fintech / Finans  COMPANY_Kurumsal  COMPANY_Outsource  COMPANY_Oyun  COMPANY_Startup  COMPANY_Yazılım & Teknoloji  WORK_TYPE_Geçici Remote  WORK_TYPE_Hibrit  WORK_TYPE_Ofis  WORK_TYPE_Remote  CITY_yurt_ici  CURRENCY_GBP  CURRENCY_TRY  CURRENCY_USD\n",
       "318      2           5             0                        0                        0                         0                                     0                             1                              0                        0                                      0               0                                        0                            0                                      0                          0             0                                0                  0                         0                 0                  0             0                1                            0                        0                 0               1                 0              1             0             0             1"
      ]
     },
     "execution_count": 20,
     "metadata": {},
     "output_type": "execute_result"
    }
   ],
   "source": [
    "# Hedef değişken hariç diğerlerine ait gözlem değerlerini alalım\n",
    "ran_obs_ind = ran_obs.loc[:, df.columns != 'SALARY_AVG_TL']\n",
    "ran_obs_ind"
   ]
  },
  {
   "cell_type": "code",
   "execution_count": 21,
   "id": "b064158b",
   "metadata": {},
   "outputs": [],
   "source": [
    "# Bu gözlem birimi için tahmin işlemi yapalım\n",
    "pred_val = int(gbr_final.predict(ran_obs_ind))"
   ]
  },
  {
   "cell_type": "code",
   "execution_count": 22,
   "id": "4258e37b",
   "metadata": {},
   "outputs": [
    {
     "name": "stdout",
     "output_type": "stream",
     "text": [
      "Gerçek değer\t: 83825\n",
      "Tahmin değeri\t: 73486\n"
     ]
    }
   ],
   "source": [
    "# Sonuçları mukayese edelim\n",
    "print(f\"Gerçek değer\\t: {int(ran_obs['SALARY_AVG_TL'].values)}\")\n",
    "print(f\"Tahmin değeri\\t: {pred_val}\")"
   ]
  },
  {
   "attachments": {},
   "cell_type": "markdown",
   "id": "59417b7f",
   "metadata": {},
   "source": [
    "**Actual vs Predicted Graph**"
   ]
  },
  {
   "cell_type": "code",
   "execution_count": 23,
   "id": "630c317d",
   "metadata": {},
   "outputs": [],
   "source": [
    "y_pred_test = gbr_final.predict(X_test)"
   ]
  },
  {
   "cell_type": "code",
   "execution_count": 24,
   "id": "1ad12599",
   "metadata": {},
   "outputs": [
    {
     "data": {
      "image/png": "[encoded data removed]",
      "text/plain": [
       "<Figure size 1200x600 with 1 Axes>"
      ]
     },
     "metadata": {},
     "output_type": "display_data"
    }
   ],
   "source": [
    "# figure size\n",
    "plt.figure(figsize=(12, 6))\n",
    "\n",
    "# actual values\n",
    "plt.plot([i for i in range(len(y_test))], y_test, c='#191970', label=\"Gerçek Değerler\")\n",
    "\n",
    "# predicted values\n",
    "plt.title(\"ACTUAL vs PREDICTED\")\n",
    "plt.plot([i for i in range(len(y_test))], y_pred_test, c='#FFA500', label=\"Tahmin Değerleri\")\n",
    "plt.legend()\n",
    "plt.show()"
   ]
  },
  {
   "attachments": {},
   "cell_type": "markdown",
   "id": "75a8acf0",
   "metadata": {},
   "source": [
    "Son olarak gerçek değerler ile tahmin değerlerini ayrı bir veri setinde birleştirelim"
   ]
  },
  {
   "cell_type": "code",
   "execution_count": 25,
   "id": "dd14a0c3",
   "metadata": {},
   "outputs": [],
   "source": [
    "df_final = pd.DataFrame()   # Yeni bir df tanımla\n",
    "df_final[\"ACTUAL_AVG_TL\"] = y     # Gerçek değerleri bir değişken olarak ekle"
   ]
  },
  {
   "cell_type": "code",
   "execution_count": 26,
   "id": "19aea871",
   "metadata": {},
   "outputs": [],
   "source": [
    "# Tüm gözlem birimleri için tahmin işlemi yapıp sonuçları sakla\n",
    "y_pred_all = gbr_final.predict(X)"
   ]
  },
  {
   "cell_type": "code",
   "execution_count": 27,
   "id": "6587eddb",
   "metadata": {},
   "outputs": [],
   "source": [
    "# Veri setine bu tahmin değerlerini ikinci bir değişken olarak ekle\n",
    "df_final[\"PREDICTED_AVG_TL\"] = y_pred_all"
   ]
  },
  {
   "cell_type": "code",
   "execution_count": 28,
   "id": "0cacfc71",
   "metadata": {},
   "outputs": [],
   "source": [
    "df_final[\"PREDICTED_AVG_TL\"] = df_final[\"PREDICTED_AVG_TL\"].astype(int)"
   ]
  },
  {
   "cell_type": "code",
   "execution_count": 29,
   "id": "b8309c5a",
   "metadata": {},
   "outputs": [
    {
     "data": {
      "text/html": [
       "<div>\n",
       "<style scoped>\n",
       "    .dataframe tbody tr th:only-of-type {\n",
       "        vertical-align: middle;\n",
       "    }\n",
       "\n",
       "    .dataframe tbody tr th {\n",
       "        vertical-align: top;\n",
       "    }\n",
       "\n",
       "    .dataframe thead th {\n",
       "        text-align: right;\n",
       "    }\n",
       "</style>\n",
       "<table border=\"1\" class=\"dataframe\">\n",
       "  <thead>\n",
       "    <tr style=\"text-align: right;\">\n",
       "      <th></th>\n",
       "      <th>ACTUAL_AVG_TL</th>\n",
       "      <th>PREDICTED_AVG_TL</th>\n",
       "    </tr>\n",
       "  </thead>\n",
       "  <tbody>\n",
       "    <tr>\n",
       "      <th>1474</th>\n",
       "      <td>14499</td>\n",
       "      <td>10237</td>\n",
       "    </tr>\n",
       "    <tr>\n",
       "      <th>1520</th>\n",
       "      <td>15499</td>\n",
       "      <td>22175</td>\n",
       "    </tr>\n",
       "    <tr>\n",
       "      <th>267</th>\n",
       "      <td>22499</td>\n",
       "      <td>21913</td>\n",
       "    </tr>\n",
       "    <tr>\n",
       "      <th>2786</th>\n",
       "      <td>12499</td>\n",
       "      <td>11481</td>\n",
       "    </tr>\n",
       "    <tr>\n",
       "      <th>736</th>\n",
       "      <td>7499</td>\n",
       "      <td>5423</td>\n",
       "    </tr>\n",
       "    <tr>\n",
       "      <th>2554</th>\n",
       "      <td>10499</td>\n",
       "      <td>10371</td>\n",
       "    </tr>\n",
       "    <tr>\n",
       "      <th>968</th>\n",
       "      <td>7499</td>\n",
       "      <td>5608</td>\n",
       "    </tr>\n",
       "    <tr>\n",
       "      <th>1624</th>\n",
       "      <td>7499</td>\n",
       "      <td>20792</td>\n",
       "    </tr>\n",
       "    <tr>\n",
       "      <th>4449</th>\n",
       "      <td>30499</td>\n",
       "      <td>23675</td>\n",
       "    </tr>\n",
       "    <tr>\n",
       "      <th>956</th>\n",
       "      <td>146628</td>\n",
       "      <td>129535</td>\n",
       "    </tr>\n",
       "  </tbody>\n",
       "</table>\n",
       "</div>"
      ],
      "text/plain": [
       "      ACTUAL_AVG_TL  PREDICTED_AVG_TL\n",
       "1474          14499             10237\n",
       "1520          15499             22175\n",
       "267           22499             21913\n",
       "2786          12499             11481\n",
       "736            7499              5423\n",
       "2554          10499             10371\n",
       "968            7499              5608\n",
       "1624           7499             20792\n",
       "4449          30499             23675\n",
       "956          146628            129535"
      ]
     },
     "execution_count": 29,
     "metadata": {},
     "output_type": "execute_result"
    }
   ],
   "source": [
    "# Bu veri setinden rasgele 20 gözlemlik bir örneklem al, indekse göre sıralayarak göster\n",
    "df_final.sample(10)"
   ]
  },
  {
   "attachments": {},
   "cell_type": "markdown",
   "id": "33a224f0",
   "metadata": {},
   "source": [
    "### 6. Sonuç"
   ]
  },
  {
   "attachments": {},
   "cell_type": "markdown",
   "id": "8f7dbefb",
   "metadata": {},
   "source": [
    "İlk haliyle başarı oranı (R-Kare skoru) %54 olan modelimizi hiperparametre optimizasyonu yaparak %61'e çıkardık.\n",
    "\n",
    "Her ne kadar bir model için düşük başarı skorları gibi görünse de hedef değişkenimizin sürekli sayısal bir değer olduğu ve bağımsız değişkenlerin onu temsil etmede çok çelişkili davrandığı düşünüldüğünde kayda değer bir skor olduğu anlaşılabilir."
   ]
  },
  {
   "attachments": {},
   "cell_type": "markdown",
   "id": "52016f1b",
   "metadata": {},
   "source": [
    "## MODEL DOSYASI OLUŞTURMA"
   ]
  },
  {
   "cell_type": "code",
   "execution_count": null,
   "id": "45c2cd81",
   "metadata": {},
   "outputs": [],
   "source": [
    "# Modeli dosya şeklinde diske kaydedelim\n",
    "joblib.dump(gbr_final, \"gbr_final.pkl\")"
   ]
  },
  {
   "cell_type": "code",
   "execution_count": null,
   "id": "0ffee63e",
   "metadata": {},
   "outputs": [],
   "source": [
    "# Şimdi de bu dosyayı okuyalım\n",
    "gbr_model_from_disc = joblib.load(\"gbr_final.pkl\")"
   ]
  },
  {
   "cell_type": "code",
   "execution_count": null,
   "id": "db427e21",
   "metadata": {},
   "outputs": [],
   "source": [
    "# Gelen değerleri x değişkenine atadığımızı varsayalım.\n",
    "# Aşağıdaki komutla x'i dataframe'e çevirip tahmin işlemi isteyebiliriz.\n",
    "# gbr_model_from_disc.predict(pd.DataFrame(x).T)"
   ]
  }
 ],
 "metadata": {
  "kernelspec": {
   "display_name": "base",
   "language": "python",
   "name": "python3"
  },
  "language_info": {
   "codemirror_mode": {
    "name": "ipython",
    "version": 3
   },
   "file_extension": ".py",
   "mimetype": "text/x-python",
   "name": "python",
   "nbconvert_exporter": "python",
   "pygments_lexer": "ipython3",
   "version": "3.9.15"
  },
  "vscode": {
   "interpreter": {
    "hash": "ad2bdc8ecc057115af97d19610ffacc2b4e99fae6737bb82f5d7fb13d2f2c186"
   }
  }
 },
 "nbformat": 4,
 "nbformat_minor": 5
}

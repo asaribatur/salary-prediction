{
 "cells": [
  {
   "cell_type": "code",
   "execution_count": null,
   "id": "5ee83dbe-fd53-4021-85a2-9999df6e1a4d",
   "metadata": {},
   "outputs": [],
   "source": []
  },
  {
   "cell_type": "code",
   "execution_count": 2,
   "id": "6afaf9c3-5c9b-40aa-b74a-1f7e957f36be",
   "metadata": {},
   "outputs": [],
   "source": [
    "import numpy as np\n",
    "import pandas as pd\n",
    "# from pandas import Series, DataFrame \n",
    "import seaborn as sns\n",
    "from matplotlib import pyplot as plt\n",
    "\n",
    "from sklearn.preprocessing import LabelEncoder, OneHotEncoder\n",
    "\n",
    "import warnings\n",
    "from sklearn import metrics\n",
    "\n",
    "\n",
    "warnings.simplefilter(action='ignore', category=FutureWarning)\n",
    "pd.set_option('display.width', 10000)\n"
   ]
  },
  {
   "cell_type": "code",
   "execution_count": 3,
   "id": "7b28c50e-bac1-47d8-8159-96b6d7e6dce2",
   "metadata": {},
   "outputs": [],
   "source": [
    "df=pd.read_csv(r\"C:\\Users\\makif\\Desktop\\MAAS_HESAPLAMA\\d_before_encode.csv\")"
   ]
  },
  {
   "cell_type": "code",
   "execution_count": 4,
   "id": "82980224-b771-4d17-9be9-68ba60c74cbd",
   "metadata": {},
   "outputs": [
    {
     "data": {
      "text/html": [
       "<div>\n",
       "<style scoped>\n",
       "    .dataframe tbody tr th:only-of-type {\n",
       "        vertical-align: middle;\n",
       "    }\n",
       "\n",
       "    .dataframe tbody tr th {\n",
       "        vertical-align: top;\n",
       "    }\n",
       "\n",
       "    .dataframe thead th {\n",
       "        text-align: right;\n",
       "    }\n",
       "</style>\n",
       "<table border=\"1\" class=\"dataframe\">\n",
       "  <thead>\n",
       "    <tr style=\"text-align: right;\">\n",
       "      <th></th>\n",
       "      <th>LEVEL</th>\n",
       "      <th>POSITION</th>\n",
       "      <th>EXPERIENCE</th>\n",
       "      <th>GENDER</th>\n",
       "      <th>COMPANY</th>\n",
       "      <th>WORK_TYPE</th>\n",
       "      <th>CITY</th>\n",
       "      <th>CURRENCY</th>\n",
       "      <th>SALARY_AVG_TL</th>\n",
       "    </tr>\n",
       "  </thead>\n",
       "  <tbody>\n",
       "    <tr>\n",
       "      <th>0</th>\n",
       "      <td>Middle</td>\n",
       "      <td>BACK-END DEVELOPER</td>\n",
       "      <td>3 - 5 Yıl</td>\n",
       "      <td>Erkek</td>\n",
       "      <td>Startup</td>\n",
       "      <td>Hibrit</td>\n",
       "      <td>yurt_ici</td>\n",
       "      <td>₺ - Türk Lirası</td>\n",
       "      <td>15499</td>\n",
       "    </tr>\n",
       "    <tr>\n",
       "      <th>1</th>\n",
       "      <td>Junior</td>\n",
       "      <td>FRONT-END DEVELOPER</td>\n",
       "      <td>0 - 1 Yıl</td>\n",
       "      <td>Erkek</td>\n",
       "      <td>Startup</td>\n",
       "      <td>Hibrit</td>\n",
       "      <td>yurt_ici</td>\n",
       "      <td>₺ - Türk Lirası</td>\n",
       "      <td>8499</td>\n",
       "    </tr>\n",
       "    <tr>\n",
       "      <th>2</th>\n",
       "      <td>Middle</td>\n",
       "      <td>BACK-END DEVELOPER</td>\n",
       "      <td>1 - 3 Yıl</td>\n",
       "      <td>Erkek</td>\n",
       "      <td>Outsource</td>\n",
       "      <td>Remote</td>\n",
       "      <td>yurt_ici</td>\n",
       "      <td>₺ - Türk Lirası</td>\n",
       "      <td>15499</td>\n",
       "    </tr>\n",
       "    <tr>\n",
       "      <th>3</th>\n",
       "      <td>Junior</td>\n",
       "      <td>FULL STACK DEVELOPER</td>\n",
       "      <td>1 - 3 Yıl</td>\n",
       "      <td>Erkek</td>\n",
       "      <td>Startup</td>\n",
       "      <td>Hibrit</td>\n",
       "      <td>yurt_ici</td>\n",
       "      <td>₺ - Türk Lirası</td>\n",
       "      <td>10499</td>\n",
       "    </tr>\n",
       "    <tr>\n",
       "      <th>4</th>\n",
       "      <td>Junior</td>\n",
       "      <td>BACK-END DEVELOPER</td>\n",
       "      <td>0 - 1 Yıl</td>\n",
       "      <td>Erkek</td>\n",
       "      <td>Kurumsal</td>\n",
       "      <td>Geçici Hibrit</td>\n",
       "      <td>yurt_ici</td>\n",
       "      <td>₺ - Türk Lirası</td>\n",
       "      <td>5499</td>\n",
       "    </tr>\n",
       "  </tbody>\n",
       "</table>\n",
       "</div>"
      ],
      "text/plain": [
       "    LEVEL              POSITION EXPERIENCE GENDER    COMPANY      WORK_TYPE      CITY         CURRENCY  SALARY_AVG_TL\n",
       "0  Middle    BACK-END DEVELOPER  3 - 5 Yıl  Erkek    Startup         Hibrit  yurt_ici  ₺ - Türk Lirası          15499\n",
       "1  Junior   FRONT-END DEVELOPER  0 - 1 Yıl  Erkek    Startup         Hibrit  yurt_ici  ₺ - Türk Lirası           8499\n",
       "2  Middle    BACK-END DEVELOPER  1 - 3 Yıl  Erkek  Outsource         Remote  yurt_ici  ₺ - Türk Lirası          15499\n",
       "3  Junior  FULL STACK DEVELOPER  1 - 3 Yıl  Erkek    Startup         Hibrit  yurt_ici  ₺ - Türk Lirası          10499\n",
       "4  Junior    BACK-END DEVELOPER  0 - 1 Yıl  Erkek   Kurumsal  Geçici Hibrit  yurt_ici  ₺ - Türk Lirası           5499"
      ]
     },
     "execution_count": 4,
     "metadata": {},
     "output_type": "execute_result"
    }
   ],
   "source": [
    "df.drop([\"Unnamed: 0\"], axis=1, inplace=True)\n",
    "df.head()"
   ]
  },
  {
   "cell_type": "code",
   "execution_count": 5,
   "id": "c5ede2e1-2bbd-4563-916d-0ca6a7672de0",
   "metadata": {},
   "outputs": [],
   "source": [
    "#EXPERIENCE degiskenini encod edilmeye hazır hale getirelim"
   ]
  },
  {
   "cell_type": "code",
   "execution_count": 6,
   "id": "91465677-d221-4331-bb39-c7b0263c0de2",
   "metadata": {},
   "outputs": [
    {
     "data": {
      "text/plain": [
       "array(['3 - 5 Yıl', '0 - 1 Yıl', '1 - 3 Yıl', '5 - 7 Yıl', '10 - 14 Yıl',\n",
       "       '7 - 10 Yıl', '15 Yıl ve üzeri'], dtype=object)"
      ]
     },
     "execution_count": 6,
     "metadata": {},
     "output_type": "execute_result"
    }
   ],
   "source": [
    "df[\"EXPERIENCE\"].unique()"
   ]
  },
  {
   "cell_type": "code",
   "execution_count": 7,
   "id": "358131cf-164f-4cec-8632-9cc854ebeb09",
   "metadata": {},
   "outputs": [
    {
     "name": "stderr",
     "output_type": "stream",
     "text": [
      "C:\\Users\\makif\\AppData\\Local\\Temp\\ipykernel_19604\\2241603233.py:2: SettingWithCopyWarning: \n",
      "A value is trying to be set on a copy of a slice from a DataFrame\n",
      "\n",
      "See the caveats in the documentation: https://pandas.pydata.org/pandas-docs/stable/user_guide/indexing.html#returning-a-view-versus-a-copy\n",
      "  df[\"EXPERIENCE\"][i] = 0\n",
      "C:\\Users\\makif\\AppData\\Local\\Temp\\ipykernel_19604\\2241603233.py:4: SettingWithCopyWarning: \n",
      "A value is trying to be set on a copy of a slice from a DataFrame\n",
      "\n",
      "See the caveats in the documentation: https://pandas.pydata.org/pandas-docs/stable/user_guide/indexing.html#returning-a-view-versus-a-copy\n",
      "  df[\"EXPERIENCE\"][i] = 1\n",
      "C:\\Users\\makif\\AppData\\Local\\Temp\\ipykernel_19604\\2241603233.py:6: SettingWithCopyWarning: \n",
      "A value is trying to be set on a copy of a slice from a DataFrame\n",
      "\n",
      "See the caveats in the documentation: https://pandas.pydata.org/pandas-docs/stable/user_guide/indexing.html#returning-a-view-versus-a-copy\n",
      "  df[\"EXPERIENCE\"][i] = 2\n",
      "C:\\Users\\makif\\AppData\\Local\\Temp\\ipykernel_19604\\2241603233.py:8: SettingWithCopyWarning: \n",
      "A value is trying to be set on a copy of a slice from a DataFrame\n",
      "\n",
      "See the caveats in the documentation: https://pandas.pydata.org/pandas-docs/stable/user_guide/indexing.html#returning-a-view-versus-a-copy\n",
      "  df[\"EXPERIENCE\"][i] = 3\n",
      "C:\\Users\\makif\\AppData\\Local\\Temp\\ipykernel_19604\\2241603233.py:10: SettingWithCopyWarning: \n",
      "A value is trying to be set on a copy of a slice from a DataFrame\n",
      "\n",
      "See the caveats in the documentation: https://pandas.pydata.org/pandas-docs/stable/user_guide/indexing.html#returning-a-view-versus-a-copy\n",
      "  df[\"EXPERIENCE\"][i] = 4\n",
      "C:\\Users\\makif\\AppData\\Local\\Temp\\ipykernel_19604\\2241603233.py:12: SettingWithCopyWarning: \n",
      "A value is trying to be set on a copy of a slice from a DataFrame\n",
      "\n",
      "See the caveats in the documentation: https://pandas.pydata.org/pandas-docs/stable/user_guide/indexing.html#returning-a-view-versus-a-copy\n",
      "  df[\"EXPERIENCE\"][i] = 5\n",
      "C:\\Users\\makif\\AppData\\Local\\Temp\\ipykernel_19604\\2241603233.py:14: SettingWithCopyWarning: \n",
      "A value is trying to be set on a copy of a slice from a DataFrame\n",
      "\n",
      "See the caveats in the documentation: https://pandas.pydata.org/pandas-docs/stable/user_guide/indexing.html#returning-a-view-versus-a-copy\n",
      "  df[\"EXPERIENCE\"][i] = 6\n"
     ]
    }
   ],
   "source": [
    "for i in df[df[\"EXPERIENCE\"]==\"0 - 1 Yıl\"].index:\n",
    "    df[\"EXPERIENCE\"][i] = 0\n",
    "for i in df[df[\"EXPERIENCE\"]==\"1 - 3 Yıl\"].index:\n",
    "    df[\"EXPERIENCE\"][i] = 1    \n",
    "for i in df[df[\"EXPERIENCE\"]==\"3 - 5 Yıl\"].index:\n",
    "    df[\"EXPERIENCE\"][i] = 2 \n",
    "for i in df[df[\"EXPERIENCE\"]==\"5 - 7 Yıl\"].index:\n",
    "    df[\"EXPERIENCE\"][i] = 3 \n",
    "for i in df[df[\"EXPERIENCE\"]==\"7 - 10 Yıl\"].index:\n",
    "    df[\"EXPERIENCE\"][i] = 4 \n",
    "for i in df[df[\"EXPERIENCE\"]==\"10 - 14 Yıl\"].index:\n",
    "    df[\"EXPERIENCE\"][i] = 5 \n",
    "for i in df[df[\"EXPERIENCE\"]==\"15 Yıl ve üzeri\"].index:\n",
    "    df[\"EXPERIENCE\"][i] = 6 "
   ]
  },
  {
   "cell_type": "code",
   "execution_count": 8,
   "id": "dfffb238-5d5f-45e3-aa0c-ad29b26f7767",
   "metadata": {},
   "outputs": [
    {
     "data": {
      "text/plain": [
       "array([2, 0, 1, 3, 5, 4, 6], dtype=object)"
      ]
     },
     "execution_count": 8,
     "metadata": {},
     "output_type": "execute_result"
    }
   ],
   "source": [
    "df[\"EXPERIENCE\"].unique()"
   ]
  },
  {
   "cell_type": "code",
   "execution_count": 9,
   "id": "b0f86ec8-3551-4dae-809c-807b457854bd",
   "metadata": {},
   "outputs": [],
   "source": [
    "def grab_col_names(dataframe, cat_th=15, car_th=20):\n",
    "    \"\"\"\n",
    "\n",
    "    Veri setindeki kategorik, numerik ve kategorik fakat kardinal değişkenlerin isimlerini verir.\n",
    "    Not: Kategorik değişkenlerin içerisine numerik görünümlü kategorik değişkenler de dahildir.\n",
    "\n",
    "    Parameters\n",
    "    ------\n",
    "        dataframe: dataframe\n",
    "                Değişken isimleri alınmak istenilen dataframe\n",
    "        cat_th: int, optional\n",
    "                numerik fakat kategorik olan değişkenler için sınıf eşik değeri\n",
    "        car_th: int, optinal\n",
    "                kategorik fakat kardinal değişkenler için sınıf eşik değeri\n",
    "\n",
    "    Returns\n",
    "    ------\n",
    "        cat_cols: list\n",
    "                Kategorik değişken listesi\n",
    "        num_cols: list\n",
    "                Numerik değişken listesi\n",
    "        cat_but_car: list\n",
    "                Kategorik görünümlü kardinal değişken listesi\n",
    "\n",
    "    Examples\n",
    "    ------\n",
    "        import seaborn as sns\n",
    "        df = sns.load_dataset(\"iris\")\n",
    "        print(grab_col_names(df))\n",
    "\n",
    "\n",
    "    Notes\n",
    "    ------\n",
    "        cat_cols + num_cols + cat_but_car = toplam değişken sayısı\n",
    "        num_but_cat cat_cols'un içerisinde.\n",
    "        Return olan 3 liste toplamı toplam değişken sayısına eşittir: cat_cols + num_cols + cat_but_car = değişken sayısı\n",
    "\n",
    "    \"\"\"\n",
    "\n",
    "    # cat_cols, cat_but_car\n",
    "    cat_cols = [col for col in dataframe.columns if dataframe[col].dtypes == \"O\"]\n",
    "    num_but_cat = [col for col in dataframe.columns if dataframe[col].nunique() < cat_th and\n",
    "                   dataframe[col].dtypes != \"O\"]\n",
    "    cat_but_car = [col for col in dataframe.columns if dataframe[col].nunique() > car_th and\n",
    "                   dataframe[col].dtypes == \"O\"]\n",
    "    cat_cols = cat_cols + num_but_cat\n",
    "    cat_cols = [col for col in cat_cols if col not in cat_but_car]\n",
    "\n",
    "    # num_cols\n",
    "    num_cols = [col for col in dataframe.columns if dataframe[col].dtypes != \"O\"]\n",
    "    num_cols = [col for col in num_cols if col not in num_but_cat]\n",
    "\n",
    "    print(f\"Observations: {dataframe.shape[0]}\")\n",
    "    print(f\"Variables: {dataframe.shape[1]}\")\n",
    "    print(f'cat_cols: {len(cat_cols)}')\n",
    "    print(f'num_cols: {len(num_cols)}')\n",
    "    print(f'cat_but_car: {len(cat_but_car)}')\n",
    "    print(f'num_but_cat: {len(num_but_cat)}')\n",
    "    return cat_cols, num_cols, cat_but_car, num_but_cat"
   ]
  },
  {
   "cell_type": "code",
   "execution_count": 10,
   "id": "47f4de99-a098-4056-ba74-7098893f6382",
   "metadata": {},
   "outputs": [
    {
     "name": "stdout",
     "output_type": "stream",
     "text": [
      "Observations: 5026\n",
      "Variables: 9\n",
      "cat_cols: 8\n",
      "num_cols: 1\n",
      "cat_but_car: 0\n",
      "num_but_cat: 0\n"
     ]
    }
   ],
   "source": [
    "cat_cols, num_cols, cat_but_car, num_but_cat= grab_col_names(df)"
   ]
  },
  {
   "cell_type": "code",
   "execution_count": 11,
   "id": "9b69de0a-6972-49e3-9061-1bb90a7293ff",
   "metadata": {},
   "outputs": [
    {
     "data": {
      "text/plain": [
       "['LEVEL',\n",
       " 'POSITION',\n",
       " 'EXPERIENCE',\n",
       " 'GENDER',\n",
       " 'COMPANY',\n",
       " 'WORK_TYPE',\n",
       " 'CITY',\n",
       " 'CURRENCY']"
      ]
     },
     "execution_count": 11,
     "metadata": {},
     "output_type": "execute_result"
    }
   ],
   "source": [
    "cat_cols"
   ]
  },
  {
   "cell_type": "code",
   "execution_count": 12,
   "id": "0a3ce01e-d194-4681-85f3-1a48ee6199a4",
   "metadata": {},
   "outputs": [
    {
     "data": {
      "text/plain": [
       "LEVEL          3\n",
       "POSITION      15\n",
       "EXPERIENCE     7\n",
       "GENDER         2\n",
       "COMPANY        9\n",
       "WORK_TYPE      5\n",
       "CITY           2\n",
       "CURRENCY       4\n",
       "dtype: int64"
      ]
     },
     "execution_count": 12,
     "metadata": {},
     "output_type": "execute_result"
    }
   ],
   "source": [
    "df[cat_cols].nunique()"
   ]
  },
  {
   "cell_type": "code",
   "execution_count": 13,
   "id": "02a583d1-1036-4e46-8f4a-68c034af1b03",
   "metadata": {},
   "outputs": [],
   "source": [
    "# Sınıflar arası fark varsa (ordinal kategorik değişkenler)- Label Encoding\n",
    "#le_cols = [\"LEVEL\",\"EXPERIENCE\"]\n",
    "\n",
    "# Sınıflar arası fark yoksa (nominal kategorik değişkenler) - One Hot Encoding\n",
    "#ohe_cols = [\"POSITION\", \"GENDER\", \"COMPANY\", \"WORK_TYPE\", \"CITY\"]"
   ]
  },
  {
   "cell_type": "code",
   "execution_count": null,
   "id": "36fc8b69-15e2-4f93-969b-ead19811b05c",
   "metadata": {},
   "outputs": [],
   "source": []
  },
  {
   "cell_type": "code",
   "execution_count": 14,
   "id": "fa124237-1f53-4ccd-9b07-ed450c000107",
   "metadata": {},
   "outputs": [],
   "source": [
    "#label encoding yapalım [LEVEL] ve [EXPERIENCE] icin\n",
    "labelencoder = LabelEncoder()"
   ]
  },
  {
   "cell_type": "code",
   "execution_count": 15,
   "id": "35d8ad93-8a6e-4168-9015-9e912d3a92de",
   "metadata": {},
   "outputs": [],
   "source": [
    "df[\"LEVEL\"] = labelencoder.fit_transform(df[\"LEVEL\"])"
   ]
  },
  {
   "cell_type": "code",
   "execution_count": 16,
   "id": "d78123e7-d607-4f9b-b152-48cf5b766526",
   "metadata": {},
   "outputs": [],
   "source": [
    "df[\"EXPERIENCE\"] = labelencoder.fit_transform(df[\"EXPERIENCE\"])"
   ]
  },
  {
   "cell_type": "code",
   "execution_count": 17,
   "id": "182e99e4-3718-4567-b231-f735f454a628",
   "metadata": {
    "tags": []
   },
   "outputs": [
    {
     "data": {
      "text/plain": [
       "['POSITION', 'GENDER', 'COMPANY', 'WORK_TYPE', 'CITY', 'CURRENCY']"
      ]
     },
     "execution_count": 17,
     "metadata": {},
     "output_type": "execute_result"
    }
   ],
   "source": [
    "cat_cols=[\"POSITION\", \"GENDER\", \"COMPANY\", \"WORK_TYPE\", \"CITY\", \"CURRENCY\"]\n",
    "cat_cols"
   ]
  },
  {
   "cell_type": "code",
   "execution_count": 18,
   "id": "daa9a38a-2427-43e4-96b8-c62e20c3dfe8",
   "metadata": {},
   "outputs": [],
   "source": [
    "#kategorik degiskenlerde bicimlendirme yapıyoruz\n",
    "def one_hot_encoder(dataframe, categorical_cols, drop_first=False):\n",
    "    dataframe = pd.get_dummies(dataframe, columns=categorical_cols, drop_first=drop_first)\n",
    "    return dataframe\n",
    "#drop_first=True yaparsak label encoder olarak kullanabiliriz,iki sınıflı kategorik degiskenleri de label encoder a sokabiliyor olacak"
   ]
  },
  {
   "cell_type": "code",
   "execution_count": 19,
   "id": "eb876bbc-5b65-4110-b940-f3ab328005d3",
   "metadata": {},
   "outputs": [],
   "source": [
    "df = one_hot_encoder(df, cat_cols, drop_first=True)"
   ]
  },
  {
   "cell_type": "code",
   "execution_count": 20,
   "id": "f323041e-d3b7-46c1-9766-b3e1fcb1dcc6",
   "metadata": {},
   "outputs": [
    {
     "data": {
      "text/html": [
       "<div>\n",
       "<style scoped>\n",
       "    .dataframe tbody tr th:only-of-type {\n",
       "        vertical-align: middle;\n",
       "    }\n",
       "\n",
       "    .dataframe tbody tr th {\n",
       "        vertical-align: top;\n",
       "    }\n",
       "\n",
       "    .dataframe thead th {\n",
       "        text-align: right;\n",
       "    }\n",
       "</style>\n",
       "<table border=\"1\" class=\"dataframe\">\n",
       "  <thead>\n",
       "    <tr style=\"text-align: right;\">\n",
       "      <th></th>\n",
       "      <th>LEVEL</th>\n",
       "      <th>EXPERIENCE</th>\n",
       "      <th>SALARY_AVG_TL</th>\n",
       "      <th>POSITION_CTO</th>\n",
       "      <th>POSITION_DATA SCIENTIST</th>\n",
       "      <th>POSITION_DATABASE ADMIN</th>\n",
       "      <th>POSITION_DEVOPS ENGINEER</th>\n",
       "      <th>POSITION_EMBEDDED SOFTWARE DEVELOPER</th>\n",
       "      <th>POSITION_FRONT-END DEVELOPER</th>\n",
       "      <th>POSITION_FULL STACK DEVELOPER</th>\n",
       "      <th>...</th>\n",
       "      <th>COMPANY_Startup</th>\n",
       "      <th>COMPANY_Yazılım &amp; Teknoloji</th>\n",
       "      <th>WORK_TYPE_Geçici Remote</th>\n",
       "      <th>WORK_TYPE_Hibrit</th>\n",
       "      <th>WORK_TYPE_Ofis</th>\n",
       "      <th>WORK_TYPE_Remote</th>\n",
       "      <th>CITY_yurt_ici</th>\n",
       "      <th>CURRENCY_£ - Sterlin</th>\n",
       "      <th>CURRENCY_€ - Euro</th>\n",
       "      <th>CURRENCY_₺ - Türk Lirası</th>\n",
       "    </tr>\n",
       "  </thead>\n",
       "  <tbody>\n",
       "    <tr>\n",
       "      <th>0</th>\n",
       "      <td>1</td>\n",
       "      <td>2</td>\n",
       "      <td>15499</td>\n",
       "      <td>0</td>\n",
       "      <td>0</td>\n",
       "      <td>0</td>\n",
       "      <td>0</td>\n",
       "      <td>0</td>\n",
       "      <td>0</td>\n",
       "      <td>0</td>\n",
       "      <td>...</td>\n",
       "      <td>1</td>\n",
       "      <td>0</td>\n",
       "      <td>0</td>\n",
       "      <td>1</td>\n",
       "      <td>0</td>\n",
       "      <td>0</td>\n",
       "      <td>1</td>\n",
       "      <td>0</td>\n",
       "      <td>0</td>\n",
       "      <td>1</td>\n",
       "    </tr>\n",
       "    <tr>\n",
       "      <th>1</th>\n",
       "      <td>0</td>\n",
       "      <td>0</td>\n",
       "      <td>8499</td>\n",
       "      <td>0</td>\n",
       "      <td>0</td>\n",
       "      <td>0</td>\n",
       "      <td>0</td>\n",
       "      <td>0</td>\n",
       "      <td>1</td>\n",
       "      <td>0</td>\n",
       "      <td>...</td>\n",
       "      <td>1</td>\n",
       "      <td>0</td>\n",
       "      <td>0</td>\n",
       "      <td>1</td>\n",
       "      <td>0</td>\n",
       "      <td>0</td>\n",
       "      <td>1</td>\n",
       "      <td>0</td>\n",
       "      <td>0</td>\n",
       "      <td>1</td>\n",
       "    </tr>\n",
       "    <tr>\n",
       "      <th>2</th>\n",
       "      <td>1</td>\n",
       "      <td>1</td>\n",
       "      <td>15499</td>\n",
       "      <td>0</td>\n",
       "      <td>0</td>\n",
       "      <td>0</td>\n",
       "      <td>0</td>\n",
       "      <td>0</td>\n",
       "      <td>0</td>\n",
       "      <td>0</td>\n",
       "      <td>...</td>\n",
       "      <td>0</td>\n",
       "      <td>0</td>\n",
       "      <td>0</td>\n",
       "      <td>0</td>\n",
       "      <td>0</td>\n",
       "      <td>1</td>\n",
       "      <td>1</td>\n",
       "      <td>0</td>\n",
       "      <td>0</td>\n",
       "      <td>1</td>\n",
       "    </tr>\n",
       "    <tr>\n",
       "      <th>3</th>\n",
       "      <td>0</td>\n",
       "      <td>1</td>\n",
       "      <td>10499</td>\n",
       "      <td>0</td>\n",
       "      <td>0</td>\n",
       "      <td>0</td>\n",
       "      <td>0</td>\n",
       "      <td>0</td>\n",
       "      <td>0</td>\n",
       "      <td>1</td>\n",
       "      <td>...</td>\n",
       "      <td>1</td>\n",
       "      <td>0</td>\n",
       "      <td>0</td>\n",
       "      <td>1</td>\n",
       "      <td>0</td>\n",
       "      <td>0</td>\n",
       "      <td>1</td>\n",
       "      <td>0</td>\n",
       "      <td>0</td>\n",
       "      <td>1</td>\n",
       "    </tr>\n",
       "    <tr>\n",
       "      <th>4</th>\n",
       "      <td>0</td>\n",
       "      <td>0</td>\n",
       "      <td>5499</td>\n",
       "      <td>0</td>\n",
       "      <td>0</td>\n",
       "      <td>0</td>\n",
       "      <td>0</td>\n",
       "      <td>0</td>\n",
       "      <td>0</td>\n",
       "      <td>0</td>\n",
       "      <td>...</td>\n",
       "      <td>0</td>\n",
       "      <td>0</td>\n",
       "      <td>0</td>\n",
       "      <td>0</td>\n",
       "      <td>0</td>\n",
       "      <td>0</td>\n",
       "      <td>1</td>\n",
       "      <td>0</td>\n",
       "      <td>0</td>\n",
       "      <td>1</td>\n",
       "    </tr>\n",
       "  </tbody>\n",
       "</table>\n",
       "<p>5 rows × 34 columns</p>\n",
       "</div>"
      ],
      "text/plain": [
       "   LEVEL  EXPERIENCE  SALARY_AVG_TL  POSITION_CTO  POSITION_DATA SCIENTIST  POSITION_DATABASE ADMIN  POSITION_DEVOPS ENGINEER  POSITION_EMBEDDED SOFTWARE DEVELOPER  POSITION_FRONT-END DEVELOPER  POSITION_FULL STACK DEVELOPER  ...  COMPANY_Startup  COMPANY_Yazılım & Teknoloji  WORK_TYPE_Geçici Remote  WORK_TYPE_Hibrit  WORK_TYPE_Ofis  WORK_TYPE_Remote  CITY_yurt_ici  CURRENCY_£ - Sterlin  CURRENCY_€ - Euro  CURRENCY_₺ - Türk Lirası\n",
       "0      1           2          15499             0                        0                        0                         0                                     0                             0                              0  ...                1                            0                        0                 1               0                 0              1                     0                  0                         1\n",
       "1      0           0           8499             0                        0                        0                         0                                     0                             1                              0  ...                1                            0                        0                 1               0                 0              1                     0                  0                         1\n",
       "2      1           1          15499             0                        0                        0                         0                                     0                             0                              0  ...                0                            0                        0                 0               0                 1              1                     0                  0                         1\n",
       "3      0           1          10499             0                        0                        0                         0                                     0                             0                              1  ...                1                            0                        0                 1               0                 0              1                     0                  0                         1\n",
       "4      0           0           5499             0                        0                        0                         0                                     0                             0                              0  ...                0                            0                        0                 0               0                 0              1                     0                  0                         1\n",
       "\n",
       "[5 rows x 34 columns]"
      ]
     },
     "execution_count": 20,
     "metadata": {},
     "output_type": "execute_result"
    }
   ],
   "source": [
    "df.head()"
   ]
  },
  {
   "cell_type": "code",
   "execution_count": 21,
   "id": "dd26abe8-6376-4055-963f-fe4697cf0f62",
   "metadata": {},
   "outputs": [
    {
     "data": {
      "text/plain": [
       "Index(['LEVEL', 'EXPERIENCE', 'SALARY_AVG_TL', 'POSITION_CTO', 'POSITION_DATA SCIENTIST', 'POSITION_DATABASE ADMIN', 'POSITION_DEVOPS ENGINEER', 'POSITION_EMBEDDED SOFTWARE DEVELOPER', 'POSITION_FRONT-END DEVELOPER', 'POSITION_FULL STACK DEVELOPER', 'POSITION_GAME DEVELOPER', 'POSITION_MOBILE APPLICATION DEVELOPER', 'POSITION_OTHERS', 'POSITION_QA / TEST AUTOMATION DEVELOPER', 'POSITION_SOFTWARE ARCHITECT', 'POSITION_SOFTWARE DEVELOPMENT MANAGER', 'POSITION_TEAM / TECH LEAD', 'GENDER_Kadın', 'COMPANY_Dijital / Reklam Ajansı', 'COMPANY_E-Ticaret', 'COMPANY_Fintech / Finans', 'COMPANY_Kurumsal', 'COMPANY_Outsource', 'COMPANY_Oyun', 'COMPANY_Startup', 'COMPANY_Yazılım & Teknoloji', 'WORK_TYPE_Geçici Remote', 'WORK_TYPE_Hibrit', 'WORK_TYPE_Ofis', 'WORK_TYPE_Remote', 'CITY_yurt_ici', 'CURRENCY_£ - Sterlin', 'CURRENCY_€ - Euro', 'CURRENCY_₺ - Türk Lirası'], dtype='object')"
      ]
     },
     "execution_count": 21,
     "metadata": {},
     "output_type": "execute_result"
    }
   ],
   "source": [
    "df.columns"
   ]
  },
  {
   "cell_type": "code",
   "execution_count": 22,
   "id": "8c7ace6a-dc61-4541-84a8-bd2b0397a96a",
   "metadata": {
    "collapsed": true,
    "jupyter": {
     "outputs_hidden": true
    },
    "tags": []
   },
   "outputs": [
    {
     "name": "stdout",
     "output_type": "stream",
     "text": [
      "##################### Shape #####################\n",
      "(5026, 34)\n",
      "##################### Types #####################\n",
      "LEVEL                                      int32\n",
      "EXPERIENCE                                 int32\n",
      "SALARY_AVG_TL                              int64\n",
      "POSITION_CTO                               uint8\n",
      "POSITION_DATA SCIENTIST                    uint8\n",
      "POSITION_DATABASE ADMIN                    uint8\n",
      "POSITION_DEVOPS ENGINEER                   uint8\n",
      "POSITION_EMBEDDED SOFTWARE DEVELOPER       uint8\n",
      "POSITION_FRONT-END DEVELOPER               uint8\n",
      "POSITION_FULL STACK DEVELOPER              uint8\n",
      "POSITION_GAME DEVELOPER                    uint8\n",
      "POSITION_MOBILE APPLICATION DEVELOPER      uint8\n",
      "POSITION_OTHERS                            uint8\n",
      "POSITION_QA / TEST AUTOMATION DEVELOPER    uint8\n",
      "POSITION_SOFTWARE ARCHITECT                uint8\n",
      "POSITION_SOFTWARE DEVELOPMENT MANAGER      uint8\n",
      "POSITION_TEAM / TECH LEAD                  uint8\n",
      "GENDER_Kadın                               uint8\n",
      "COMPANY_Dijital / Reklam Ajansı            uint8\n",
      "COMPANY_E-Ticaret                          uint8\n",
      "COMPANY_Fintech / Finans                   uint8\n",
      "COMPANY_Kurumsal                           uint8\n",
      "COMPANY_Outsource                          uint8\n",
      "COMPANY_Oyun                               uint8\n",
      "COMPANY_Startup                            uint8\n",
      "COMPANY_Yazılım & Teknoloji                uint8\n",
      "WORK_TYPE_Geçici Remote                    uint8\n",
      "WORK_TYPE_Hibrit                           uint8\n",
      "WORK_TYPE_Ofis                             uint8\n",
      "WORK_TYPE_Remote                           uint8\n",
      "CITY_yurt_ici                              uint8\n",
      "CURRENCY_£ - Sterlin                       uint8\n",
      "CURRENCY_€ - Euro                          uint8\n",
      "CURRENCY_₺ - Türk Lirası                   uint8\n",
      "dtype: object\n",
      "##################### Head #####################\n",
      "   LEVEL  EXPERIENCE  SALARY_AVG_TL  POSITION_CTO  POSITION_DATA SCIENTIST  POSITION_DATABASE ADMIN  POSITION_DEVOPS ENGINEER  POSITION_EMBEDDED SOFTWARE DEVELOPER  POSITION_FRONT-END DEVELOPER  POSITION_FULL STACK DEVELOPER  ...  COMPANY_Startup  COMPANY_Yazılım & Teknoloji  WORK_TYPE_Geçici Remote  WORK_TYPE_Hibrit  WORK_TYPE_Ofis  WORK_TYPE_Remote  CITY_yurt_ici  CURRENCY_£ - Sterlin  CURRENCY_€ - Euro  CURRENCY_₺ - Türk Lirası\n",
      "0      1           2          15499             0                        0                        0                         0                                     0                             0                              0  ...                1                            0                        0                 1               0                 0              1                     0                  0                         1\n",
      "1      0           0           8499             0                        0                        0                         0                                     0                             1                              0  ...                1                            0                        0                 1               0                 0              1                     0                  0                         1\n",
      "2      1           1          15499             0                        0                        0                         0                                     0                             0                              0  ...                0                            0                        0                 0               0                 1              1                     0                  0                         1\n",
      "3      0           1          10499             0                        0                        0                         0                                     0                             0                              1  ...                1                            0                        0                 1               0                 0              1                     0                  0                         1\n",
      "4      0           0           5499             0                        0                        0                         0                                     0                             0                              0  ...                0                            0                        0                 0               0                 0              1                     0                  0                         1\n",
      "\n",
      "[5 rows x 34 columns]\n",
      "##################### Tail #####################\n",
      "      LEVEL  EXPERIENCE  SALARY_AVG_TL  POSITION_CTO  POSITION_DATA SCIENTIST  POSITION_DATABASE ADMIN  POSITION_DEVOPS ENGINEER  POSITION_EMBEDDED SOFTWARE DEVELOPER  POSITION_FRONT-END DEVELOPER  POSITION_FULL STACK DEVELOPER  ...  COMPANY_Startup  COMPANY_Yazılım & Teknoloji  WORK_TYPE_Geçici Remote  WORK_TYPE_Hibrit  WORK_TYPE_Ofis  WORK_TYPE_Remote  CITY_yurt_ici  CURRENCY_£ - Sterlin  CURRENCY_€ - Euro  CURRENCY_₺ - Türk Lirası\n",
      "5021      0           1           8499             0                        0                        0                         0                                     0                             0                              0  ...                0                            0                        0                 1               0                 0              1                     0                  0                         1\n",
      "5022      0           0          10499             0                        0                        0                         0                                     0                             0                              0  ...                0                            0                        0                 0               0                 1              1                     0                  0                         1\n",
      "5023      0           0           8499             0                        0                        0                         0                                     0                             0                              0  ...                0                            0                        0                 1               0                 0              1                     0                  0                         1\n",
      "5024      2           2          25499             0                        0                        0                         0                                     0                             0                              1  ...                0                            0                        1                 0               0                 0              1                     0                  0                         1\n",
      "5025      0           0          11499             0                        0                        0                         0                                     0                             1                              0  ...                0                            0                        0                 0               0                 1              1                     0                  0                         1\n",
      "\n",
      "[5 rows x 34 columns]\n",
      "##################### NA #####################\n",
      "LEVEL                                      0\n",
      "EXPERIENCE                                 0\n",
      "SALARY_AVG_TL                              0\n",
      "POSITION_CTO                               0\n",
      "POSITION_DATA SCIENTIST                    0\n",
      "POSITION_DATABASE ADMIN                    0\n",
      "POSITION_DEVOPS ENGINEER                   0\n",
      "POSITION_EMBEDDED SOFTWARE DEVELOPER       0\n",
      "POSITION_FRONT-END DEVELOPER               0\n",
      "POSITION_FULL STACK DEVELOPER              0\n",
      "POSITION_GAME DEVELOPER                    0\n",
      "POSITION_MOBILE APPLICATION DEVELOPER      0\n",
      "POSITION_OTHERS                            0\n",
      "POSITION_QA / TEST AUTOMATION DEVELOPER    0\n",
      "POSITION_SOFTWARE ARCHITECT                0\n",
      "POSITION_SOFTWARE DEVELOPMENT MANAGER      0\n",
      "POSITION_TEAM / TECH LEAD                  0\n",
      "GENDER_Kadın                               0\n",
      "COMPANY_Dijital / Reklam Ajansı            0\n",
      "COMPANY_E-Ticaret                          0\n",
      "COMPANY_Fintech / Finans                   0\n",
      "COMPANY_Kurumsal                           0\n",
      "COMPANY_Outsource                          0\n",
      "COMPANY_Oyun                               0\n",
      "COMPANY_Startup                            0\n",
      "COMPANY_Yazılım & Teknoloji                0\n",
      "WORK_TYPE_Geçici Remote                    0\n",
      "WORK_TYPE_Hibrit                           0\n",
      "WORK_TYPE_Ofis                             0\n",
      "WORK_TYPE_Remote                           0\n",
      "CITY_yurt_ici                              0\n",
      "CURRENCY_£ - Sterlin                       0\n",
      "CURRENCY_€ - Euro                          0\n",
      "CURRENCY_₺ - Türk Lirası                   0\n",
      "dtype: int64\n",
      "##################### Quantiles #####################\n",
      "                                           0.00    0.05     0.50     0.95       0.99      1.00\n",
      "LEVEL                                       0.0     0.0      1.0      2.0       2.00       2.0\n",
      "EXPERIENCE                                  0.0     0.0      2.0      6.0       6.00       6.0\n",
      "SALARY_AVG_TL                            5499.0  5499.0  15499.0  68135.0  195605.00  236868.0\n",
      "POSITION_CTO                                0.0     0.0      0.0      0.0       0.75       1.0\n",
      "POSITION_DATA SCIENTIST                     0.0     0.0      0.0      0.0       1.00       1.0\n",
      "POSITION_DATABASE ADMIN                     0.0     0.0      0.0      0.0       0.00       1.0\n",
      "POSITION_DEVOPS ENGINEER                    0.0     0.0      0.0      0.0       1.00       1.0\n",
      "POSITION_EMBEDDED SOFTWARE DEVELOPER        0.0     0.0      0.0      0.0       1.00       1.0\n",
      "POSITION_FRONT-END DEVELOPER                0.0     0.0      0.0      1.0       1.00       1.0\n",
      "POSITION_FULL STACK DEVELOPER               0.0     0.0      0.0      1.0       1.00       1.0\n",
      "POSITION_GAME DEVELOPER                     0.0     0.0      0.0      0.0       1.00       1.0\n",
      "POSITION_MOBILE APPLICATION DEVELOPER       0.0     0.0      0.0      1.0       1.00       1.0\n",
      "POSITION_OTHERS                             0.0     0.0      0.0      0.0       1.00       1.0\n",
      "POSITION_QA / TEST AUTOMATION DEVELOPER     0.0     0.0      0.0      0.0       1.00       1.0\n",
      "POSITION_SOFTWARE ARCHITECT                 0.0     0.0      0.0      0.0       1.00       1.0\n",
      "POSITION_SOFTWARE DEVELOPMENT MANAGER       0.0     0.0      0.0      0.0       1.00       1.0\n",
      "POSITION_TEAM / TECH LEAD                   0.0     0.0      0.0      1.0       1.00       1.0\n",
      "GENDER_Kadın                                0.0     0.0      0.0      1.0       1.00       1.0\n",
      "COMPANY_Dijital / Reklam Ajansı             0.0     0.0      0.0      0.0       1.00       1.0\n",
      "COMPANY_E-Ticaret                           0.0     0.0      0.0      1.0       1.00       1.0\n",
      "COMPANY_Fintech / Finans                    0.0     0.0      0.0      0.0       0.00       1.0\n",
      "COMPANY_Kurumsal                            0.0     0.0      0.0      1.0       1.00       1.0\n",
      "COMPANY_Outsource                           0.0     0.0      0.0      1.0       1.00       1.0\n",
      "COMPANY_Oyun                                0.0     0.0      0.0      0.0       1.00       1.0\n",
      "COMPANY_Startup                             0.0     0.0      0.0      1.0       1.00       1.0\n",
      "COMPANY_Yazılım & Teknoloji                 0.0     0.0      0.0      0.0       0.00       1.0\n",
      "WORK_TYPE_Geçici Remote                     0.0     0.0      0.0      1.0       1.00       1.0\n",
      "WORK_TYPE_Hibrit                            0.0     0.0      0.0      1.0       1.00       1.0\n",
      "WORK_TYPE_Ofis                              0.0     0.0      0.0      1.0       1.00       1.0\n",
      "WORK_TYPE_Remote                            0.0     0.0      0.0      1.0       1.00       1.0\n",
      "CITY_yurt_ici                               0.0     0.0      1.0      1.0       1.00       1.0\n",
      "CURRENCY_£ - Sterlin                        0.0     0.0      0.0      0.0       0.00       1.0\n",
      "CURRENCY_€ - Euro                           0.0     0.0      0.0      0.0       1.00       1.0\n",
      "CURRENCY_₺ - Türk Lirası                    0.0     0.0      1.0      1.0       1.00       1.0\n"
     ]
    }
   ],
   "source": [
    "def check_df(dataframe, head=5):\n",
    "    print(\"##################### Shape #####################\")\n",
    "    print(dataframe.shape)\n",
    "    print(\"##################### Types #####################\")\n",
    "    print(dataframe.dtypes)\n",
    "    print(\"##################### Head #####################\")\n",
    "    print(dataframe.head(head))\n",
    "    print(\"##################### Tail #####################\")\n",
    "    print(dataframe.tail(head))\n",
    "    print(\"##################### NA #####################\")\n",
    "    print(dataframe.isnull().sum())\n",
    "    print(\"##################### Quantiles #####################\")\n",
    "    print(dataframe.quantile([0, 0.05, 0.50, 0.95, 0.99, 1]).T)\n",
    "\n",
    "check_df(df)"
   ]
  },
  {
   "cell_type": "code",
   "execution_count": null,
   "id": "f6d60ca7-cac2-4aa8-9d41-fb7712cdfcdd",
   "metadata": {},
   "outputs": [],
   "source": [
    "#buraya kadar olan yer encode edilmiş df"
   ]
  },
  {
   "cell_type": "code",
   "execution_count": 23,
   "id": "de00b0e8-5651-4b47-8613-e9f38fb4377f",
   "metadata": {},
   "outputs": [],
   "source": [
    "df.to_csv(\"d_encoded.csv\")"
   ]
  },
  {
   "cell_type": "code",
   "execution_count": null,
   "id": "503e2122-2644-4ab9-b541-d5e39d078344",
   "metadata": {
    "collapsed": true,
    "jupyter": {
     "outputs_hidden": true
    },
    "tags": []
   },
   "outputs": [],
   "source": [
    "\n"
   ]
  },
  {
   "cell_type": "code",
   "execution_count": 77,
   "id": "86340b78-13c6-4442-baee-d90cc735e232",
   "metadata": {},
   "outputs": [],
   "source": [
    "#MODEL KURMA"
   ]
  },
  {
   "cell_type": "code",
   "execution_count": 29,
   "id": "3ee47b35-2cf3-4afe-8579-0642662ea716",
   "metadata": {},
   "outputs": [],
   "source": [
    "#Bagımlı ve bagımsız degiskenlerimizi ayırıyoruz\n",
    "y = df[\"SALARY_AVG_TL\"]\n",
    "X = df.drop([\"SALARY_AVG_TL\"], axis=1)"
   ]
  },
  {
   "cell_type": "code",
   "execution_count": 30,
   "id": "2dedd063-7b63-4ace-9273-11d2600e67cc",
   "metadata": {
    "tags": []
   },
   "outputs": [
    {
     "data": {
      "image/png": "[encoded data removed]",
      "text/plain": [
       "<Figure size 1000x1000 with 1 Axes>"
      ]
     },
     "metadata": {},
     "output_type": "display_data"
    }
   ],
   "source": [
    "# Degiskenlerin önem düzeyini belirten feature importance\n",
    "def plot_importance(model, features, num=len(X), save=False):\n",
    "\n",
    "    feature_imp = pd.DataFrame({\"Value\": model.feature_importances_, \"Feature\": features.columns})\n",
    "    plt.figure(figsize=(10, 10))\n",
    "    sns.set(font_scale=1)\n",
    "    sns.barplot(x=\"Value\", y=\"Feature\", data=feature_imp.sort_values(by=\"Value\", ascending=False)[0:num])\n",
    "    plt.title(\"Features\")\n",
    "    plt.tight_layout()\n",
    "    plt.show()\n",
    "    if save:\n",
    "        plt.savefig(\"importances.png\")\n",
    "\n",
    "model = LGBMRegressor()\n",
    "model.fit(X, y)\n",
    "\n",
    "plot_importance(model, X)"
   ]
  },
  {
   "cell_type": "code",
   "execution_count": 31,
   "id": "dc5d4f2a-f990-4c93-bdc4-c306af586a8f",
   "metadata": {},
   "outputs": [],
   "source": [
    "## Train verisi ile model kurup, model başarısını değerlendirelim\n",
    "X_train, X_test, y_train, y_test = train_test_split(X, y, test_size=0.25, random_state=17)"
   ]
  },
  {
   "cell_type": "code",
   "execution_count": 34,
   "id": "90487f35-8afd-4c31-ad9a-f2ae5e7477c5",
   "metadata": {},
   "outputs": [
    {
     "name": "stdout",
     "output_type": "stream",
     "text": [
      "RMSE: 17448.668 (LR) \n",
      "RMSE: 21387.5965 (KNN) \n",
      "RMSE: 21894.4471 (CART) \n",
      "RMSE: 18723.2833 (RF) \n",
      "RMSE: 17686.4067 (GBM) \n",
      "RMSE: 19869.193 (XGBoost) \n",
      "RMSE: 18196.8444 (LightGBM) \n"
     ]
    }
   ],
   "source": [
    "#MODELRMSE DEGERLERİNE BAKALIM\n",
    "models = [('LR', LinearRegression()),\n",
    "          #(\"Ridge\", Ridge()),\n",
    "          #(\"Lasso\", Lasso()),\n",
    "          #(\"ElasticNet\", ElasticNet()),\n",
    "          ('KNN', KNeighborsRegressor()),\n",
    "          ('CART', DecisionTreeRegressor()),\n",
    "          ('RF', RandomForestRegressor()),\n",
    "          #('SVR', SVR()),\n",
    "          ('GBM', GradientBoostingRegressor()),\n",
    "          (\"XGBoost\", XGBRegressor(objective='reg:squarederror')),\n",
    "          (\"LightGBM\", LGBMRegressor())]\n",
    "          # (\"CatBoost\", CatBoostRegressor(verbose=False))]\n",
    "\n",
    "for name, regressor in models:\n",
    "    rmse = np.mean(np.sqrt(-cross_val_score(regressor, X_train, y_train, cv=5, scoring=\"neg_mean_squared_error\")))\n",
    "    print(f\"RMSE: {round(rmse, 4)} ({name}) \")"
   ]
  },
  {
   "cell_type": "code",
   "execution_count": 83,
   "id": "a00205b5-12ab-4e17-9769-dca57a70255a",
   "metadata": {},
   "outputs": [
    {
     "data": {
      "text/plain": [
       "24195.556307202547"
      ]
     },
     "execution_count": 83,
     "metadata": {},
     "output_type": "execute_result"
    }
   ],
   "source": [
    "df['SALARY_AVG_TL'].mean()"
   ]
  },
  {
   "cell_type": "code",
   "execution_count": 84,
   "id": "90e024c3-7c3e-4d7e-b72a-e4cb90f937e7",
   "metadata": {},
   "outputs": [
    {
     "data": {
      "text/plain": [
       "29521.804669966416"
      ]
     },
     "execution_count": 84,
     "metadata": {},
     "output_type": "execute_result"
    }
   ],
   "source": [
    "df['SALARY_AVG_TL'].std()"
   ]
  },
  {
   "cell_type": "code",
   "execution_count": null,
   "id": "bb750720-12fb-4c9a-82df-effe91a6d684",
   "metadata": {},
   "outputs": [],
   "source": []
  },
  {
   "cell_type": "code",
   "execution_count": null,
   "id": "18b32fde-be9d-4c78-bf51-af0981c37158",
   "metadata": {},
   "outputs": [],
   "source": []
  },
  {
   "cell_type": "code",
   "execution_count": 35,
   "id": "0861edf6-6d1d-410f-a4f1-10551d51d879",
   "metadata": {},
   "outputs": [],
   "source": [
    "# Log dönüşümünün gerçekleştirilmesi\n",
    "train_df = df[df['SALARY_AVG_TL'].notnull()]\n",
    "test_df = df[df['SALARY_AVG_TL'].isnull()]"
   ]
  },
  {
   "cell_type": "code",
   "execution_count": 36,
   "id": "258309c3-fb91-4c00-b869-712c5fa6a238",
   "metadata": {},
   "outputs": [],
   "source": [
    "y = np.log1p(train_df['SALARY_AVG_TL'])\n",
    "X = train_df.drop(\"SALARY_AVG_TL\", axis=1)"
   ]
  },
  {
   "cell_type": "code",
   "execution_count": 37,
   "id": "850d6e70-b68a-4853-b81a-ceea5f5d1ddc",
   "metadata": {},
   "outputs": [],
   "source": [
    "X_train, X_test, y_train, y_test = train_test_split(X, y, test_size=0.20, random_state=17)\n"
   ]
  },
  {
   "cell_type": "code",
   "execution_count": 38,
   "id": "5283f8b2-7463-4182-8edf-da93c8bac9be",
   "metadata": {},
   "outputs": [
    {
     "data": {
      "text/plain": [
       "array([ 9.12315578,  8.97172734, 10.47861807, ...,  8.91113725,\n",
       "        8.9983543 ,  9.02315711])"
      ]
     },
     "execution_count": 38,
     "metadata": {},
     "output_type": "execute_result"
    }
   ],
   "source": [
    "lgbm = LGBMRegressor().fit(X_train, y_train)\n",
    "y_pred = lgbm.predict(X_test)\n",
    "\n",
    "y_pred"
   ]
  },
  {
   "cell_type": "code",
   "execution_count": 39,
   "id": "15fd3f9d-7375-4aca-98e2-976fd0a17fcb",
   "metadata": {},
   "outputs": [
    {
     "data": {
      "text/plain": [
       "array([ 9164.07900368,  7876.19645403, 35546.24962141, ...,\n",
       "        7413.08797243,  8088.75966758,  8291.91746569])"
      ]
     },
     "execution_count": 39,
     "metadata": {},
     "output_type": "execute_result"
    }
   ],
   "source": [
    "# Yapılan LOG dönüşümünün tersinin (inverse'nin) alınması\n",
    "new_y = np.expm1(y_pred)\n",
    "new_y"
   ]
  },
  {
   "cell_type": "code",
   "execution_count": 40,
   "id": "2952013e-5561-4afe-a4c6-11a67d0ce2b8",
   "metadata": {},
   "outputs": [
    {
     "data": {
      "text/plain": [
       "1343      7499.0\n",
       "2952      5499.0\n",
       "184      25499.0\n",
       "1465     14499.0\n",
       "1314    121085.0\n",
       "          ...   \n",
       "2440      5499.0\n",
       "2137     10499.0\n",
       "2326      5499.0\n",
       "4086      8499.0\n",
       "695       9499.0\n",
       "Name: SALARY_AVG_TL, Length: 1006, dtype: float64"
      ]
     },
     "execution_count": 40,
     "metadata": {},
     "output_type": "execute_result"
    }
   ],
   "source": [
    "new_y_test = np.expm1(y_test)\n",
    "new_y_test"
   ]
  },
  {
   "cell_type": "code",
   "execution_count": 41,
   "id": "88142807-0209-4bb2-a33d-254c18eb2100",
   "metadata": {},
   "outputs": [
    {
     "data": {
      "text/plain": [
       "20082.664894122463"
      ]
     },
     "execution_count": 41,
     "metadata": {},
     "output_type": "execute_result"
    }
   ],
   "source": [
    "np.sqrt(mean_squared_error(new_y_test, new_y))"
   ]
  },
  {
   "cell_type": "code",
   "execution_count": 102,
   "id": "0bb6e566-4fff-4d2f-beb8-83a93f787941",
   "metadata": {},
   "outputs": [],
   "source": [
    "#LGBMRegressor Modelini Kuralım ve \n",
    "# hiperparametre optimizasyonlarını gerçekleştirelim"
   ]
  },
  {
   "cell_type": "code",
   "execution_count": 42,
   "id": "d42f6d35-a25a-4591-89f5-68adfb75a90d",
   "metadata": {
    "tags": []
   },
   "outputs": [],
   "source": [
    "lgbm_model = LGBMRegressor(random_state=46)"
   ]
  },
  {
   "cell_type": "code",
   "execution_count": 43,
   "id": "16f86186-6424-4309-8a8b-92bb15735a9d",
   "metadata": {
    "tags": []
   },
   "outputs": [],
   "source": [
    "rmse = np.mean(np.sqrt(-cross_val_score(lgbm_model, X, y, cv=5, scoring=\"neg_mean_squared_error\")))"
   ]
  },
  {
   "cell_type": "code",
   "execution_count": 44,
   "id": "983d0c41-7bf2-428a-8756-776e376bfd3e",
   "metadata": {},
   "outputs": [
    {
     "data": {
      "text/plain": [
       "0.3693034856113914"
      ]
     },
     "execution_count": 44,
     "metadata": {},
     "output_type": "execute_result"
    }
   ],
   "source": [
    "rmse"
   ]
  },
  {
   "cell_type": "code",
   "execution_count": 45,
   "id": "bfb6d18b-fc9f-4200-8abc-dfcc0a66b33e",
   "metadata": {},
   "outputs": [],
   "source": [
    "lgbm_params = {\"learning_rate\": [0.01, 0.1],\n",
    "               \"n_estimators\": [500, 1500]\n",
    "               #\"colsample_bytree\": [0.5, 0.7, 1]\n",
    "             }"
   ]
  },
  {
   "cell_type": "code",
   "execution_count": 46,
   "id": "7306cc48-8599-414a-b675-b715dc6619aa",
   "metadata": {},
   "outputs": [
    {
     "name": "stdout",
     "output_type": "stream",
     "text": [
      "Fitting 5 folds for each of 4 candidates, totalling 20 fits\n"
     ]
    }
   ],
   "source": [
    "lgbm_gs_best = GridSearchCV(lgbm_model,\n",
    "                            lgbm_params,\n",
    "                            cv=5,\n",
    "                            n_jobs=-1,\n",
    "                            verbose=True).fit(X, y)\n"
   ]
  },
  {
   "cell_type": "code",
   "execution_count": 47,
   "id": "be62c911-29c0-44f2-a57d-3b96f148c5e7",
   "metadata": {},
   "outputs": [],
   "source": [
    "final_model = lgbm_model.set_params(**lgbm_gs_best.best_params_).fit(X, y)\n"
   ]
  },
  {
   "cell_type": "code",
   "execution_count": 48,
   "id": "73635398-4524-4b90-a49e-ae0580e26588",
   "metadata": {},
   "outputs": [],
   "source": [
    "rmse = np.mean(np.sqrt(-cross_val_score(final_model, X, y, cv=5, scoring=\"neg_mean_squared_error\")))"
   ]
  },
  {
   "cell_type": "code",
   "execution_count": 49,
   "id": "4eae102f-61af-43d8-ba36-ab92d8848b62",
   "metadata": {},
   "outputs": [
    {
     "data": {
      "text/plain": [
       "0.36772960994904347"
      ]
     },
     "execution_count": 49,
     "metadata": {},
     "output_type": "execute_result"
    }
   ],
   "source": [
    "rmse"
   ]
  },
  {
   "cell_type": "code",
   "execution_count": 51,
   "id": "3921ea63-781a-4b1d-9e65-777b650475c3",
   "metadata": {
    "tags": []
   },
   "outputs": [],
   "source": [
    "model = LGBMRegressor()\n",
    "model.fit(X, y)\n",
    "predictions = model.predict(df.drop(\"SALARY_AVG_TL\", axis=1))"
   ]
  },
  {
   "cell_type": "code",
   "execution_count": 52,
   "id": "06e0cc57-db0e-47bc-b56f-39ce96353358",
   "metadata": {},
   "outputs": [
    {
     "data": {
      "text/plain": [
       "array([9.6519143 , 8.88987115, 9.49698082, ..., 9.00886971, 9.8928128 ,\n",
       "       9.01941078])"
      ]
     },
     "execution_count": 52,
     "metadata": {},
     "output_type": "execute_result"
    }
   ],
   "source": [
    "predictions"
   ]
  },
  {
   "cell_type": "code",
   "execution_count": 53,
   "id": "c959e0c2-c39b-4fc8-97fa-dd53dc2dfe02",
   "metadata": {},
   "outputs": [
    {
     "data": {
      "text/plain": [
       "1343     8.922658\n",
       "2952     8.612503\n",
       "184     10.146434\n",
       "1465     9.581904\n",
       "1314    11.704256\n",
       "          ...    \n",
       "2440     8.612503\n",
       "2137     9.259131\n",
       "2326     8.612503\n",
       "4086     9.047821\n",
       "695      9.159047\n",
       "Name: SALARY_AVG_TL, Length: 1006, dtype: float64"
      ]
     },
     "execution_count": 53,
     "metadata": {},
     "output_type": "execute_result"
    }
   ],
   "source": [
    "y_test"
   ]
  },
  {
   "cell_type": "code",
   "execution_count": 54,
   "id": "bc997563-9610-40fb-a8f1-2888bb4e96fa",
   "metadata": {},
   "outputs": [
    {
     "data": {
      "text/plain": [
       "array([ 8.9226583 ,  8.61250337, 10.14643373, ...,  8.61250337,\n",
       "        9.04782144,  9.15904708])"
      ]
     },
     "execution_count": 54,
     "metadata": {},
     "output_type": "execute_result"
    }
   ],
   "source": [
    "#Y_TEST VE Y_PRED DEGERLERİMİZİ AYRI BİR DATAFRAME'DE YANYANA GÖRELİM\n",
    "veri=np.array(y_test)\n",
    "veri"
   ]
  },
  {
   "cell_type": "code",
   "execution_count": 55,
   "id": "a126d041-b97f-4837-ac9b-defbf3208021",
   "metadata": {},
   "outputs": [
    {
     "data": {
      "text/html": [
       "<div>\n",
       "<style scoped>\n",
       "    .dataframe tbody tr th:only-of-type {\n",
       "        vertical-align: middle;\n",
       "    }\n",
       "\n",
       "    .dataframe tbody tr th {\n",
       "        vertical-align: top;\n",
       "    }\n",
       "\n",
       "    .dataframe thead th {\n",
       "        text-align: right;\n",
       "    }\n",
       "</style>\n",
       "<table border=\"1\" class=\"dataframe\">\n",
       "  <thead>\n",
       "    <tr style=\"text-align: right;\">\n",
       "      <th></th>\n",
       "      <th>y_test</th>\n",
       "      <th>y_pred</th>\n",
       "    </tr>\n",
       "  </thead>\n",
       "  <tbody>\n",
       "    <tr>\n",
       "      <th>0</th>\n",
       "      <td>8.922658</td>\n",
       "      <td>9.651914</td>\n",
       "    </tr>\n",
       "    <tr>\n",
       "      <th>1</th>\n",
       "      <td>8.612503</td>\n",
       "      <td>8.889871</td>\n",
       "    </tr>\n",
       "    <tr>\n",
       "      <th>2</th>\n",
       "      <td>10.146434</td>\n",
       "      <td>9.496981</td>\n",
       "    </tr>\n",
       "    <tr>\n",
       "      <th>3</th>\n",
       "      <td>9.581904</td>\n",
       "      <td>9.091958</td>\n",
       "    </tr>\n",
       "    <tr>\n",
       "      <th>4</th>\n",
       "      <td>11.704256</td>\n",
       "      <td>8.972573</td>\n",
       "    </tr>\n",
       "    <tr>\n",
       "      <th>5</th>\n",
       "      <td>8.922658</td>\n",
       "      <td>9.791361</td>\n",
       "    </tr>\n",
       "    <tr>\n",
       "      <th>6</th>\n",
       "      <td>9.047821</td>\n",
       "      <td>9.181785</td>\n",
       "    </tr>\n",
       "    <tr>\n",
       "      <th>7</th>\n",
       "      <td>9.047821</td>\n",
       "      <td>11.383361</td>\n",
       "    </tr>\n",
       "    <tr>\n",
       "      <th>8</th>\n",
       "      <td>9.648595</td>\n",
       "      <td>9.598346</td>\n",
       "    </tr>\n",
       "    <tr>\n",
       "      <th>9</th>\n",
       "      <td>9.259131</td>\n",
       "      <td>9.891017</td>\n",
       "    </tr>\n",
       "    <tr>\n",
       "      <th>10</th>\n",
       "      <td>11.336499</td>\n",
       "      <td>9.997647</td>\n",
       "    </tr>\n",
       "    <tr>\n",
       "      <th>11</th>\n",
       "      <td>9.047821</td>\n",
       "      <td>8.855832</td>\n",
       "    </tr>\n",
       "    <tr>\n",
       "      <th>12</th>\n",
       "      <td>10.419301</td>\n",
       "      <td>9.862841</td>\n",
       "    </tr>\n",
       "    <tr>\n",
       "      <th>13</th>\n",
       "      <td>12.183858</td>\n",
       "      <td>10.841970</td>\n",
       "    </tr>\n",
       "    <tr>\n",
       "      <th>14</th>\n",
       "      <td>8.612503</td>\n",
       "      <td>9.875676</td>\n",
       "    </tr>\n",
       "    <tr>\n",
       "      <th>15</th>\n",
       "      <td>11.972538</td>\n",
       "      <td>9.154112</td>\n",
       "    </tr>\n",
       "    <tr>\n",
       "      <th>16</th>\n",
       "      <td>10.064756</td>\n",
       "      <td>11.004898</td>\n",
       "    </tr>\n",
       "    <tr>\n",
       "      <th>17</th>\n",
       "      <td>8.612503</td>\n",
       "      <td>9.486465</td>\n",
       "    </tr>\n",
       "    <tr>\n",
       "      <th>18</th>\n",
       "      <td>8.612503</td>\n",
       "      <td>9.811324</td>\n",
       "    </tr>\n",
       "    <tr>\n",
       "      <th>19</th>\n",
       "      <td>9.928180</td>\n",
       "      <td>8.973863</td>\n",
       "    </tr>\n",
       "    <tr>\n",
       "      <th>20</th>\n",
       "      <td>10.419301</td>\n",
       "      <td>9.988672</td>\n",
       "    </tr>\n",
       "    <tr>\n",
       "      <th>21</th>\n",
       "      <td>9.259131</td>\n",
       "      <td>11.864004</td>\n",
       "    </tr>\n",
       "    <tr>\n",
       "      <th>22</th>\n",
       "      <td>8.612503</td>\n",
       "      <td>10.953442</td>\n",
       "    </tr>\n",
       "    <tr>\n",
       "      <th>23</th>\n",
       "      <td>9.581904</td>\n",
       "      <td>9.593304</td>\n",
       "    </tr>\n",
       "    <tr>\n",
       "      <th>24</th>\n",
       "      <td>8.612503</td>\n",
       "      <td>10.152717</td>\n",
       "    </tr>\n",
       "    <tr>\n",
       "      <th>25</th>\n",
       "      <td>8.612503</td>\n",
       "      <td>9.473052</td>\n",
       "    </tr>\n",
       "    <tr>\n",
       "      <th>26</th>\n",
       "      <td>10.357743</td>\n",
       "      <td>9.934269</td>\n",
       "    </tr>\n",
       "    <tr>\n",
       "      <th>27</th>\n",
       "      <td>9.159047</td>\n",
       "      <td>9.624716</td>\n",
       "    </tr>\n",
       "    <tr>\n",
       "      <th>28</th>\n",
       "      <td>9.350102</td>\n",
       "      <td>9.245823</td>\n",
       "    </tr>\n",
       "    <tr>\n",
       "      <th>29</th>\n",
       "      <td>11.085153</td>\n",
       "      <td>11.162337</td>\n",
       "    </tr>\n",
       "    <tr>\n",
       "      <th>30</th>\n",
       "      <td>9.581904</td>\n",
       "      <td>9.219112</td>\n",
       "    </tr>\n",
       "    <tr>\n",
       "      <th>31</th>\n",
       "      <td>10.184900</td>\n",
       "      <td>10.689571</td>\n",
       "    </tr>\n",
       "    <tr>\n",
       "      <th>32</th>\n",
       "      <td>10.325482</td>\n",
       "      <td>10.176770</td>\n",
       "    </tr>\n",
       "    <tr>\n",
       "      <th>33</th>\n",
       "      <td>8.922658</td>\n",
       "      <td>10.061501</td>\n",
       "    </tr>\n",
       "    <tr>\n",
       "      <th>34</th>\n",
       "      <td>9.878170</td>\n",
       "      <td>8.974160</td>\n",
       "    </tr>\n",
       "    <tr>\n",
       "      <th>35</th>\n",
       "      <td>10.146434</td>\n",
       "      <td>9.583940</td>\n",
       "    </tr>\n",
       "    <tr>\n",
       "      <th>36</th>\n",
       "      <td>10.325482</td>\n",
       "      <td>9.623041</td>\n",
       "    </tr>\n",
       "    <tr>\n",
       "      <th>37</th>\n",
       "      <td>10.221941</td>\n",
       "      <td>9.899591</td>\n",
       "    </tr>\n",
       "    <tr>\n",
       "      <th>38</th>\n",
       "      <td>9.648595</td>\n",
       "      <td>9.460036</td>\n",
       "    </tr>\n",
       "    <tr>\n",
       "      <th>39</th>\n",
       "      <td>9.350102</td>\n",
       "      <td>8.939216</td>\n",
       "    </tr>\n",
       "  </tbody>\n",
       "</table>\n",
       "</div>"
      ],
      "text/plain": [
       "       y_test     y_pred\n",
       "0    8.922658   9.651914\n",
       "1    8.612503   8.889871\n",
       "2   10.146434   9.496981\n",
       "3    9.581904   9.091958\n",
       "4   11.704256   8.972573\n",
       "5    8.922658   9.791361\n",
       "6    9.047821   9.181785\n",
       "7    9.047821  11.383361\n",
       "8    9.648595   9.598346\n",
       "9    9.259131   9.891017\n",
       "10  11.336499   9.997647\n",
       "11   9.047821   8.855832\n",
       "12  10.419301   9.862841\n",
       "13  12.183858  10.841970\n",
       "14   8.612503   9.875676\n",
       "15  11.972538   9.154112\n",
       "16  10.064756  11.004898\n",
       "17   8.612503   9.486465\n",
       "18   8.612503   9.811324\n",
       "19   9.928180   8.973863\n",
       "20  10.419301   9.988672\n",
       "21   9.259131  11.864004\n",
       "22   8.612503  10.953442\n",
       "23   9.581904   9.593304\n",
       "24   8.612503  10.152717\n",
       "25   8.612503   9.473052\n",
       "26  10.357743   9.934269\n",
       "27   9.159047   9.624716\n",
       "28   9.350102   9.245823\n",
       "29  11.085153  11.162337\n",
       "30   9.581904   9.219112\n",
       "31  10.184900  10.689571\n",
       "32  10.325482  10.176770\n",
       "33   8.922658  10.061501\n",
       "34   9.878170   8.974160\n",
       "35  10.146434   9.583940\n",
       "36  10.325482   9.623041\n",
       "37  10.221941   9.899591\n",
       "38   9.648595   9.460036\n",
       "39   9.350102   8.939216"
      ]
     },
     "execution_count": 55,
     "metadata": {},
     "output_type": "execute_result"
    }
   ],
   "source": [
    "dff=pd.DataFrame(data=veri, columns=[\"y_test\"])\n",
    "dff\n",
    "dff[\"y_pred\"]=  pd.DataFrame(predictions,columns = [\"y_pred\"])\n",
    "dff.head(40)"
   ]
  },
  {
   "cell_type": "code",
   "execution_count": null,
   "id": "5c0ab88c-e9a6-44ce-a949-269f8d146b34",
   "metadata": {},
   "outputs": [],
   "source": []
  },
  {
   "cell_type": "code",
   "execution_count": null,
   "id": "3e4ea566-a91d-4459-98d0-239374d9e18a",
   "metadata": {},
   "outputs": [],
   "source": []
  },
  {
   "cell_type": "code",
   "execution_count": null,
   "id": "dc7bbf35-36aa-4791-9fce-e32db9a2e5cd",
   "metadata": {},
   "outputs": [],
   "source": []
  },
  {
   "cell_type": "code",
   "execution_count": 116,
   "id": "d1e8226c-e49c-4185-a4c5-6a190309f124",
   "metadata": {},
   "outputs": [],
   "source": [
    "df.to_csv(\"yeni_step_lightGBM_modelli.csv\")"
   ]
  },
  {
   "cell_type": "code",
   "execution_count": null,
   "id": "7e1d220c-e10a-4aa8-99fc-045975553314",
   "metadata": {},
   "outputs": [],
   "source": []
  }
 ],
 "metadata": {
  "kernelspec": {
   "display_name": "Python 3 (ipykernel)",
   "language": "python",
   "name": "python3"
  },
  "language_info": {
   "codemirror_mode": {
    "name": "ipython",
    "version": 3
   },
   "file_extension": ".py",
   "mimetype": "text/x-python",
   "name": "python",
   "nbconvert_exporter": "python",
   "pygments_lexer": "ipython3",
   "version": "3.9.12"
  }
 },
 "nbformat": 4,
 "nbformat_minor": 5
}

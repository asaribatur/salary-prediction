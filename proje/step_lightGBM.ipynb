{
 "cells": [
  {
   "cell_type": "code",
   "execution_count": 1,
   "id": "dbe7dc2b-c0e9-4d7d-a283-0e493e7e295a",
   "metadata": {},
   "outputs": [
    {
     "name": "stderr",
     "output_type": "stream",
     "text": [
      "C:\\Users\\makif\\anaconda3\\lib\\site-packages\\xgboost\\compat.py:36: FutureWarning: pandas.Int64Index is deprecated and will be removed from pandas in a future version. Use pandas.Index with the appropriate dtype instead.\n",
      "  from pandas import MultiIndex, Int64Index\n"
     ]
    }
   ],
   "source": [
    "import numpy as np\n",
    "import pandas as pd\n",
    "# from pandas import Series, DataFrame \n",
    "import seaborn as sns\n",
    "from matplotlib import pyplot as plt\n",
    "\n",
    "from sklearn.preprocessing import LabelEncoder, OneHotEncoder\n",
    "\n",
    "import warnings\n",
    "from sklearn import metrics\n",
    "from sklearn.ensemble import RandomForestClassifier, GradientBoostingClassifier, VotingClassifier\n",
    "from sklearn.model_selection import cross_validate, train_test_split, GridSearchCV, cross_val_score, RandomizedSearchCV, validation_curve\n",
    "\n",
    "# from xgboost import XGBClassifier\n",
    "import lightgbm as ltb\n",
    "# from catboost import CatBoostClassifier\n",
    "from sklearn.linear_model import LogisticRegression\n",
    "from statsmodels.stats.outliers_influence import variance_inflation_factor\n",
    "from catboost import CatBoostRegressor\n",
    "from lightgbm import LGBMRegressor\n",
    "from sklearn.ensemble import RandomForestRegressor, GradientBoostingRegressor\n",
    "from sklearn.exceptions import ConvergenceWarning\n",
    "from sklearn.linear_model import LinearRegression, Ridge, Lasso, ElasticNet\n",
    "from sklearn.neighbors import KNeighborsRegressor\n",
    "from sklearn.svm import SVR\n",
    "from sklearn.tree import DecisionTreeRegressor\n",
    "from xgboost import XGBRegressor\n",
    "from sklearn.preprocessing import LabelEncoder\n",
    "from sklearn.metrics import mean_squared_error\n",
    "from sklearn.linear_model import LinearRegression\n",
    "import joblib\n",
    "from lightgbm import LGBMClassifier\n",
    "from sklearn.ensemble import RandomForestClassifier, GradientBoostingClassifier, VotingClassifier, AdaBoostClassifier\n",
    "from sklearn.linear_model import LogisticRegression\n",
    "from sklearn.neighbors import KNeighborsClassifier\n",
    "from sklearn.preprocessing import StandardScaler\n",
    "from sklearn.svm import SVC\n",
    "from sklearn.tree import DecisionTreeClassifier\n",
    "from xgboost import XGBClassifier\n",
    "\n",
    "\n",
    "warnings.simplefilter(action='ignore', category=FutureWarning)\n",
    "warnings.simplefilter(\"ignore\", category=ConvergenceWarning)\n",
    "pd.set_option('display.width', 10000)\n",
    "\n"
   ]
  },
  {
   "cell_type": "code",
   "execution_count": 4,
   "id": "b4d66585-8704-4eb3-b963-c564327303a8",
   "metadata": {},
   "outputs": [],
   "source": [
    "df=pd.read_csv(r\"C:\\Users\\makif\\Desktop\\MAAS_HESAPLAMA\\step6_encoded.csv\")"
   ]
  },
  {
   "cell_type": "code",
   "execution_count": 5,
   "id": "a6b3258d-270f-4210-833c-0e29d09d754c",
   "metadata": {},
   "outputs": [
    {
     "data": {
      "text/html": [
       "<div>\n",
       "<style scoped>\n",
       "    .dataframe tbody tr th:only-of-type {\n",
       "        vertical-align: middle;\n",
       "    }\n",
       "\n",
       "    .dataframe tbody tr th {\n",
       "        vertical-align: top;\n",
       "    }\n",
       "\n",
       "    .dataframe thead th {\n",
       "        text-align: right;\n",
       "    }\n",
       "</style>\n",
       "<table border=\"1\" class=\"dataframe\">\n",
       "  <thead>\n",
       "    <tr style=\"text-align: right;\">\n",
       "      <th></th>\n",
       "      <th>LEVEL</th>\n",
       "      <th>POSITION_CTO</th>\n",
       "      <th>POSITION_DATA SCIENTIST</th>\n",
       "      <th>POSITION_DATABASE ADMIN</th>\n",
       "      <th>POSITION_DEVOPS ENGINEER</th>\n",
       "      <th>POSITION_EMBEDDED SOFTWARE DEVELOPER</th>\n",
       "      <th>POSITION_FRONT-END DEVELOPER</th>\n",
       "      <th>POSITION_FULL STACK DEVELOPER</th>\n",
       "      <th>POSITION_GAME DEVELOPER</th>\n",
       "      <th>POSITION_MOBILE APPLICATION DEVELOPER</th>\n",
       "      <th>...</th>\n",
       "      <th>COMPANY_Yazılım &amp; Teknoloji</th>\n",
       "      <th>WORK_TYPE_Geçici Remote</th>\n",
       "      <th>WORK_TYPE_Hibrit</th>\n",
       "      <th>WORK_TYPE_Ofis</th>\n",
       "      <th>WORK_TYPE_Remote</th>\n",
       "      <th>CITY_yurt_ici</th>\n",
       "      <th>CURRENCY_GBP</th>\n",
       "      <th>CURRENCY_TRY</th>\n",
       "      <th>CURRENCY_USD</th>\n",
       "      <th>SALARY_AVG_TL</th>\n",
       "    </tr>\n",
       "  </thead>\n",
       "  <tbody>\n",
       "    <tr>\n",
       "      <th>0</th>\n",
       "      <td>1</td>\n",
       "      <td>0</td>\n",
       "      <td>0</td>\n",
       "      <td>0</td>\n",
       "      <td>0</td>\n",
       "      <td>0</td>\n",
       "      <td>0</td>\n",
       "      <td>0</td>\n",
       "      <td>0</td>\n",
       "      <td>0</td>\n",
       "      <td>...</td>\n",
       "      <td>0</td>\n",
       "      <td>0</td>\n",
       "      <td>1</td>\n",
       "      <td>0</td>\n",
       "      <td>0</td>\n",
       "      <td>1</td>\n",
       "      <td>0</td>\n",
       "      <td>1</td>\n",
       "      <td>0</td>\n",
       "      <td>15499</td>\n",
       "    </tr>\n",
       "    <tr>\n",
       "      <th>1</th>\n",
       "      <td>0</td>\n",
       "      <td>0</td>\n",
       "      <td>0</td>\n",
       "      <td>0</td>\n",
       "      <td>0</td>\n",
       "      <td>0</td>\n",
       "      <td>1</td>\n",
       "      <td>0</td>\n",
       "      <td>0</td>\n",
       "      <td>0</td>\n",
       "      <td>...</td>\n",
       "      <td>0</td>\n",
       "      <td>0</td>\n",
       "      <td>1</td>\n",
       "      <td>0</td>\n",
       "      <td>0</td>\n",
       "      <td>1</td>\n",
       "      <td>0</td>\n",
       "      <td>1</td>\n",
       "      <td>0</td>\n",
       "      <td>8499</td>\n",
       "    </tr>\n",
       "    <tr>\n",
       "      <th>2</th>\n",
       "      <td>1</td>\n",
       "      <td>0</td>\n",
       "      <td>0</td>\n",
       "      <td>0</td>\n",
       "      <td>0</td>\n",
       "      <td>0</td>\n",
       "      <td>0</td>\n",
       "      <td>0</td>\n",
       "      <td>0</td>\n",
       "      <td>0</td>\n",
       "      <td>...</td>\n",
       "      <td>0</td>\n",
       "      <td>0</td>\n",
       "      <td>0</td>\n",
       "      <td>0</td>\n",
       "      <td>1</td>\n",
       "      <td>1</td>\n",
       "      <td>0</td>\n",
       "      <td>1</td>\n",
       "      <td>0</td>\n",
       "      <td>15499</td>\n",
       "    </tr>\n",
       "    <tr>\n",
       "      <th>3</th>\n",
       "      <td>0</td>\n",
       "      <td>0</td>\n",
       "      <td>0</td>\n",
       "      <td>0</td>\n",
       "      <td>0</td>\n",
       "      <td>0</td>\n",
       "      <td>0</td>\n",
       "      <td>1</td>\n",
       "      <td>0</td>\n",
       "      <td>0</td>\n",
       "      <td>...</td>\n",
       "      <td>0</td>\n",
       "      <td>0</td>\n",
       "      <td>1</td>\n",
       "      <td>0</td>\n",
       "      <td>0</td>\n",
       "      <td>1</td>\n",
       "      <td>0</td>\n",
       "      <td>1</td>\n",
       "      <td>0</td>\n",
       "      <td>10499</td>\n",
       "    </tr>\n",
       "    <tr>\n",
       "      <th>4</th>\n",
       "      <td>0</td>\n",
       "      <td>0</td>\n",
       "      <td>0</td>\n",
       "      <td>0</td>\n",
       "      <td>0</td>\n",
       "      <td>0</td>\n",
       "      <td>0</td>\n",
       "      <td>0</td>\n",
       "      <td>0</td>\n",
       "      <td>0</td>\n",
       "      <td>...</td>\n",
       "      <td>0</td>\n",
       "      <td>0</td>\n",
       "      <td>0</td>\n",
       "      <td>0</td>\n",
       "      <td>0</td>\n",
       "      <td>1</td>\n",
       "      <td>0</td>\n",
       "      <td>1</td>\n",
       "      <td>0</td>\n",
       "      <td>5499</td>\n",
       "    </tr>\n",
       "  </tbody>\n",
       "</table>\n",
       "<p>5 rows × 33 columns</p>\n",
       "</div>"
      ],
      "text/plain": [
       "   LEVEL  POSITION_CTO  POSITION_DATA SCIENTIST  POSITION_DATABASE ADMIN  POSITION_DEVOPS ENGINEER  POSITION_EMBEDDED SOFTWARE DEVELOPER  POSITION_FRONT-END DEVELOPER  POSITION_FULL STACK DEVELOPER  POSITION_GAME DEVELOPER  POSITION_MOBILE APPLICATION DEVELOPER  ...  COMPANY_Yazılım & Teknoloji  WORK_TYPE_Geçici Remote  WORK_TYPE_Hibrit  WORK_TYPE_Ofis  WORK_TYPE_Remote  CITY_yurt_ici  CURRENCY_GBP  CURRENCY_TRY  CURRENCY_USD  SALARY_AVG_TL\n",
       "0      1             0                        0                        0                         0                                     0                             0                              0                        0                                      0  ...                            0                        0                 1               0                 0              1             0             1             0          15499\n",
       "1      0             0                        0                        0                         0                                     0                             1                              0                        0                                      0  ...                            0                        0                 1               0                 0              1             0             1             0           8499\n",
       "2      1             0                        0                        0                         0                                     0                             0                              0                        0                                      0  ...                            0                        0                 0               0                 1              1             0             1             0          15499\n",
       "3      0             0                        0                        0                         0                                     0                             0                              1                        0                                      0  ...                            0                        0                 1               0                 0              1             0             1             0          10499\n",
       "4      0             0                        0                        0                         0                                     0                             0                              0                        0                                      0  ...                            0                        0                 0               0                 0              1             0             1             0           5499\n",
       "\n",
       "[5 rows x 33 columns]"
      ]
     },
     "execution_count": 5,
     "metadata": {},
     "output_type": "execute_result"
    }
   ],
   "source": [
    "df.head()"
   ]
  },
  {
   "cell_type": "code",
   "execution_count": 8,
   "id": "d56ae7cd-d932-4ad8-aa17-58ce66f96e24",
   "metadata": {
    "collapsed": true,
    "jupyter": {
     "outputs_hidden": true
    },
    "tags": []
   },
   "outputs": [
    {
     "name": "stdout",
     "output_type": "stream",
     "text": [
      "##################### Shape #####################\n",
      "(5026, 33)\n",
      "##################### Types #####################\n",
      "LEVEL                                      int64\n",
      "POSITION_CTO                               int64\n",
      "POSITION_DATA SCIENTIST                    int64\n",
      "POSITION_DATABASE ADMIN                    int64\n",
      "POSITION_DEVOPS ENGINEER                   int64\n",
      "POSITION_EMBEDDED SOFTWARE DEVELOPER       int64\n",
      "POSITION_FRONT-END DEVELOPER               int64\n",
      "POSITION_FULL STACK DEVELOPER              int64\n",
      "POSITION_GAME DEVELOPER                    int64\n",
      "POSITION_MOBILE APPLICATION DEVELOPER      int64\n",
      "POSITION_OTHER                             int64\n",
      "POSITION_QA / TEST AUTOMATION DEVELOPER    int64\n",
      "POSITION_SOFTWARE ARCHITECT                int64\n",
      "POSITION_SOFTWARE DEVELOPMENT MANAGER      int64\n",
      "POSITION_TEAM / TECH LEAD                  int64\n",
      "GENDER_Kadın                               int64\n",
      "COMPANY_Dijital / Reklam Ajansı            int64\n",
      "COMPANY_E-Ticaret                          int64\n",
      "COMPANY_Fintech / Finans                   int64\n",
      "COMPANY_Kurumsal                           int64\n",
      "COMPANY_Outsource                          int64\n",
      "COMPANY_Oyun                               int64\n",
      "COMPANY_Startup                            int64\n",
      "COMPANY_Yazılım & Teknoloji                int64\n",
      "WORK_TYPE_Geçici Remote                    int64\n",
      "WORK_TYPE_Hibrit                           int64\n",
      "WORK_TYPE_Ofis                             int64\n",
      "WORK_TYPE_Remote                           int64\n",
      "CITY_yurt_ici                              int64\n",
      "CURRENCY_GBP                               int64\n",
      "CURRENCY_TRY                               int64\n",
      "CURRENCY_USD                               int64\n",
      "SALARY_AVG_TL                              int64\n",
      "dtype: object\n",
      "##################### Head #####################\n",
      "   LEVEL  POSITION_CTO  POSITION_DATA SCIENTIST  POSITION_DATABASE ADMIN  POSITION_DEVOPS ENGINEER  POSITION_EMBEDDED SOFTWARE DEVELOPER  POSITION_FRONT-END DEVELOPER  POSITION_FULL STACK DEVELOPER  POSITION_GAME DEVELOPER  POSITION_MOBILE APPLICATION DEVELOPER  ...  COMPANY_Yazılım & Teknoloji  WORK_TYPE_Geçici Remote  WORK_TYPE_Hibrit  WORK_TYPE_Ofis  WORK_TYPE_Remote  CITY_yurt_ici  CURRENCY_GBP  CURRENCY_TRY  CURRENCY_USD  SALARY_AVG_TL\n",
      "0      1             0                        0                        0                         0                                     0                             0                              0                        0                                      0  ...                            0                        0                 1               0                 0              1             0             1             0          15499\n",
      "1      0             0                        0                        0                         0                                     0                             1                              0                        0                                      0  ...                            0                        0                 1               0                 0              1             0             1             0           8499\n",
      "2      1             0                        0                        0                         0                                     0                             0                              0                        0                                      0  ...                            0                        0                 0               0                 1              1             0             1             0          15499\n",
      "3      0             0                        0                        0                         0                                     0                             0                              1                        0                                      0  ...                            0                        0                 1               0                 0              1             0             1             0          10499\n",
      "4      0             0                        0                        0                         0                                     0                             0                              0                        0                                      0  ...                            0                        0                 0               0                 0              1             0             1             0           5499\n",
      "\n",
      "[5 rows x 33 columns]\n",
      "##################### Tail #####################\n",
      "      LEVEL  POSITION_CTO  POSITION_DATA SCIENTIST  POSITION_DATABASE ADMIN  POSITION_DEVOPS ENGINEER  POSITION_EMBEDDED SOFTWARE DEVELOPER  POSITION_FRONT-END DEVELOPER  POSITION_FULL STACK DEVELOPER  POSITION_GAME DEVELOPER  POSITION_MOBILE APPLICATION DEVELOPER  ...  COMPANY_Yazılım & Teknoloji  WORK_TYPE_Geçici Remote  WORK_TYPE_Hibrit  WORK_TYPE_Ofis  WORK_TYPE_Remote  CITY_yurt_ici  CURRENCY_GBP  CURRENCY_TRY  CURRENCY_USD  SALARY_AVG_TL\n",
      "5021      0             0                        0                        0                         0                                     0                             0                              0                        0                                      0  ...                            0                        0                 1               0                 0              1             0             1             0           8499\n",
      "5022      0             0                        0                        0                         0                                     0                             0                              0                        0                                      1  ...                            0                        0                 0               0                 1              1             0             1             0          10499\n",
      "5023      0             0                        0                        0                         0                                     0                             0                              0                        0                                      0  ...                            0                        0                 1               0                 0              1             0             1             0           8499\n",
      "5024      2             0                        0                        0                         0                                     0                             0                              1                        0                                      0  ...                            0                        1                 0               0                 0              1             0             1             0          25499\n",
      "5025      0             0                        0                        0                         0                                     0                             1                              0                        0                                      0  ...                            0                        0                 0               0                 1              1             0             1             0          11499\n",
      "\n",
      "[5 rows x 33 columns]\n",
      "##################### NA #####################\n",
      "LEVEL                                      0\n",
      "POSITION_CTO                               0\n",
      "POSITION_DATA SCIENTIST                    0\n",
      "POSITION_DATABASE ADMIN                    0\n",
      "POSITION_DEVOPS ENGINEER                   0\n",
      "POSITION_EMBEDDED SOFTWARE DEVELOPER       0\n",
      "POSITION_FRONT-END DEVELOPER               0\n",
      "POSITION_FULL STACK DEVELOPER              0\n",
      "POSITION_GAME DEVELOPER                    0\n",
      "POSITION_MOBILE APPLICATION DEVELOPER      0\n",
      "POSITION_OTHER                             0\n",
      "POSITION_QA / TEST AUTOMATION DEVELOPER    0\n",
      "POSITION_SOFTWARE ARCHITECT                0\n",
      "POSITION_SOFTWARE DEVELOPMENT MANAGER      0\n",
      "POSITION_TEAM / TECH LEAD                  0\n",
      "GENDER_Kadın                               0\n",
      "COMPANY_Dijital / Reklam Ajansı            0\n",
      "COMPANY_E-Ticaret                          0\n",
      "COMPANY_Fintech / Finans                   0\n",
      "COMPANY_Kurumsal                           0\n",
      "COMPANY_Outsource                          0\n",
      "COMPANY_Oyun                               0\n",
      "COMPANY_Startup                            0\n",
      "COMPANY_Yazılım & Teknoloji                0\n",
      "WORK_TYPE_Geçici Remote                    0\n",
      "WORK_TYPE_Hibrit                           0\n",
      "WORK_TYPE_Ofis                             0\n",
      "WORK_TYPE_Remote                           0\n",
      "CITY_yurt_ici                              0\n",
      "CURRENCY_GBP                               0\n",
      "CURRENCY_TRY                               0\n",
      "CURRENCY_USD                               0\n",
      "SALARY_AVG_TL                              0\n",
      "dtype: int64\n",
      "##################### Quantiles #####################\n",
      "                                           0.00    0.05     0.50     0.95       0.99      1.00\n",
      "LEVEL                                       0.0     0.0      1.0      2.0       2.00       2.0\n",
      "POSITION_CTO                                0.0     0.0      0.0      0.0       0.75       1.0\n",
      "POSITION_DATA SCIENTIST                     0.0     0.0      0.0      0.0       1.00       1.0\n",
      "POSITION_DATABASE ADMIN                     0.0     0.0      0.0      0.0       0.00       1.0\n",
      "POSITION_DEVOPS ENGINEER                    0.0     0.0      0.0      0.0       1.00       1.0\n",
      "POSITION_EMBEDDED SOFTWARE DEVELOPER        0.0     0.0      0.0      0.0       1.00       1.0\n",
      "POSITION_FRONT-END DEVELOPER                0.0     0.0      0.0      1.0       1.00       1.0\n",
      "POSITION_FULL STACK DEVELOPER               0.0     0.0      0.0      1.0       1.00       1.0\n",
      "POSITION_GAME DEVELOPER                     0.0     0.0      0.0      0.0       1.00       1.0\n",
      "POSITION_MOBILE APPLICATION DEVELOPER       0.0     0.0      0.0      1.0       1.00       1.0\n",
      "POSITION_OTHER                              0.0     0.0      0.0      0.0       1.00       1.0\n",
      "POSITION_QA / TEST AUTOMATION DEVELOPER     0.0     0.0      0.0      0.0       1.00       1.0\n",
      "POSITION_SOFTWARE ARCHITECT                 0.0     0.0      0.0      0.0       1.00       1.0\n",
      "POSITION_SOFTWARE DEVELOPMENT MANAGER       0.0     0.0      0.0      0.0       1.00       1.0\n",
      "POSITION_TEAM / TECH LEAD                   0.0     0.0      0.0      1.0       1.00       1.0\n",
      "GENDER_Kadın                                0.0     0.0      0.0      1.0       1.00       1.0\n",
      "COMPANY_Dijital / Reklam Ajansı             0.0     0.0      0.0      0.0       1.00       1.0\n",
      "COMPANY_E-Ticaret                           0.0     0.0      0.0      1.0       1.00       1.0\n",
      "COMPANY_Fintech / Finans                    0.0     0.0      0.0      0.0       0.00       1.0\n",
      "COMPANY_Kurumsal                            0.0     0.0      0.0      1.0       1.00       1.0\n",
      "COMPANY_Outsource                           0.0     0.0      0.0      1.0       1.00       1.0\n",
      "COMPANY_Oyun                                0.0     0.0      0.0      0.0       1.00       1.0\n",
      "COMPANY_Startup                             0.0     0.0      0.0      1.0       1.00       1.0\n",
      "COMPANY_Yazılım & Teknoloji                 0.0     0.0      0.0      0.0       0.00       1.0\n",
      "WORK_TYPE_Geçici Remote                     0.0     0.0      0.0      1.0       1.00       1.0\n",
      "WORK_TYPE_Hibrit                            0.0     0.0      0.0      1.0       1.00       1.0\n",
      "WORK_TYPE_Ofis                              0.0     0.0      0.0      1.0       1.00       1.0\n",
      "WORK_TYPE_Remote                            0.0     0.0      0.0      1.0       1.00       1.0\n",
      "CITY_yurt_ici                               0.0     0.0      1.0      1.0       1.00       1.0\n",
      "CURRENCY_GBP                                0.0     0.0      0.0      0.0       0.00       1.0\n",
      "CURRENCY_TRY                                0.0     0.0      1.0      1.0       1.00       1.0\n",
      "CURRENCY_USD                                0.0     0.0      0.0      1.0       1.00       1.0\n",
      "SALARY_AVG_TL                            5499.0  5499.0  15499.0  68135.0  195605.00  236868.0\n"
     ]
    }
   ],
   "source": [
    "def check_df(dataframe, head=5):\n",
    "    print(\"##################### Shape #####################\")\n",
    "    print(dataframe.shape)\n",
    "    print(\"##################### Types #####################\")\n",
    "    print(dataframe.dtypes)\n",
    "    print(\"##################### Head #####################\")\n",
    "    print(dataframe.head(head))\n",
    "    print(\"##################### Tail #####################\")\n",
    "    print(dataframe.tail(head))\n",
    "    print(\"##################### NA #####################\")\n",
    "    print(dataframe.isnull().sum())\n",
    "    print(\"##################### Quantiles #####################\")\n",
    "    print(dataframe.quantile([0, 0.05, 0.50, 0.95, 0.99, 1]).T)\n",
    "\n",
    "check_df(df)"
   ]
  },
  {
   "cell_type": "code",
   "execution_count": 70,
   "id": "cc2a7f25-2bc3-4162-80ba-e09654dfa622",
   "metadata": {},
   "outputs": [],
   "source": [
    "#Bagımlı ve bagımsız degiskenlerimizi ayırıyoruz\n",
    "X = df.drop([\"SALARY_AVG_TL\"], axis=1)\n",
    "y = df[\"SALARY_AVG_TL\"]"
   ]
  },
  {
   "cell_type": "code",
   "execution_count": 71,
   "id": "08e0be7f-14e9-4370-a1b4-1c6bf07143de",
   "metadata": {},
   "outputs": [],
   "source": [
    "# Veri setini train (%80) ve test (%20) şeklinde iki parçaya ayır.\n",
    "# Her çalıştırdığımızda aynı değerleri almak için random_state değerini set ettik.\n",
    "X_train, X_test, y_train, y_test = train_test_split(X, y, test_size=0.20, random_state=1)"
   ]
  },
  {
   "cell_type": "code",
   "execution_count": 72,
   "id": "94165628-1bed-4db6-a829-3ff82a689169",
   "metadata": {},
   "outputs": [],
   "source": [
    "# Log dönüşümünün gerçekleştirilmesi\n",
    "train_df = df[df['SALARY_AVG_TL'].notnull()]\n",
    "test_df = df[df['SALARY_AVG_TL'].isnull()]"
   ]
  },
  {
   "cell_type": "code",
   "execution_count": 73,
   "id": "79c93a2b-8946-49e4-a008-14aca93b7694",
   "metadata": {},
   "outputs": [],
   "source": [
    "y = np.log1p(train_df['SALARY_AVG_TL'])\n",
    "X = train_df.drop(\"SALARY_AVG_TL\", axis=1)"
   ]
  },
  {
   "cell_type": "code",
   "execution_count": 74,
   "id": "1b9bd4bc-e6e7-4b69-8050-a77d6d17a8d8",
   "metadata": {},
   "outputs": [],
   "source": [
    "X_train, X_test, y_train, y_test = train_test_split(X, y, test_size=0.20, random_state=1)"
   ]
  },
  {
   "cell_type": "code",
   "execution_count": 75,
   "id": "031e5ca3-c25c-40e2-9c64-74e7b8a25cda",
   "metadata": {},
   "outputs": [
    {
     "data": {
      "text/plain": [
       "array([9.0658722 , 9.07533745, 9.05747564, ..., 9.59827306, 9.55877898,\n",
       "       9.18420311])"
      ]
     },
     "execution_count": 75,
     "metadata": {},
     "output_type": "execute_result"
    }
   ],
   "source": [
    "lgbm = LGBMRegressor().fit(X_train, y_train)\n",
    "y_pred = lgbm.predict(X_test)\n",
    "\n",
    "y_pred"
   ]
  },
  {
   "cell_type": "code",
   "execution_count": 76,
   "id": "b3d9eb4e-e348-4570-b288-d62d17a60366",
   "metadata": {},
   "outputs": [
    {
     "data": {
      "text/plain": [
       "array([ 8653.82455666,  8736.13359385,  8581.45808093, ...,\n",
       "       14738.30570885, 14167.53560025,  9741.01354959])"
      ]
     },
     "execution_count": 76,
     "metadata": {},
     "output_type": "execute_result"
    }
   ],
   "source": [
    "# Yapılan LOG dönüşümünün tersinin (inverse'nin) alınması\n",
    "new_y = np.expm1(y_pred)\n",
    "new_y"
   ]
  },
  {
   "cell_type": "code",
   "execution_count": 77,
   "id": "9597b9e8-36d4-4d8a-9b40-0db1eb8eb948",
   "metadata": {},
   "outputs": [
    {
     "data": {
      "text/plain": [
       "3489      5499.0\n",
       "2070      7499.0\n",
       "1875      5499.0\n",
       "1971     15499.0\n",
       "3536    204425.0\n",
       "          ...   \n",
       "4707      6499.0\n",
       "791      25499.0\n",
       "4853     11499.0\n",
       "1438      6499.0\n",
       "301       6499.0\n",
       "Name: SALARY_AVG_TL, Length: 1006, dtype: float64"
      ]
     },
     "execution_count": 77,
     "metadata": {},
     "output_type": "execute_result"
    }
   ],
   "source": [
    "new_y_test = np.expm1(y_test)\n",
    "new_y_test"
   ]
  },
  {
   "cell_type": "code",
   "execution_count": 78,
   "id": "8cf38ff2-1fba-4f6f-9dee-644b9d1ea709",
   "metadata": {},
   "outputs": [
    {
     "data": {
      "text/plain": [
       "18834.10235339537"
      ]
     },
     "execution_count": 78,
     "metadata": {},
     "output_type": "execute_result"
    }
   ],
   "source": [
    "np.sqrt(mean_squared_error(new_y_test, new_y))"
   ]
  },
  {
   "cell_type": "code",
   "execution_count": 20,
   "id": "dd4f748f-6b27-4ad6-a5b4-7ee5b1790c59",
   "metadata": {},
   "outputs": [],
   "source": [
    "#LGBMRegressor Modelini Kuralım ve \n",
    "# hiperparametre optimizasyonlarını gerçekleştirelim"
   ]
  },
  {
   "cell_type": "code",
   "execution_count": 79,
   "id": "ca361fc1-8b05-4db5-aeb1-e934744ef6e9",
   "metadata": {},
   "outputs": [],
   "source": [
    "lgbm_model = LGBMRegressor(random_state=1)"
   ]
  },
  {
   "cell_type": "code",
   "execution_count": 80,
   "id": "fc6dfb13-5b52-4a59-a2e1-6d419e1001e9",
   "metadata": {},
   "outputs": [
    {
     "data": {
      "text/plain": [
       "0.37692639905939246"
      ]
     },
     "execution_count": 80,
     "metadata": {},
     "output_type": "execute_result"
    }
   ],
   "source": [
    "rmse = np.mean(np.sqrt(-cross_val_score(lgbm_model, X, y, cv=5, scoring=\"neg_mean_squared_error\")))\n",
    "rmse"
   ]
  },
  {
   "cell_type": "code",
   "execution_count": 87,
   "id": "8d286b1f-2917-4116-9bb1-189cf0078931",
   "metadata": {},
   "outputs": [],
   "source": [
    "lgbm_params = {\"learning_rate\": [0.01, 0.1],\n",
    "               \"n_estimators\": [500, 700]\n",
    "               #\"colsample_bytree\": [0.5, 0.7, 1]\n",
    "             }"
   ]
  },
  {
   "cell_type": "code",
   "execution_count": 88,
   "id": "ce5e0ece-bba6-42d1-a912-d64ba086b233",
   "metadata": {},
   "outputs": [
    {
     "name": "stdout",
     "output_type": "stream",
     "text": [
      "Fitting 5 folds for each of 4 candidates, totalling 20 fits\n"
     ]
    },
    {
     "data": {
      "text/html": [
       "<style>#sk-container-id-5 {color: black;background-color: white;}#sk-container-id-5 pre{padding: 0;}#sk-container-id-5 div.sk-toggleable {background-color: white;}#sk-container-id-5 label.sk-toggleable__label {cursor: pointer;display: block;width: 100%;margin-bottom: 0;padding: 0.3em;box-sizing: border-box;text-align: center;}#sk-container-id-5 label.sk-toggleable__label-arrow:before {content: \"▸\";float: left;margin-right: 0.25em;color: #696969;}#sk-container-id-5 label.sk-toggleable__label-arrow:hover:before {color: black;}#sk-container-id-5 div.sk-estimator:hover label.sk-toggleable__label-arrow:before {color: black;}#sk-container-id-5 div.sk-toggleable__content {max-height: 0;max-width: 0;overflow: hidden;text-align: left;background-color: #f0f8ff;}#sk-container-id-5 div.sk-toggleable__content pre {margin: 0.2em;color: black;border-radius: 0.25em;background-color: #f0f8ff;}#sk-container-id-5 input.sk-toggleable__control:checked~div.sk-toggleable__content {max-height: 200px;max-width: 100%;overflow: auto;}#sk-container-id-5 input.sk-toggleable__control:checked~label.sk-toggleable__label-arrow:before {content: \"▾\";}#sk-container-id-5 div.sk-estimator input.sk-toggleable__control:checked~label.sk-toggleable__label {background-color: #d4ebff;}#sk-container-id-5 div.sk-label input.sk-toggleable__control:checked~label.sk-toggleable__label {background-color: #d4ebff;}#sk-container-id-5 input.sk-hidden--visually {border: 0;clip: rect(1px 1px 1px 1px);clip: rect(1px, 1px, 1px, 1px);height: 1px;margin: -1px;overflow: hidden;padding: 0;position: absolute;width: 1px;}#sk-container-id-5 div.sk-estimator {font-family: monospace;background-color: #f0f8ff;border: 1px dotted black;border-radius: 0.25em;box-sizing: border-box;margin-bottom: 0.5em;}#sk-container-id-5 div.sk-estimator:hover {background-color: #d4ebff;}#sk-container-id-5 div.sk-parallel-item::after {content: \"\";width: 100%;border-bottom: 1px solid gray;flex-grow: 1;}#sk-container-id-5 div.sk-label:hover label.sk-toggleable__label {background-color: #d4ebff;}#sk-container-id-5 div.sk-serial::before {content: \"\";position: absolute;border-left: 1px solid gray;box-sizing: border-box;top: 0;bottom: 0;left: 50%;z-index: 0;}#sk-container-id-5 div.sk-serial {display: flex;flex-direction: column;align-items: center;background-color: white;padding-right: 0.2em;padding-left: 0.2em;position: relative;}#sk-container-id-5 div.sk-item {position: relative;z-index: 1;}#sk-container-id-5 div.sk-parallel {display: flex;align-items: stretch;justify-content: center;background-color: white;position: relative;}#sk-container-id-5 div.sk-item::before, #sk-container-id-5 div.sk-parallel-item::before {content: \"\";position: absolute;border-left: 1px solid gray;box-sizing: border-box;top: 0;bottom: 0;left: 50%;z-index: -1;}#sk-container-id-5 div.sk-parallel-item {display: flex;flex-direction: column;z-index: 1;position: relative;background-color: white;}#sk-container-id-5 div.sk-parallel-item:first-child::after {align-self: flex-end;width: 50%;}#sk-container-id-5 div.sk-parallel-item:last-child::after {align-self: flex-start;width: 50%;}#sk-container-id-5 div.sk-parallel-item:only-child::after {width: 0;}#sk-container-id-5 div.sk-dashed-wrapped {border: 1px dashed gray;margin: 0 0.4em 0.5em 0.4em;box-sizing: border-box;padding-bottom: 0.4em;background-color: white;}#sk-container-id-5 div.sk-label label {font-family: monospace;font-weight: bold;display: inline-block;line-height: 1.2em;}#sk-container-id-5 div.sk-label-container {text-align: center;}#sk-container-id-5 div.sk-container {/* jupyter's `normalize.less` sets `[hidden] { display: none; }` but bootstrap.min.css set `[hidden] { display: none !important; }` so we also need the `!important` here to be able to override the default hidden behavior on the sphinx rendered scikit-learn.org. See: https://github.com/scikit-learn/scikit-learn/issues/21755 */display: inline-block !important;position: relative;}#sk-container-id-5 div.sk-text-repr-fallback {display: none;}</style><div id=\"sk-container-id-5\" class=\"sk-top-container\"><div class=\"sk-text-repr-fallback\"><pre>GridSearchCV(cv=5,\n",
       "             estimator=LGBMRegressor(learning_rate=0.01, n_estimators=500,\n",
       "                                     random_state=1),\n",
       "             n_jobs=-1,\n",
       "             param_grid={&#x27;learning_rate&#x27;: [0.01, 0.1],\n",
       "                         &#x27;n_estimators&#x27;: [500, 700]},\n",
       "             verbose=True)</pre><b>In a Jupyter environment, please rerun this cell to show the HTML representation or trust the notebook. <br />On GitHub, the HTML representation is unable to render, please try loading this page with nbviewer.org.</b></div><div class=\"sk-container\" hidden><div class=\"sk-item sk-dashed-wrapped\"><div class=\"sk-label-container\"><div class=\"sk-label sk-toggleable\"><input class=\"sk-toggleable__control sk-hidden--visually\" id=\"sk-estimator-id-13\" type=\"checkbox\" ><label for=\"sk-estimator-id-13\" class=\"sk-toggleable__label sk-toggleable__label-arrow\">GridSearchCV</label><div class=\"sk-toggleable__content\"><pre>GridSearchCV(cv=5,\n",
       "             estimator=LGBMRegressor(learning_rate=0.01, n_estimators=500,\n",
       "                                     random_state=1),\n",
       "             n_jobs=-1,\n",
       "             param_grid={&#x27;learning_rate&#x27;: [0.01, 0.1],\n",
       "                         &#x27;n_estimators&#x27;: [500, 700]},\n",
       "             verbose=True)</pre></div></div></div><div class=\"sk-parallel\"><div class=\"sk-parallel-item\"><div class=\"sk-item\"><div class=\"sk-label-container\"><div class=\"sk-label sk-toggleable\"><input class=\"sk-toggleable__control sk-hidden--visually\" id=\"sk-estimator-id-14\" type=\"checkbox\" ><label for=\"sk-estimator-id-14\" class=\"sk-toggleable__label sk-toggleable__label-arrow\">estimator: LGBMRegressor</label><div class=\"sk-toggleable__content\"><pre>LGBMRegressor(learning_rate=0.01, n_estimators=500, random_state=1)</pre></div></div></div><div class=\"sk-serial\"><div class=\"sk-item\"><div class=\"sk-estimator sk-toggleable\"><input class=\"sk-toggleable__control sk-hidden--visually\" id=\"sk-estimator-id-15\" type=\"checkbox\" ><label for=\"sk-estimator-id-15\" class=\"sk-toggleable__label sk-toggleable__label-arrow\">LGBMRegressor</label><div class=\"sk-toggleable__content\"><pre>LGBMRegressor(learning_rate=0.01, n_estimators=500, random_state=1)</pre></div></div></div></div></div></div></div></div></div></div>"
      ],
      "text/plain": [
       "GridSearchCV(cv=5,\n",
       "             estimator=LGBMRegressor(learning_rate=0.01, n_estimators=500,\n",
       "                                     random_state=1),\n",
       "             n_jobs=-1,\n",
       "             param_grid={'learning_rate': [0.01, 0.1],\n",
       "                         'n_estimators': [500, 700]},\n",
       "             verbose=True)"
      ]
     },
     "execution_count": 88,
     "metadata": {},
     "output_type": "execute_result"
    }
   ],
   "source": [
    "lgbm_gs_best = GridSearchCV(lgbm_model,\n",
    "                            lgbm_params,\n",
    "                            cv=5,\n",
    "                            n_jobs=-1,\n",
    "                            verbose=True).fit(X, y)\n",
    "\n",
    "lgbm_gs_best"
   ]
  },
  {
   "cell_type": "code",
   "execution_count": 90,
   "id": "6e2b097d-cb9f-475c-8c63-b39727e6cdbf",
   "metadata": {},
   "outputs": [],
   "source": [
    "final_model = lgbm_model.set_params(**lgbm_gs_best.best_params_).fit(X, y)"
   ]
  },
  {
   "cell_type": "code",
   "execution_count": 91,
   "id": "f5c73619-0a8d-494a-8423-5778721e15b0",
   "metadata": {},
   "outputs": [
    {
     "data": {
      "text/plain": [
       "0.37583951199605103"
      ]
     },
     "execution_count": 91,
     "metadata": {},
     "output_type": "execute_result"
    }
   ],
   "source": [
    "rmse = np.mean(np.sqrt(-cross_val_score(final_model, X, y, cv=5, scoring=\"neg_mean_squared_error\")))\n",
    "rmse"
   ]
  },
  {
   "cell_type": "code",
   "execution_count": 93,
   "id": "6ebb2021-02e3-4f56-bfab-af7de33c121f",
   "metadata": {},
   "outputs": [
    {
     "data": {
      "text/plain": [
       "array([ 9.51385819,  8.94555426,  9.56885598, ...,  9.05696517,\n",
       "       10.01173597,  9.11260293])"
      ]
     },
     "execution_count": 93,
     "metadata": {},
     "output_type": "execute_result"
    }
   ],
   "source": [
    "model = LGBMRegressor()\n",
    "model.fit(X, y)\n",
    "y_pred = model.predict(df.drop(\"SALARY_AVG_TL\", axis=1))\n",
    "y_pred"
   ]
  },
  {
   "cell_type": "code",
   "execution_count": 94,
   "id": "7115d7d0-fdbc-4877-be02-6204abe99502",
   "metadata": {},
   "outputs": [
    {
     "data": {
      "text/plain": [
       "3489     8.612503\n",
       "2070     8.922658\n",
       "1875     8.612503\n",
       "1971     9.648595\n",
       "3536    12.227961\n",
       "          ...    \n",
       "4707     8.779557\n",
       "791     10.146434\n",
       "4853     9.350102\n",
       "1438     8.779557\n",
       "301      8.779557\n",
       "Name: SALARY_AVG_TL, Length: 1006, dtype: float64"
      ]
     },
     "execution_count": 94,
     "metadata": {},
     "output_type": "execute_result"
    }
   ],
   "source": [
    "y_test"
   ]
  },
  {
   "cell_type": "code",
   "execution_count": null,
   "id": "91903a05-0d99-4e3e-b2a8-75db02705ba4",
   "metadata": {},
   "outputs": [],
   "source": []
  }
 ],
 "metadata": {
  "kernelspec": {
   "display_name": "Python 3 (ipykernel)",
   "language": "python",
   "name": "python3"
  },
  "language_info": {
   "codemirror_mode": {
    "name": "ipython",
    "version": 3
   },
   "file_extension": ".py",
   "mimetype": "text/x-python",
   "name": "python",
   "nbconvert_exporter": "python",
   "pygments_lexer": "ipython3",
   "version": "3.9.12"
  }
 },
 "nbformat": 4,
 "nbformat_minor": 5
}

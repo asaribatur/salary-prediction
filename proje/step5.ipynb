{
 "cells": [
  {
   "cell_type": "code",
   "execution_count": null,
   "id": "e285a51b-b1d5-4bba-a551-e82483a680ee",
   "metadata": {},
   "outputs": [],
   "source": [
    "import numpy as np\n",
    "import pandas as pd\n",
    "# from pandas import Series, DataFrame \n",
    "import seaborn as sns\n",
    "from matplotlib import pyplot as plt\n",
    "\n",
    "from sklearn.preprocessing import LabelEncoder, OneHotEncoder\n",
    "\n",
    "import warnings\n",
    "from sklearn import metrics\n",
    "from sklearn.ensemble import RandomForestClassifier, GradientBoostingClassifier, VotingClassifier\n",
    "from sklearn.model_selection import cross_validate, train_test_split, GridSearchCV, cross_val_score, RandomizedSearchCV, validation_curve\n",
    "\n",
    "# from xgboost import XGBClassifier\n",
    "import lightgbm as ltb\n",
    "# from catboost import CatBoostClassifier\n",
    "from sklearn.linear_model import LogisticRegression\n",
    "from statsmodels.stats.outliers_influence import variance_inflation_factor\n",
    "from catboost import CatBoostRegressor\n",
    "from lightgbm import LGBMRegressor\n",
    "from sklearn.ensemble import RandomForestRegressor, GradientBoostingRegressor\n",
    "from sklearn.exceptions import ConvergenceWarning\n",
    "from sklearn.linear_model import LinearRegression, Ridge, Lasso, ElasticNet\n",
    "from sklearn.neighbors import KNeighborsRegressor\n",
    "from sklearn.svm import SVR\n",
    "from sklearn.tree import DecisionTreeRegressor\n",
    "from xgboost import XGBRegressor\n",
    "from sklearn.preprocessing import LabelEncoder\n",
    "from sklearn.metrics import mean_squared_error\n",
    "from sklearn.linear_model import LinearRegression\n",
    "import joblib\n",
    "from lightgbm import LGBMClassifier\n",
    "from sklearn.ensemble import RandomForestClassifier, GradientBoostingClassifier, VotingClassifier, AdaBoostClassifier\n",
    "from sklearn.linear_model import LogisticRegression\n",
    "from sklearn.neighbors import KNeighborsClassifier\n",
    "from sklearn.preprocessing import StandardScaler\n",
    "from sklearn.svm import SVC\n",
    "from sklearn.tree import DecisionTreeClassifier\n",
    "from xgboost import XGBClassifier\n",
    "\n",
    "\n",
    "warnings.simplefilter(action='ignore', category=FutureWarning)\n",
    "warnings.simplefilter(\"ignore\", category=ConvergenceWarning)\n",
    "pd.set_option('display.width', 10000)\n"
   ]
  },
  {
   "cell_type": "code",
   "execution_count": null,
   "id": "62178d12-cb7e-4d6b-8687-65a3637124a9",
   "metadata": {},
   "outputs": [],
   "source": [
    "df=pd.read_csv(r\"data/maas.csv\")"
   ]
  },
  {
   "cell_type": "code",
   "execution_count": null,
   "id": "075b3564-fe94-471a-a3b1-b27a255d8114",
   "metadata": {},
   "outputs": [],
   "source": [
    "df.head()"
   ]
  },
  {
   "cell_type": "code",
   "execution_count": null,
   "id": "157affb9-285e-4e70-b0f1-1675aea613ec",
   "metadata": {},
   "outputs": [],
   "source": [
    "#okunurluk için kolon isimlerini büyük harf yaptık.\n",
    "df.columns = [col.upper() for col in df.columns]\n",
    "df.head()"
   ]
  },
  {
   "cell_type": "code",
   "execution_count": null,
   "id": "5a01910c-2ca6-44b9-b5b2-38bbcc39e206",
   "metadata": {},
   "outputs": [],
   "source": [
    "df.shape"
   ]
  },
  {
   "cell_type": "code",
   "execution_count": null,
   "id": "bc2b10b1-f808-4c8b-af0d-10d5b2e70a7b",
   "metadata": {},
   "outputs": [],
   "source": [
    "df.info()"
   ]
  },
  {
   "cell_type": "code",
   "execution_count": null,
   "id": "7e9eb7c1-ed8e-47cb-b3d2-93b7f9b6522f",
   "metadata": {},
   "outputs": [],
   "source": [
    "df.isnull().sum()"
   ]
  },
  {
   "cell_type": "code",
   "execution_count": null,
   "id": "dd98f6e4-c731-4ffa-aa08-db29e59d2376",
   "metadata": {},
   "outputs": [],
   "source": [
    "#her kolonun içerdiği unique değer sayısına bakıyoruz.\n",
    "for col in df.columns:\n",
    "    print(col, df[col].nunique())"
   ]
  },
  {
   "cell_type": "code",
   "execution_count": null,
   "id": "c4eae795-3a33-45be-9713-2d8efc02475a",
   "metadata": {
    "tags": []
   },
   "outputs": [],
   "source": [
    "#her kolondaki unique değerlerin neler olduğuna bakıyoruz.\n",
    "for col in df.columns:\n",
    "    print(col, df[col].unique())\n",
    "    print(f\"============================================================================================\")\n"
   ]
  },
  {
   "cell_type": "code",
   "execution_count": null,
   "id": "29954ac3-d85e-4aca-a949-4ad98c55a1a1",
   "metadata": {},
   "outputs": [],
   "source": [
    "#birbiri ile alakalı ve az sayılı pozisyon tiplerini birleştirdik.Daha anlamlı sonuşlar almamız için bu işlemi yapıyoruz.\n",
    "#DATA SCIENTIST POZİSYONU İLE ALAKALI OLANLAR\n",
    "ds= [\"Data Scientist\", \"Machine Learning\", \"Data Analyst\", \"Data Engineer\", \"Computer Vision Engineer\"]\n",
    "for j in ds:\n",
    "    df[df[\"POSITION\"] == j]\n",
    "    for i in df[df[\"POSITION\"] == j].index:\n",
    "        df[\"POSITION\"][i] = \"DATA SCIENTIST\" \n"
   ]
  },
  {
   "cell_type": "code",
   "execution_count": null,
   "id": "7bb62786-4ab6-4646-adef-22a8b379f1e2",
   "metadata": {},
   "outputs": [],
   "source": [
    "# DATABASE ADMİN  İLE ALAKALI OLANLAR\n",
    "for i in df[df[\"POSITION\"]==\"SAP/ABAP/ERP Developer\"].index:\n",
    "    df[\"POSITION\"][i] = \"DATABASE ADMIN\"\n",
    "\n",
    "for i in df[df[\"POSITION\"]==\"Database Administrator\"].index:\n",
    "    df[\"POSITION\"][i] = \"DATABASE ADMIN\"\n",
    "\n",
    "for i in df[df[\"POSITION\"]==\"SysAdmin\"].index:\n",
    "    df[\"POSITION\"][i] = \"DATABASE ADMIN\""
   ]
  },
  {
   "cell_type": "code",
   "execution_count": null,
   "id": "8e74bce3-667a-4a97-a200-0cc2c33e35fc",
   "metadata": {},
   "outputs": [],
   "source": [
    "#SAYILARI ÇOK AZ OLAN POZİSYONLAR\n",
    "diger=[\"Project & Product Manager / PO\", \"Support Engineer\", \"Business Analyst\", \"RPA Developer\", \"IT Specialist\", \"R&D Engineer\", \"Security\", \"Consultant\", \"Seo Specialist\", \"Blockchain Developer\"]\n",
    "for j in diger:\n",
    "    df[df[\"POSITION\"] == j]\n",
    "    for i in df[df[\"POSITION\"] == j].index:\n",
    "        df[\"POSITION\"][i] = \"OTHERS\""
   ]
  },
  {
   "cell_type": "code",
   "execution_count": null,
   "id": "e2d7abf8-ec85-4403-a571-dc3e520276d6",
   "metadata": {},
   "outputs": [],
   "source": [
    "df.head()"
   ]
  },
  {
   "cell_type": "code",
   "execution_count": null,
   "id": "3537974a-bd05-4ecb-95b1-2f154905e15f",
   "metadata": {},
   "outputs": [],
   "source": [
    "#tüm pozisyon isimlendirmeleri standart hale gelsin diye büyük harf yaptık.\n",
    "df[\"POSITION\"] = [i.upper() for i in df[\"POSITION\"]]"
   ]
  },
  {
   "cell_type": "code",
   "execution_count": null,
   "id": "f3fdfddd-8717-478d-94e0-15d90f02154a",
   "metadata": {},
   "outputs": [],
   "source": [
    "df[\"POSITION\"].value_counts()"
   ]
  },
  {
   "cell_type": "code",
   "execution_count": null,
   "id": "d097f9ed-624d-476e-9551-a6f4f721c99b",
   "metadata": {},
   "outputs": [],
   "source": [
    "df[\"WORK_TYPE\"].value_counts()"
   ]
  },
  {
   "cell_type": "code",
   "execution_count": null,
   "id": "943827dd-aecc-4d4b-874f-5cb7cc50d1a2",
   "metadata": {},
   "outputs": [],
   "source": [
    "#okunaklılık için pandemi nedeniyle ibareleri silindi.\n",
    "for i in df[df[\"WORK_TYPE\"]==\"Pandemi Nedeniyle; Geçici Olarak Hibrit (Ofis + Remote)\"].index:\n",
    "    df[\"WORK_TYPE\"][i] = \"Geçici Hibrit\"\n",
    "\n",
    "for i in df[df[\"WORK_TYPE\"]==\"Pandemi Nedeniyle; Geçici Olarak Remote\"].index:\n",
    "    df[\"WORK_TYPE\"][i] = \"Geçici Remote\"\n",
    "\n",
    "for i in df[df[\"WORK_TYPE\"]==\"Hibrit (Ofis + Remote)\"].index:\n",
    "    df[\"WORK_TYPE\"][i] = \"Hibrit\""
   ]
  },
  {
   "cell_type": "code",
   "execution_count": null,
   "id": "08b2d086-14da-45e1-8999-d6e3502fbf52",
   "metadata": {},
   "outputs": [],
   "source": [
    "df[\"WORK_TYPE\"].value_counts()"
   ]
  },
  {
   "cell_type": "code",
   "execution_count": null,
   "id": "3cbd5ab8-881b-48d8-b79d-446ffc30434b",
   "metadata": {},
   "outputs": [],
   "source": [
    "df[\"COMPANY\"].value_counts()"
   ]
  },
  {
   "cell_type": "code",
   "execution_count": null,
   "id": "29d446e7-0c63-4cc5-8792-414fadb45fe5",
   "metadata": {},
   "outputs": [],
   "source": [
    "#SAYISI ÇOK AZ VEYA BENZER OLAN COMPANY KOLONLARINI BİRLEŞTİRDİK.\n",
    "list_company= [\"diğer\", \"kobi\", \"kamu\", \"Banka\", \"Telekomünikasyon\",\"Danışmanlık\",\"Savunma & Güvenlik\",\"Kobi\",\"Kamu\",\"Diğer\"]\n",
    "for i in list_company:\n",
    "    df[df[\"COMPANY\"] == i]\n",
    "    for j in df[df[\"COMPANY\"] == i].index:\n",
    "        df[\"COMPANY\"][j] = \"DIGER\""
   ]
  },
  {
   "cell_type": "code",
   "execution_count": null,
   "id": "6447e8bb-5296-4c3c-93b7-df8c7c60f0f9",
   "metadata": {},
   "outputs": [],
   "source": [
    "df[\"COMPANY\"].value_counts()"
   ]
  },
  {
   "cell_type": "code",
   "execution_count": null,
   "id": "fa5aa3f1-dae9-4273-bb4b-bc1b96e301b8",
   "metadata": {},
   "outputs": [],
   "source": [
    "#TL OLAN MAAŞLARI DÜZENLİYORUZ.\n",
    "num=[]\n",
    "\n",
    "for item in df[\"SALARY_FOR_TL_CURRENCY\"]:\n",
    "    if item:\n",
    "        num.append(str(item).split(\" \"))"
   ]
  },
  {
   "cell_type": "code",
   "execution_count": null,
   "id": "24d994c2-12aa-4435-b5d3-a1744fbcde32",
   "metadata": {},
   "outputs": [],
   "source": [
    "#TL tipinden minimum maaş bilgilerini aldım.NaN ifadeler yerine 0 atadım.Değerleri doğru almak için 1000 ile çarptım\n",
    "num1=[]\n",
    "for i in range(0,len(num)):\n",
    "    if num[i][0]==\"nan\":\n",
    "        num1.append(0)\n",
    "    else:\n",
    "        num1.append(float(num[i][0])*1000)"
   ]
  },
  {
   "cell_type": "code",
   "execution_count": null,
   "id": "c23ad25b-5b33-41b7-9e68-7bf38759c9d5",
   "metadata": {},
   "outputs": [],
   "source": [
    "#TL tipinden maximum maaş bilgilerini aldım,\n",
    "# NaN ifadeler yerine 0 atadım, doğru değerleri elde etmek için 1000 ile çarptım.\n",
    "# Max ve Min değerleri aynı olmasın diye içerisinde üzeri yazan değerlerin üst sınırını 60000 tl aldım.\n",
    "num2=[]\n",
    "for i in range(0,len(num)):\n",
    "    if num[i][0]==\"nan\":\n",
    "        num2.append(0)\n",
    "    elif (num[i][3])=='üzeri':\n",
    "        num2.append(60000.0)\n",
    "    else:\n",
    "        num2.append(float(num[i][3])*1000)"
   ]
  },
  {
   "cell_type": "code",
   "execution_count": null,
   "id": "f02a7909-e776-46a1-a6ba-038369bc469c",
   "metadata": {},
   "outputs": [],
   "source": [
    "#veri setimize min tl ve max tl kazançlarını gösteren kolonları ekledik.\n",
    "df[\"MIN_TL\"]=num1\n",
    "\n",
    "df[\"MAX_TL\"]=num2"
   ]
  },
  {
   "cell_type": "code",
   "execution_count": null,
   "id": "de366ce5-a4bb-44a6-927c-fc33d11be807",
   "metadata": {},
   "outputs": [],
   "source": [
    "#TL dışındaki para birimlerini parçaladım.\n",
    "cur=[]\n",
    "\n",
    "for item in df[\"SALARY_FOR_OTHER_CURRENCY\"]:\n",
    "    if item:\n",
    "        cur.append(str(item).split(\" \"))"
   ]
  },
  {
   "cell_type": "code",
   "execution_count": null,
   "id": "fa6c058b-994b-4b5d-8508-f582bb783b1b",
   "metadata": {},
   "outputs": [],
   "source": [
    "#Döviz tipi min maaş bilgilerini çektim.1000 ile çarptım. yanlış girilen 1.0 YERİNE 1000 döviz birimini aynı bıraktım\n",
    "cur1=[]\n",
    "for i in range(0,len(cur)):\n",
    "    if cur[i][0]==\"nan\":\n",
    "        cur1.append(0)\n",
    "    elif cur[i][0]==\"1000\":\n",
    "        cur1.append(float(cur[i][0]))\n",
    "    else:\n",
    "        cur1.append(float(cur[i][0])*1000)"
   ]
  },
  {
   "cell_type": "code",
   "execution_count": null,
   "id": "2037a4c7-2495-494f-bb6e-732856723b0a",
   "metadata": {},
   "outputs": [],
   "source": [
    "#Döviz tipi max maaş bilgilerini çektim.1000 ile çarptım. Üst sınırı 10999 kabul ettim.(TL de 60000 almıştım.)\n",
    "cur2=[]\n",
    "for i in range(0,len(cur)):\n",
    "    if cur[i][0]==\"nan\":\n",
    "        cur2.append(0)\n",
    "    elif (cur[i][2])=='üzeri':\n",
    "        cur2.append(10999)#float(cur[i][0])\n",
    "    else:\n",
    "        cur2.append(float(cur[i][2])*1000)"
   ]
  },
  {
   "cell_type": "code",
   "execution_count": null,
   "id": "1390c687-a534-479e-8dc0-46152aec245d",
   "metadata": {},
   "outputs": [],
   "source": [
    "df[\"CUR_MIN\"]=cur1\n",
    "df[\"CUR_MAX\"]=cur2"
   ]
  },
  {
   "cell_type": "code",
   "execution_count": null,
   "id": "d7b47b90-f2b5-400a-ac36-feb72bc8ea01",
   "metadata": {},
   "outputs": [],
   "source": [
    "df.head()"
   ]
  },
  {
   "cell_type": "code",
   "execution_count": null,
   "id": "aad96acb-8adb-4a0c-bb52-54a0670cbc85",
   "metadata": {},
   "outputs": [],
   "source": [
    "#bu işlemlerle kazanılan miktarı sayısal bir değişken yapmış olduk.\n",
    "df.info()"
   ]
  },
  {
   "cell_type": "code",
   "execution_count": null,
   "id": "b08bb51b-c5b5-4aab-83a0-4e762d182d6b",
   "metadata": {},
   "outputs": [],
   "source": [
    "#12 Aralık 2022 tarihli Sterlin Dolar ve Euro kurlarıyla Döviz cinsi TL ye çevrildi.\n",
    "# >>>>Bu değerler 0 olan MIN_TL lere atandı.\n",
    "#bu şekilde tüm maaş değerleri TL olarak kıyaslanabilecek noktasına geldik.\n",
    "(df.loc[df[\"CURRENCY\"]==\"£ - Sterlin\",\"MIN_TL\"])=(df.loc[df[\"CURRENCY\"]==\"£ - Sterlin\"][\"CUR_MIN\"]*22.56)\n",
    "(df.loc[df[\"CURRENCY\"]==\"$ - Dolar\",\"MIN_TL\"])=(df.loc[df[\"CURRENCY\"]==\"$ - Dolar\"][\"CUR_MIN\"]*18.63)\n",
    "(df.loc[df[\"CURRENCY\"]==\"€ - Euro\",\"MIN_TL\"])=(df.loc[df[\"CURRENCY\"]==\"€ - Euro\"][\"CUR_MIN\"]*19.47)"
   ]
  },
  {
   "cell_type": "code",
   "execution_count": null,
   "id": "4ed78fc2-8b0d-4695-a979-83d5be8e7b2c",
   "metadata": {},
   "outputs": [],
   "source": [
    "#BENZER İŞLEMİ MAX_TL İÇİN DE YAPIYORUZ\n",
    "(df.loc[df[\"CURRENCY\"]==\"£ - Sterlin\",\"MAX_TL\"])=(df.loc[df[\"CURRENCY\"]==\"£ - Sterlin\"][\"CUR_MAX\"]*22.56)+(df.loc[df[\"CURRENCY\"]==\"£ - Sterlin\"][\"MAX_TL\"])\n",
    "(df.loc[df[\"CURRENCY\"]==\"$ - Dolar\",\"MAX_TL\"])=(df.loc[df[\"CURRENCY\"]==\"$ - Dolar\"][\"CUR_MAX\"]*18.63)+(df.loc[df[\"CURRENCY\"]==\"$ - Dolar\"][\"MAX_TL\"])\n",
    "(df.loc[df[\"CURRENCY\"]==\"€ - Euro\",\"MAX_TL\"])=(df.loc[df[\"CURRENCY\"]==\"€ - Euro\"][\"CUR_MAX\"]*19.47)+(df.loc[df[\"CURRENCY\"]==\"€ - Euro\"][\"MAX_TL\"])"
   ]
  },
  {
   "cell_type": "code",
   "execution_count": null,
   "id": "0c342403-5c38-4883-90a8-10c9ab169c1a",
   "metadata": {},
   "outputs": [],
   "source": [
    "df.head()"
   ]
  },
  {
   "cell_type": "code",
   "execution_count": null,
   "id": "7ce9f0f0-a54a-4b61-a454-c7faed408034",
   "metadata": {},
   "outputs": [],
   "source": [
    "df.info()"
   ]
  },
  {
   "cell_type": "code",
   "execution_count": null,
   "id": "97fff282-179b-4254-9f28-c09e657864dc",
   "metadata": {},
   "outputs": [],
   "source": [
    "df.describe().T"
   ]
  },
  {
   "cell_type": "code",
   "execution_count": null,
   "id": "30ac9b05-3525-40f7-8282-c481f5d9e315",
   "metadata": {},
   "outputs": [],
   "source": [
    "df.isnull().sum()"
   ]
  },
  {
   "cell_type": "code",
   "execution_count": null,
   "id": "2b10f05c-1302-4ce0-bbd2-87880b80b126",
   "metadata": {},
   "outputs": [],
   "source": [
    "df.loc[df[\"MIN_TL\"]==df[\"MIN_TL\"].min()].index"
   ]
  },
  {
   "cell_type": "code",
   "execution_count": null,
   "id": "9ba1d7c8-aa14-4d00-a90d-44ce5668cf45",
   "metadata": {},
   "outputs": [],
   "source": [
    "#maaş bilgisi hiç girilmemiş kişileri sildik.\n",
    "df=df.drop(df.loc[df[\"MIN_TL\"]==df[\"MIN_TL\"].min()].index)"
   ]
  },
  {
   "cell_type": "code",
   "execution_count": null,
   "id": "39a3e3fa-a5fc-459f-9519-1f197168e80e",
   "metadata": {},
   "outputs": [],
   "source": [
    "df.describe().T"
   ]
  },
  {
   "cell_type": "code",
   "execution_count": null,
   "id": "0c58352e-cdc1-46e3-b180-ccc2b607d08f",
   "metadata": {},
   "outputs": [],
   "source": []
  },
  {
   "cell_type": "code",
   "execution_count": null,
   "id": "977b64d5-7a61-40bf-81f9-7c904954d4e2",
   "metadata": {},
   "outputs": [],
   "source": [
    "df.head()"
   ]
  },
  {
   "cell_type": "code",
   "execution_count": null,
   "id": "ecaba02e-64df-4a42-8700-f0ca15a641ca",
   "metadata": {
    "tags": []
   },
   "outputs": [],
   "source": [
    "def grab_col_names(dataframe, cat_th=15, car_th=20):\n",
    "    \"\"\"\n",
    "\n",
    "    Veri setindeki kategorik, numerik ve kategorik fakat kardinal değişkenlerin isimlerini verir.\n",
    "    Not: Kategorik değişkenlerin içerisine numerik görünümlü kategorik değişkenler de dahildir.\n",
    "\n",
    "    Parameters\n",
    "    ------\n",
    "        dataframe: dataframe\n",
    "                Değişken isimleri alınmak istenilen dataframe\n",
    "        cat_th: int, optional\n",
    "                numerik fakat kategorik olan değişkenler için sınıf eşik değeri\n",
    "        car_th: int, optinal\n",
    "                kategorik fakat kardinal değişkenler için sınıf eşik değeri\n",
    "\n",
    "    Returns\n",
    "    ------\n",
    "        cat_cols: list\n",
    "                Kategorik değişken listesi\n",
    "        num_cols: list\n",
    "                Numerik değişken listesi\n",
    "        cat_but_car: list\n",
    "                Kategorik görünümlü kardinal değişken listesi\n",
    "\n",
    "    Examples\n",
    "    ------\n",
    "        import seaborn as sns\n",
    "        df = sns.load_dataset(\"iris\")\n",
    "        print(grab_col_names(df))\n",
    "\n",
    "\n",
    "    Notes\n",
    "    ------\n",
    "        cat_cols + num_cols + cat_but_car = toplam değişken sayısı\n",
    "        num_but_cat cat_cols'un içerisinde.\n",
    "        Return olan 3 liste toplamı toplam değişken sayısına eşittir: cat_cols + num_cols + cat_but_car = değişken sayısı\n",
    "\n",
    "    \"\"\"\n",
    "\n",
    "    # cat_cols, cat_but_car\n",
    "    cat_cols = [col for col in dataframe.columns if dataframe[col].dtypes == \"O\"]\n",
    "    num_but_cat = [col for col in dataframe.columns if dataframe[col].nunique() < cat_th and\n",
    "                   dataframe[col].dtypes != \"O\"]\n",
    "    cat_but_car = [col for col in dataframe.columns if dataframe[col].nunique() > car_th and\n",
    "                   dataframe[col].dtypes == \"O\"]\n",
    "    cat_cols = cat_cols + num_but_cat\n",
    "    cat_cols = [col for col in cat_cols if col not in cat_but_car]\n",
    "\n",
    "    # num_cols\n",
    "    num_cols = [col for col in dataframe.columns if dataframe[col].dtypes != \"O\"]\n",
    "    num_cols = [col for col in num_cols if col not in num_but_cat]\n",
    "\n",
    "    print(f\"Observations: {dataframe.shape[0]}\")\n",
    "    print(f\"Variables: {dataframe.shape[1]}\")\n",
    "    print(f'cat_cols: {len(cat_cols)}')\n",
    "    print(f'num_cols: {len(num_cols)}')\n",
    "    print(f'cat_but_car: {len(cat_but_car)}')\n",
    "    print(f'num_but_cat: {len(num_but_cat)}')\n",
    "    return cat_cols, num_cols, cat_but_car, num_but_cat"
   ]
  },
  {
   "cell_type": "code",
   "execution_count": null,
   "id": "a454214a-6575-4400-ae40-aa16a64ee446",
   "metadata": {},
   "outputs": [],
   "source": [
    "cat_cols, num_cols, cat_but_car, num_but_cat= grab_col_names(df)"
   ]
  },
  {
   "cell_type": "code",
   "execution_count": null,
   "id": "2ff205c0-1174-40b6-818e-91924c1dfc62",
   "metadata": {},
   "outputs": [],
   "source": [
    "def cat_summary(dataframe, col_name, plot=True):\n",
    "    print(pd.DataFrame({col_name: dataframe[col_name].value_counts(),\n",
    "                        \"Ratio\": 100 * dataframe[col_name].value_counts() / len(dataframe)}))\n",
    "    print(\"##########################################\")\n",
    "    if plot:\n",
    "        sns.countplot(x=dataframe[col_name], data=dataframe) #gorsellestirmek istiyorsak yukarıdaki \"plot=False\"u True yaparız\n",
    "        plt.show()"
   ]
  },
  {
   "cell_type": "code",
   "execution_count": null,
   "id": "85746b3b-4d6d-4143-ab32-89b8919515e6",
   "metadata": {
    "tags": []
   },
   "outputs": [],
   "source": [
    "for col in cat_cols:\n",
    "    cat_summary(df, col)"
   ]
  },
  {
   "cell_type": "code",
   "execution_count": null,
   "id": "40243853-512f-4805-a052-777dca6f21dc",
   "metadata": {},
   "outputs": [],
   "source": [
    "#GENDER daire grafigi yüzdelik\n",
    "labels = (\"Erkek\", \"Kadın\")\n",
    "sizes = [4497/5030, 533/5030]\n",
    "plt.pie(sizes, labels=labels, autopct='%1.2f%%')\n",
    "plt.title(\"Percent of GENDER\")\n",
    "plt.show()"
   ]
  },
  {
   "cell_type": "code",
   "execution_count": null,
   "id": "0e9a6e40-6f61-49c3-aba1-bc7a9d3d7d70",
   "metadata": {},
   "outputs": [],
   "source": [
    "#POSİTION SAYILARININ DAĞILIMI\n",
    "\n",
    "df[\"POSITION\"].value_counts().plot(kind='bar')\n",
    "plt.title(\"Count of POSITION\")\n",
    "plt.show(block=True)"
   ]
  },
  {
   "cell_type": "code",
   "execution_count": null,
   "id": "bd5cac1c-e492-42cd-9874-8809307aac6c",
   "metadata": {},
   "outputs": [],
   "source": [
    "df[\"COMPANY\"].value_counts().plot(kind=\"bar\")\n",
    "plt.title(\"WHICH COMPANY\")\n",
    "plt.show(block=True)"
   ]
  },
  {
   "cell_type": "code",
   "execution_count": null,
   "id": "30b63170-3c56-4891-848a-7135ceb39995",
   "metadata": {},
   "outputs": [],
   "source": [
    "#WORK_TYPE LEVEL KIRILIMINDA DEĞERLERİ\n",
    "df.groupby([\"WORK_TYPE\", \"LEVEL\"]).agg({\"LEVEL\": \"count\"})"
   ]
  },
  {
   "cell_type": "code",
   "execution_count": null,
   "id": "99611fc7-bc4e-4fae-abdc-30edeead8c1e",
   "metadata": {},
   "outputs": [],
   "source": [
    "#POZİSYONLARIN CİNSİYET KIRILIMINDA DEĞERLERİ\n",
    "df.groupby([\"POSITION\", \"GENDER\"]).agg({\"POSITION\": \"count\"})"
   ]
  },
  {
   "cell_type": "code",
   "execution_count": null,
   "id": "112b1d45-642a-4c77-ae4e-1409cb53e466",
   "metadata": {},
   "outputs": [],
   "source": [
    "#POZİSYONLARIN LEVEL KIRILIMINDA MIN MAX MAAŞLAR VE POZİSYONDA ÇALIŞAN SAYISI\n",
    "df.groupby([\"POSITION\",\"LEVEL\"]).agg({\"MIN_TL\": \"mean\", \"MAX_TL\": \"mean\",\"POSITION\":\"count\"})"
   ]
  },
  {
   "cell_type": "code",
   "execution_count": null,
   "id": "4e08d125-27e5-4766-812c-fd3d50391843",
   "metadata": {},
   "outputs": [],
   "source": [
    "#LEVEL IN WORK_TYPE KIRILIMINDA MIN MAX DEĞERLERİ VE SAYILARI\n",
    "df.groupby([\"LEVEL\",\"WORK_TYPE\"]).agg({\"MIN_TL\": \"mean\", \"MAX_TL\": \"mean\",\"WORK_TYPE\":\"count\"})"
   ]
  },
  {
   "cell_type": "code",
   "execution_count": null,
   "id": "e83d7a27-2ddd-41bd-a05b-4f6c6bf479c4",
   "metadata": {},
   "outputs": [],
   "source": []
  },
  {
   "cell_type": "code",
   "execution_count": null,
   "id": "56c7c95d-860c-4e5a-bc6a-605e0693da75",
   "metadata": {},
   "outputs": [],
   "source": [
    "df.info()"
   ]
  },
  {
   "cell_type": "code",
   "execution_count": null,
   "id": "a7ec50fb-c4f4-4300-b43c-2f3feccc8d70",
   "metadata": {},
   "outputs": [],
   "source": [
    "#TARGET degiskenimizi olusturuyoruz\n",
    "df[\"SALARY_AVG_TL\"] = (df[\"MIN_TL\"] + df[\"MAX_TL\"]) / 2\n",
    "df[\"SALARY_AVG_TL\"] = df[\"SALARY_AVG_TL\"].astype(\"int\")"
   ]
  },
  {
   "cell_type": "code",
   "execution_count": null,
   "id": "acc809ce-ccc5-4f15-8aea-416664f1b76f",
   "metadata": {},
   "outputs": [],
   "source": [
    "df.columns"
   ]
  },
  {
   "cell_type": "code",
   "execution_count": null,
   "id": "82de66bb-6d8a-4599-ab16-6530529fe4f1",
   "metadata": {},
   "outputs": [],
   "source": [
    "df.head()"
   ]
  },
  {
   "cell_type": "code",
   "execution_count": null,
   "id": "c3b5a426-7b07-4259-83fb-2f164745c287",
   "metadata": {},
   "outputs": [],
   "source": [
    "df[\"CITY\"].unique()"
   ]
  },
  {
   "cell_type": "code",
   "execution_count": null,
   "id": "9399044b-e50a-4454-acb9-a22d1cbf8bd7",
   "metadata": {},
   "outputs": [],
   "source": [
    "#Şehirleri yurt dışı ve yurt içi olarak güncelleyelim\n",
    "ydisi=['Yurt Dışı', 'Sydney', 'Krakow', 'Miami', 'İngiltere', 'Düsseldorf ', 'Köln', 'Amsterdam', 'Belçika', 'Stuttgart ', 'Luxembourg', 'Utrecht', 'Isviçre', 'Seattle',\n",
    "       'Nürnberg', 'San Fransisco', 'Londra', 'Stokholm', 'Tallinn', 'ABD', 'Berlin', 'Washington', 'amsterdam', 'Singapur', 'Kaliforniya', 'Ukrayna ', 'Paris', 'İtalya', \n",
    "       'Londra ', 'Letonya', 'Dubai', 'Berlin ', 'Indianapolis', 'costarica', 'Bratislava ', 'Zurich', 'Sofia', 'Dublin', 'Almanya', 'İsviçre', 'Kiev', 'Los Angeles', 'Kopenhag ', 'texas',\n",
    "       'Palo Alto', 'Amsterdam ', 'New York', 'KKTC', 'MISIR', 'Montreuil', 'Helsinki', 'Varşova', 'Irvine', 'Brüksel', 'Kuzey Amerika', 'Oslo', 'Münih', 'Connecticut']"
   ]
  },
  {
   "cell_type": "code",
   "execution_count": null,
   "id": "1e3f9199-8b79-4823-86b6-cf06f9408e83",
   "metadata": {},
   "outputs": [],
   "source": [
    "for j in ydisi:\n",
    "    df[df[\"CITY\"] == j]\n",
    "    for i in df[df[\"CITY\"] == j].index:\n",
    "        df[\"CITY\"][i] = \"yurt_disi\""
   ]
  },
  {
   "cell_type": "code",
   "execution_count": null,
   "id": "ddd2c068-a206-4dc2-8251-104f833025e6",
   "metadata": {},
   "outputs": [],
   "source": [
    "for i in df[df[\"CITY\"]!=\"yurt_disi\"].index:\n",
    "    df[\"CITY\"][i] = \"yurt_ici\""
   ]
  },
  {
   "cell_type": "code",
   "execution_count": null,
   "id": "79b1a2a2-d7ea-4d67-90ef-0b06819ec5d2",
   "metadata": {},
   "outputs": [],
   "source": [
    "df[\"CITY\"].unique()"
   ]
  },
  {
   "cell_type": "code",
   "execution_count": null,
   "id": "a628ebae-c7fd-4a44-bd29-2fdf9ebf856d",
   "metadata": {},
   "outputs": [],
   "source": [
    "df.head()"
   ]
  },
  {
   "cell_type": "code",
   "execution_count": null,
   "id": "819bce2a-fdaa-4ce7-9a5d-9e76f0bc7580",
   "metadata": {},
   "outputs": [],
   "source": [
    "#kullanmayacagımız degiskenleri df'ten cıkarıyorum\n",
    "silcols=[\"TECH_STACK\", \"COMPANY_SIZE\", \"SALARY_FOR_OTHER_CURRENCY\", \"SALARY_FOR_TL_CURRENCY\", \"MIN_TL\", \"MAX_TL\", \"CUR_MIN\", \"CUR_MAX\"]"
   ]
  },
  {
   "cell_type": "code",
   "execution_count": null,
   "id": "8eba9c06-ea36-459d-a4d8-b5bf150d3a62",
   "metadata": {},
   "outputs": [],
   "source": [
    "df.drop(silcols, axis=1, inplace=True)"
   ]
  },
  {
   "cell_type": "code",
   "execution_count": null,
   "id": "15a80ca6-ab6d-49d1-8e62-73a683a45da4",
   "metadata": {},
   "outputs": [],
   "source": [
    "df.head()"
   ]
  },
  {
   "cell_type": "code",
   "execution_count": null,
   "id": "f83ae0a1-4628-4fcd-b582-3cee6f9ae6ba",
   "metadata": {},
   "outputs": [],
   "source": [
    "df.info()"
   ]
  },
  {
   "cell_type": "code",
   "execution_count": null,
   "id": "47f4de99-a098-4056-ba74-7098893f6382",
   "metadata": {},
   "outputs": [],
   "source": [
    "cat_cols, num_cols, cat_but_car, num_but_cat= grab_col_names(df)"
   ]
  },
  {
   "cell_type": "code",
   "execution_count": null,
   "id": "9b69de0a-6972-49e3-9061-1bb90a7293ff",
   "metadata": {},
   "outputs": [],
   "source": [
    "cat_cols"
   ]
  },
  {
   "cell_type": "code",
   "execution_count": null,
   "id": "0a3ce01e-d194-4681-85f3-1a48ee6199a4",
   "metadata": {},
   "outputs": [],
   "source": [
    "df[cat_cols].nunique()"
   ]
  },
  {
   "cell_type": "code",
   "execution_count": null,
   "id": "02a583d1-1036-4e46-8f4a-68c034af1b03",
   "metadata": {},
   "outputs": [],
   "source": [
    "# Sınıflar arası fark varsa (ordinal kategorik değişkenler)- Label Encoding\n",
    "#le_cols = [\"LEVEL\", \"EXPERIENCE\"]\n",
    "\n",
    "# Sınıflar arası fark yoksa (nominal kategorik değişkenler) - One Hot Encoding\n",
    "#ohe_cols = [\"POSITION\", \"GENDER\", \"COMPANY\", \"WORK_TYPE\", \"CITY\"]"
   ]
  },
  {
   "cell_type": "code",
   "execution_count": null,
   "id": "daa9a38a-2427-43e4-96b8-c62e20c3dfe8",
   "metadata": {},
   "outputs": [],
   "source": [
    "#kategorik degiskenlerde bicimlendirme yapıyoruz\n",
    "def one_hot_encoder(dataframe, categorical_cols, drop_first=False):\n",
    "    dataframe = pd.get_dummies(dataframe, columns=categorical_cols, drop_first=drop_first)\n",
    "    return dataframe\n",
    "#drop_first=True yaparsak label encoder olarak kullanabiliriz,iki sınıflı kategorik degiskenleri de label encoder a sokabiliyor olacak"
   ]
  },
  {
   "cell_type": "code",
   "execution_count": null,
   "id": "eb876bbc-5b65-4110-b940-f3ab328005d3",
   "metadata": {},
   "outputs": [],
   "source": [
    "df = one_hot_encoder(df, cat_cols, drop_first=True)"
   ]
  },
  {
   "cell_type": "code",
   "execution_count": null,
   "id": "f323041e-d3b7-46c1-9766-b3e1fcb1dcc6",
   "metadata": {},
   "outputs": [],
   "source": [
    "df.head()"
   ]
  },
  {
   "cell_type": "code",
   "execution_count": null,
   "id": "f6d60ca7-cac2-4aa8-9d41-fb7712cdfcdd",
   "metadata": {},
   "outputs": [],
   "source": [
    "#SÜTUN İSİMLERİ EKRAN GİRİŞ MODÜLÜNE GÖRE TEKRARDAN SIRALANDI\n",
    "df = df[['SALARY_AVG_TL', 'LEVEL_Middle', 'LEVEL_Senior', 'POSITION_FULL STACK DEVELOPER','POSITION_FRONT-END DEVELOPER', 'POSITION_MOBILE APPLICATION DEVELOPER', 'POSITION_TEAM / TECH LEAD', 'POSITION_DATA SCIENTIST', 'POSITION_SOFTWARE DEVELOPMENT MANAGER', 'POSITION_SOFTWARE ARCHITECT', 'POSITION_EMBEDDED SOFTWARE DEVELOPER', 'POSITION_DEVOPS ENGINEER', 'POSITION_QA / TEST AUTOMATION DEVELOPER', 'POSITION_GAME DEVELOPER', 'POSITION_CTO', 'POSITION_DATABASE ADMIN', 'POSITION_OTHERS', 'EXPERIENCE_1 - 3 Yıl', 'EXPERIENCE_10 - 14 Yıl', 'EXPERIENCE_15 Yıl ve üzeri', 'EXPERIENCE_3 - 5 Yıl', 'EXPERIENCE_5 - 7 Yıl', 'EXPERIENCE_7 - 10 Yıl', 'GENDER_Kadın', 'COMPANY_Kurumsal', 'COMPANY_Startup', 'COMPANY_E-Ticaret', 'COMPANY_Outsource', 'COMPANY_Dijital / Reklam Ajansı', 'COMPANY_Oyun', 'COMPANY_Yazılım & Teknoloji', 'COMPANY_Fintech / Finans', 'WORK_TYPE_Remote', 'WORK_TYPE_Hibrit', 'WORK_TYPE_Ofis', 'WORK_TYPE_Geçici Remote', 'CITY_yurt_ici', 'CURRENCY_₺ - Türk Lirası', 'CURRENCY_€ - Euro', 'CURRENCY_£ - Sterlin']]\n",
    "df.head()"
   ]
  },
  {
   "cell_type": "code",
   "execution_count": null,
   "id": "de00b0e8-5651-4b47-8613-e9f38fb4377f",
   "metadata": {},
   "outputs": [],
   "source": [
    "df.columns"
   ]
  },
  {
   "cell_type": "code",
   "execution_count": null,
   "id": "503e2122-2644-4ab9-b541-d5e39d078344",
   "metadata": {
    "collapsed": true,
    "jupyter": {
     "outputs_hidden": true
    },
    "tags": []
   },
   "outputs": [],
   "source": [
    "def check_df(dataframe, head=5):\n",
    "    print(\"##################### Shape #####################\")\n",
    "    print(dataframe.shape)\n",
    "    print(\"##################### Types #####################\")\n",
    "    print(dataframe.dtypes)\n",
    "    print(\"##################### Head #####################\")\n",
    "    print(dataframe.head(head))\n",
    "    print(\"##################### Tail #####################\")\n",
    "    print(dataframe.tail(head))\n",
    "    print(\"##################### NA #####################\")\n",
    "    print(dataframe.isnull().sum())\n",
    "    print(\"##################### Quantiles #####################\")\n",
    "    print(dataframe.quantile([0, 0.05, 0.50, 0.95, 0.99, 1]).T)\n",
    "\n",
    "check_df(df)\n"
   ]
  },
  {
   "cell_type": "code",
   "execution_count": null,
   "id": "86340b78-13c6-4442-baee-d90cc735e232",
   "metadata": {},
   "outputs": [],
   "source": [
    "#MODEL KURMA"
   ]
  },
  {
   "cell_type": "code",
   "execution_count": null,
   "id": "3ee47b35-2cf3-4afe-8579-0642662ea716",
   "metadata": {},
   "outputs": [],
   "source": [
    "#Bagımlı ve bagımsız degiskenlerimizi ayırıyoruz\n",
    "y = df[\"SALARY_AVG_TL\"]\n",
    "X = df.drop([\"SALARY_AVG_TL\"], axis=1)"
   ]
  },
  {
   "cell_type": "code",
   "execution_count": null,
   "id": "2dedd063-7b63-4ace-9273-11d2600e67cc",
   "metadata": {
    "tags": []
   },
   "outputs": [],
   "source": [
    "# Degiskenlerin önem düzeyini belirten feature importance\n",
    "def plot_importance(model, features, num=len(X), save=False):\n",
    "\n",
    "    feature_imp = pd.DataFrame({\"Value\": model.feature_importances_, \"Feature\": features.columns})\n",
    "    plt.figure(figsize=(10, 10))\n",
    "    sns.set(font_scale=1)\n",
    "    sns.barplot(x=\"Value\", y=\"Feature\", data=feature_imp.sort_values(by=\"Value\", ascending=False)[0:num])\n",
    "    plt.title(\"Features\")\n",
    "    plt.tight_layout()\n",
    "    plt.show()\n",
    "    if save:\n",
    "        plt.savefig(\"importances.png\")\n",
    "\n",
    "model = LGBMRegressor()\n",
    "model.fit(X, y)\n",
    "\n",
    "plot_importance(model, X)"
   ]
  },
  {
   "cell_type": "code",
   "execution_count": null,
   "id": "dc5d4f2a-f990-4c93-bdc4-c306af586a8f",
   "metadata": {},
   "outputs": [],
   "source": [
    "## Train verisi ile model kurup, model başarısını değerlendirelim\n",
    "X_train, X_test, y_train, y_test = train_test_split(X, y, test_size=0.25, random_state=17)"
   ]
  },
  {
   "cell_type": "code",
   "execution_count": null,
   "id": "90487f35-8afd-4c31-ad9a-f2ae5e7477c5",
   "metadata": {},
   "outputs": [],
   "source": [
    "#MODELRMSE DEGERLERİNE BAKALIM\n",
    "models = [('LR', LinearRegression()),\n",
    "          #(\"Ridge\", Ridge()),\n",
    "          #(\"Lasso\", Lasso()),\n",
    "          #(\"ElasticNet\", ElasticNet()),\n",
    "          ('KNN', KNeighborsRegressor()),\n",
    "          ('CART', DecisionTreeRegressor()),\n",
    "          ('RF', RandomForestRegressor()),\n",
    "          #('SVR', SVR()),\n",
    "          ('GBM', GradientBoostingRegressor()),\n",
    "          (\"XGBoost\", XGBRegressor(objective='reg:squarederror')),\n",
    "          (\"LightGBM\", LGBMRegressor())]\n",
    "          # (\"CatBoost\", CatBoostRegressor(verbose=False))]\n",
    "\n",
    "for name, regressor in models:\n",
    "    rmse = np.mean(np.sqrt(-cross_val_score(regressor, X_train, y_train, cv=5, scoring=\"neg_mean_squared_error\")))\n",
    "    print(f\"RMSE: {round(rmse, 4)} ({name}) \")"
   ]
  },
  {
   "cell_type": "code",
   "execution_count": null,
   "id": "a00205b5-12ab-4e17-9769-dca57a70255a",
   "metadata": {},
   "outputs": [],
   "source": [
    "df['SALARY_AVG_TL'].mean()"
   ]
  },
  {
   "cell_type": "code",
   "execution_count": null,
   "id": "90e024c3-7c3e-4d7e-b72a-e4cb90f937e7",
   "metadata": {},
   "outputs": [],
   "source": [
    "df['SALARY_AVG_TL'].std()"
   ]
  },
  {
   "cell_type": "code",
   "execution_count": null,
   "id": "2f6a463e-d0b3-4d6a-9e0a-1619d808a7dc",
   "metadata": {
    "tags": []
   },
   "outputs": [],
   "source": [
    "#DecisionTreeRegressor() MODELİNİN R-SQUARED DEGERİNE BAKIYORUM\n",
    "model= DecisionTreeRegressor()\n",
    "model.fit(X_train, y_train)\n",
    "score = model.score(X_train, y_train)\n",
    "print(\"R-squared:\", score)\n"
   ]
  },
  {
   "cell_type": "code",
   "execution_count": null,
   "id": "e95cadff-a23b-4452-b12e-3993a110e7b0",
   "metadata": {
    "tags": []
   },
   "outputs": [],
   "source": [
    "#DECİSİON TREE REGRESSOR"
   ]
  },
  {
   "cell_type": "code",
   "execution_count": null,
   "id": "d1cd1cbe-01bd-4d05-9f93-5cdd9e1a8787",
   "metadata": {},
   "outputs": [],
   "source": [
    "#BURADA MODELİ X_TRAİN'DE MODELİ EGİTTİM, X_TEST'TE TAHMİN ETTİM\n",
    "model= DecisionTreeRegressor()\n",
    "model.fit(X_train, y_train)\n",
    "#y_pred=model.predict(df.drop([\"SALARY_AVG_TL\"], axis=1))\n",
    "y_pred = model.predict(X_test)\n",
    "y_pred"
   ]
  },
  {
   "cell_type": "code",
   "execution_count": null,
   "id": "9af3e8d4-f370-48de-ad28-26dd740012ec",
   "metadata": {
    "tags": []
   },
   "outputs": [],
   "source": [
    "#BU GRAFİKTE Y_TEST'TEKİ DEGERLER VE BUNLARIN TAHMİNLERİ VAR\n",
    "x_ax = range(len(y_test))\n",
    "plt.plot(x_ax, y_test, linewidth=1, label=\"original\")\n",
    "plt.plot(x_ax, y_pred, linewidth=1, label=\"predicted\")\n",
    "plt.title(\"Salary test and predicted data\")\n",
    "plt.xlabel('X-axis')\n",
    "plt.ylabel('Y-axis')\n",
    "plt.legend(loc='best',fancybox=True, shadow=True)\n",
    "plt.grid(True)\n",
    "plt.show()"
   ]
  },
  {
   "cell_type": "code",
   "execution_count": null,
   "id": "ef7dbfeb-95b4-485a-8bfa-3a9f4f8a507c",
   "metadata": {},
   "outputs": [],
   "source": [
    "#Y_TEST VE Y_PRED DEGERLERİMİZİ AYRI BİR DATAFRAME'DE YANYANA GÖRELİM\n",
    "veri=np.array(y_test)\n",
    "veri"
   ]
  },
  {
   "cell_type": "code",
   "execution_count": null,
   "id": "b4c87db4-e3cb-4fae-a9a3-cf69da7b2362",
   "metadata": {},
   "outputs": [],
   "source": [
    "y_pred"
   ]
  },
  {
   "cell_type": "code",
   "execution_count": null,
   "id": "3e8bfdf5-d22b-48c8-82a9-e6b246b2a2cb",
   "metadata": {},
   "outputs": [],
   "source": [
    "dff=pd.DataFrame(data=veri, columns=[\"y_test\"])\n",
    "dff\n",
    "dff[\"y_pred\"]=  pd.DataFrame(y_pred,columns = [\"y_pred\"])\n",
    "dff.head(40)"
   ]
  },
  {
   "cell_type": "code",
   "execution_count": null,
   "id": "23536362-24b8-439f-810f-897063fe8edd",
   "metadata": {},
   "outputs": [],
   "source": []
  },
  {
   "cell_type": "code",
   "execution_count": null,
   "id": "0047d778-4a69-451e-8859-304f4f361d6f",
   "metadata": {},
   "outputs": [],
   "source": [
    "#LOGİSTİCREGRESSİON MODELİNİ KURALIM"
   ]
  },
  {
   "cell_type": "code",
   "execution_count": null,
   "id": "77ca12e3-0bcf-41d5-b742-715a477b849a",
   "metadata": {},
   "outputs": [],
   "source": [
    "log_model = LogisticRegression().fit(X, y)\n",
    "\n",
    "log_model.intercept_  #sabit\n",
    "log_model.coef_ #bagımsız degiskenlerin agırlıkları\n",
    "\n",
    "\n",
    "y_pred = log_model.predict(X_test)#modeli kullanarak tahmin etme işlmei\n",
    "\n",
    "y_pred[0:10] #tahmin ettiklerimiz\n"
   ]
  },
  {
   "cell_type": "code",
   "execution_count": null,
   "id": "bb750720-12fb-4c9a-82df-effe91a6d684",
   "metadata": {},
   "outputs": [],
   "source": [
    "#Y_TEST VE Y_PRED DEGERLERİMİZİ AYRI BİR DATAFRAME'DE YANYANA GÖRELİM\n",
    "veri=np.array(y_test)\n",
    "veri"
   ]
  },
  {
   "cell_type": "code",
   "execution_count": null,
   "id": "18b32fde-be9d-4c78-bf51-af0981c37158",
   "metadata": {},
   "outputs": [],
   "source": [
    "df2=pd.DataFrame(data=veri, columns=[\"y_test\"])\n",
    "df2\n",
    "df2[\"y_pred\"]=  pd.DataFrame(y_pred,columns = [\"y_pred\"])\n",
    "df2.head(40)"
   ]
  },
  {
   "cell_type": "code",
   "execution_count": null,
   "id": "d42f6d35-a25a-4591-89f5-68adfb75a90d",
   "metadata": {
    "tags": []
   },
   "outputs": [],
   "source": []
  },
  {
   "cell_type": "code",
   "execution_count": null,
   "id": "219703b9-6a8f-470c-9e49-4bb23e87df6a",
   "metadata": {},
   "outputs": [],
   "source": [
    "#random_user = X.sample(1, random_state=45)\n",
    "#log_model.predict(random_user)"
   ]
  },
  {
   "cell_type": "code",
   "execution_count": null,
   "id": "a05b9c8f-62c7-4c67-ac87-6dc0351cba35",
   "metadata": {},
   "outputs": [],
   "source": []
  },
  {
   "cell_type": "code",
   "execution_count": null,
   "id": "3424f955-f634-426b-8a7f-68c4bf31f7e5",
   "metadata": {},
   "outputs": [],
   "source": []
  },
  {
   "cell_type": "code",
   "execution_count": null,
   "id": "dc7bbf35-36aa-4791-9fce-e32db9a2e5cd",
   "metadata": {},
   "outputs": [],
   "source": []
  },
  {
   "cell_type": "code",
   "execution_count": null,
   "id": "d1e8226c-e49c-4185-a4c5-6a190309f124",
   "metadata": {},
   "outputs": [],
   "source": [
    "#df.to_csv(\"step5.csv\")"
   ]
  },
  {
   "cell_type": "code",
   "execution_count": null,
   "id": "7e1d220c-e10a-4aa8-99fc-045975553314",
   "metadata": {},
   "outputs": [],
   "source": []
  }
 ],
 "metadata": {
  "kernelspec": {
   "display_name": "base",
   "language": "python",
   "name": "python3"
  },
  "language_info": {
   "codemirror_mode": {
    "name": "ipython",
    "version": 3
   },
   "file_extension": ".py",
   "mimetype": "text/x-python",
   "name": "python",
   "nbconvert_exporter": "python",
   "pygments_lexer": "ipython3",
   "version": "3.9.15"
  },
  "vscode": {
   "interpreter": {
    "hash": "ad2bdc8ecc057115af97d19610ffacc2b4e99fae6737bb82f5d7fb13d2f2c186"
   }
  }
 },
 "nbformat": 4,
 "nbformat_minor": 5
}
